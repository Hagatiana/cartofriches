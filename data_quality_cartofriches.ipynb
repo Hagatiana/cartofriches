{
 "cells": [
  {
   "cell_type": "markdown",
   "id": "1506d472-22be-490c-aa19-8fce0737d4ce",
   "metadata": {},
   "source": [
    "<div style=\"\n",
    "    background-color: #A3C1E1;\n",
    "    color: #1E1E1E;\n",
    "    padding: 15px;\n",
    "    border-radius: 10px;\n",
    "    font-size: 24px;\n",
    "    font-weight: bold;\n",
    "    text-align: center;\n",
    "    margin-bottom: 20px;\">\n",
    "     Audit qualité des données Cartofriches – Phase EDA & Nettoyage\n",
    "</div>"
   ]
  },
  {
   "cell_type": "markdown",
   "id": "70a5a404-5c1f-43b5-8b9c-d054ae0fc6ce",
   "metadata": {},
   "source": [
    "## I. Objectif  \n",
    "Cartofriche est une application recenssant les données des friches en France, celle ci se présentent sous deux formes, une carte interactive affichant:  \n",
    "• la liste des friches par zones et leur statuts avec projets en cours ou non. avec 14 986 données complétées. et des donnees interactives textuelles complétant les informations.  \n",
    "• Les données agrégées sous forme de tableau contenant 28115 lignes.  \n",
    "• Et enfin les données issues des différents observatoires. 7239 lignes  \n",
    "\n",
    "L'objectif de ce Notebook est de travailler sur la qualités des données, leur complétude les valeurs manquantes les doublons, et afin de préparer les données éventuellement pour les analyses statistiques et pour la modélisation.\n",
    "De comprendre les incohérences entre les quantités de données entre la carte et les tableaux.\n",
    "\n",
    "Problématique comment la qualité des données affecte l'éxpérience utilisateur et la pertinence de l'utilisation de l'application?"
   ]
  },
  {
   "cell_type": "code",
   "execution_count": 1,
   "id": "9f161593-d63b-4a75-a040-b310a20a1da8",
   "metadata": {
    "collapsed": true,
    "jupyter": {
     "outputs_hidden": true
    }
   },
   "outputs": [
    {
     "name": "stderr",
     "output_type": "stream",
     "text": [
      "C:\\Users\\rovar\\AppData\\Local\\Temp\\ipykernel_12336\\854608870.py:6: DtypeWarning: Columns (35) have mixed types. Specify dtype option on import or set low_memory=False.\n",
      "  df = pd.read_csv(r\"C:\\Users\\rovar\\Downloads\\friches-standard.csv\",sep = \";\")\n"
     ]
    }
   ],
   "source": [
    "import pandas as pd\n",
    "import numpy as np\n",
    "import matplotlib.pyplot as plt\n",
    "import seaborn as sns \n",
    "\n",
    "df = pd.read_csv(r\"C:\\Users\\rovar\\Downloads\\friches-standard.csv\",sep = \";\")"
   ]
  },
  {
   "cell_type": "markdown",
   "id": "a8f147ac-5023-4d1c-83e4-f6fb61f4f7fe",
   "metadata": {},
   "source": [
    "## Description des jeux de données \n",
    "les données cartofriche sont issues de data.gouv, \n",
    "Le dataset comprend les données issues:  \n",
    "• des données gouvernementales  \n",
    "• les données issues des observatoires "
   ]
  },
  {
   "cell_type": "markdown",
   "id": "c72b1b81-c8c3-44e3-9a20-e55a5ed0c77b",
   "metadata": {},
   "source": [
    "Le jeu de donnée gouvernementale comprend 50 colonnes \n",
    "'Afin de constituer une base nationale de pré-recensement des friches, le Cerema s'est appuyé sur deux sources de données :\n",
    "\n",
    "**BASOL** est une base de données nationale sur les sites et sols potentiellement pollués appelant une action des pouvoirs publics, produites par le Ministère de la Transition Ecologique ; les données utilisées sont issues du travail de consolidation de la base réalisé par le collectif Lou Dupont, et diffusé sur data.gouv.fr ;  \n",
    "**BASIAS** est une base de données de l’inventaire historique des sites industriels et activités de service, produites par le Ministère de la Transition Ecologique et le BRGM ;  les données utilisées sont également issues du travail de consolidation de la base réalisé par le collectif Lou Dupont, et diffusé sur data.gouv.fr.'  \n",
    "\n",
    "__ref__ https://artificialisation.developpement-durable.gouv.fr/agir-et-etre-accompagne/cartofriches/donnees-utilisees"
   ]
  },
  {
   "cell_type": "code",
   "execution_count": 128,
   "id": "2e5d404b-67d6-48ea-bc35-6617d44a63b8",
   "metadata": {},
   "outputs": [
    {
     "data": {
      "application/vnd.plotly.v1+json": {
       "config": {
        "plotlyServerURL": "https://plot.ly"
       },
       "data": [
        {
         "arrangement": "snap",
         "link": {
          "color": [
           "#D6D6D6",
           "#D6D6D6",
           "#D6D6D6",
           "#D6D6D6",
           "#D6D6D6",
           "#D6D6D6",
           "#D6D6D6",
           "#D6D6D6",
           "#D6D6D6",
           "#FFB3B3",
           "#FFB3B3",
           "#FFB3B3",
           "#FFB3B3",
           "#FFB3B3",
           "#D6D6D6",
           "#D6D6D6",
           "#D6D6D6",
           "#D6D6D6",
           "#D6D6D6",
           "#D6D6D6",
           "#D6D6D6",
           "#D6D6D6",
           "#D4EDB0",
           "#D4EDB0",
           "#D4EDB0",
           "#D6D6D6",
           "#D4EDB0",
           "#D4EDB0",
           "#D4EDB0",
           "#B3E5FC",
           "#B3E5FC",
           "#B3E5FC",
           "#B0E0C4",
           "#B0E0C4",
           "#FFB3B3",
           "#A3C1E1",
           "#A3C1E1",
           "#A3C1E1",
           "#A3C1E1",
           "#FFE0B2",
           "#FFE0B2",
           "#FFE0B2",
           "#FFE0B2",
           "#FFE0B2",
           "#FFE0B2",
           "#FFE0B2",
           "#D9B3FF",
           "#D9B3FF",
           "#D9B3FF",
           "#FFB3B3",
           "#D6D6D6",
           "#FFE0B2",
           "#B0E0C4",
           "#B0E0C4"
          ],
          "source": [
           0,
           0,
           0,
           0,
           0,
           1,
           1,
           1,
           1,
           2,
           2,
           2,
           2,
           2,
           3,
           3,
           3,
           3,
           3,
           4,
           4,
           5,
           5,
           5,
           5,
           5,
           6,
           6,
           6,
           7,
           7,
           7,
           7,
           7,
           8,
           9,
           9,
           9,
           9,
           10,
           10,
           10,
           10,
           10,
           11,
           11,
           12,
           12,
           12,
           13,
           13,
           13,
           13,
           13
          ],
          "target": [
           21,
           25,
           26,
           27,
           24,
           15,
           16,
           17,
           20,
           22,
           46,
           47,
           48,
           49,
           58,
           60,
           61,
           23,
           59,
           40,
           41,
           14,
           19,
           62,
           63,
           24,
           31,
           32,
           18,
           42,
           43,
           44,
           51,
           50,
           45,
           52,
           53,
           54,
           55,
           33,
           34,
           35,
           39,
           38,
           36,
           37,
           28,
           29,
           30,
           22,
           23,
           39,
           56,
           57
          ],
          "value": [
           1,
           1,
           1,
           1,
           1,
           1,
           1,
           1,
           1,
           1,
           1,
           1,
           1,
           1,
           1,
           1,
           1,
           1,
           1,
           1,
           1,
           1,
           1,
           1,
           1,
           1,
           1,
           1,
           1,
           1,
           1,
           1,
           1,
           1,
           1,
           1,
           1,
           1,
           1,
           1,
           1,
           1,
           1,
           1,
           1,
           1,
           1,
           1,
           1,
           1,
           1,
           1,
           1,
           1
          ]
         },
         "node": {
          "color": "lightblue",
          "label": [
           "ADEME",
           "BASIAS",
           "BASOL",
           "Observatoires locaux / Collectivités",
           "UrbanSIMUL",
           "Cartofriches (calcul interne)",
           "Commune / INSEE",
           "Fichiers fonciers",
           "GeoRisques",
           "Géoportail de l’urbanisme",
           "BDNB",
           "MAJIC",
           "Historique d'activité / ICPE",
           "Inconnue ou manuelle",
           "site_id",
           "site_nom",
           "site_type",
           "site_adresse",
           "site_identif_date",
           "site_actu_date",
           "site_url",
           "site_ademe_url",
           "site_securite",
           "site_occupation",
           "site_statut",
           "site_projet_url",
           "site_reconv_annee",
           "site_reconv_type",
           "activite_libelle",
           "activite_code",
           "activite_fin_annee",
           "comm_nom",
           "comm_insee",
           "bati_type",
           "bati_nombre",
           "bati_surface",
           "bati_pollution",
           "bati_vacance",
           "bati_patrimoine",
           "bati_etat",
           "local_ancien_annee",
           "local_recent_annee",
           "proprio_type",
           "proprio_personne",
           "proprio_nom",
           "sol_pollution_annee",
           "sol_pollution_existe",
           "sol_pollution_origine",
           "sol_pollution_commentaire",
           "sol_depollution_fiche",
           "unite_fonciere_surface",
           "unite_fonciere_refcad",
           "urba_zone_type",
           "urba_zone_lib",
           "urba_zone_formdomi",
           "urba_doc_type",
           "desserte_distance",
           "desserte_commentaire",
           "source_nom",
           "source_url",
           "source_producteur",
           "source_contact",
           "geompoint",
           "geomsurf"
          ],
          "line": {
           "color": "black",
           "width": 0.5
          },
          "pad": 30,
          "thickness": 10
         },
         "orientation": "h",
         "type": "sankey"
        },
        {
         "legendgroup": "Pollution",
         "marker": {
          "color": "#FFB3B3",
          "size": 10
         },
         "mode": "markers",
         "name": "Pollution",
         "showlegend": true,
         "type": "scatter",
         "x": [
          null
         ],
         "y": [
          null
         ]
        },
        {
         "legendgroup": "Urbanisme",
         "marker": {
          "color": "#A3C1E1",
          "size": 10
         },
         "mode": "markers",
         "name": "Urbanisme",
         "showlegend": true,
         "type": "scatter",
         "x": [
          null
         ],
         "y": [
          null
         ]
        },
        {
         "legendgroup": "Foncier",
         "marker": {
          "color": "#B0E0C4",
          "size": 10
         },
         "mode": "markers",
         "name": "Foncier",
         "showlegend": true,
         "type": "scatter",
         "x": [
          null
         ],
         "y": [
          null
         ]
        },
        {
         "legendgroup": "Bâti",
         "marker": {
          "color": "#FFE0B2",
          "size": 10
         },
         "mode": "markers",
         "name": "Bâti",
         "showlegend": true,
         "type": "scatter",
         "x": [
          null
         ],
         "y": [
          null
         ]
        },
        {
         "legendgroup": "Activité",
         "marker": {
          "color": "#D9B3FF",
          "size": 10
         },
         "mode": "markers",
         "name": "Activité",
         "showlegend": true,
         "type": "scatter",
         "x": [
          null
         ],
         "y": [
          null
         ]
        },
        {
         "legendgroup": "Propriété",
         "marker": {
          "color": "#B3E5FC",
          "size": 10
         },
         "mode": "markers",
         "name": "Propriété",
         "showlegend": true,
         "type": "scatter",
         "x": [
          null
         ],
         "y": [
          null
         ]
        },
        {
         "legendgroup": "Métadonnées",
         "marker": {
          "color": "#D6D6D6",
          "size": 10
         },
         "mode": "markers",
         "name": "Métadonnées",
         "showlegend": true,
         "type": "scatter",
         "x": [
          null
         ],
         "y": [
          null
         ]
        },
        {
         "legendgroup": "Géographie",
         "marker": {
          "color": "#D4EDB0",
          "size": 10
         },
         "mode": "markers",
         "name": "Géographie",
         "showlegend": true,
         "type": "scatter",
         "x": [
          null
         ],
         "y": [
          null
         ]
        }
       ],
       "layout": {
        "font": {
         "color": "black",
         "size": 10
        },
        "height": 800,
        "paper_bgcolor": "white",
        "plot_bgcolor": "white",
        "template": {
         "data": {
          "bar": [
           {
            "error_x": {
             "color": "#2a3f5f"
            },
            "error_y": {
             "color": "#2a3f5f"
            },
            "marker": {
             "line": {
              "color": "#E5ECF6",
              "width": 0.5
             },
             "pattern": {
              "fillmode": "overlay",
              "size": 10,
              "solidity": 0.2
             }
            },
            "type": "bar"
           }
          ],
          "barpolar": [
           {
            "marker": {
             "line": {
              "color": "#E5ECF6",
              "width": 0.5
             },
             "pattern": {
              "fillmode": "overlay",
              "size": 10,
              "solidity": 0.2
             }
            },
            "type": "barpolar"
           }
          ],
          "carpet": [
           {
            "aaxis": {
             "endlinecolor": "#2a3f5f",
             "gridcolor": "white",
             "linecolor": "white",
             "minorgridcolor": "white",
             "startlinecolor": "#2a3f5f"
            },
            "baxis": {
             "endlinecolor": "#2a3f5f",
             "gridcolor": "white",
             "linecolor": "white",
             "minorgridcolor": "white",
             "startlinecolor": "#2a3f5f"
            },
            "type": "carpet"
           }
          ],
          "choropleth": [
           {
            "colorbar": {
             "outlinewidth": 0,
             "ticks": ""
            },
            "type": "choropleth"
           }
          ],
          "contour": [
           {
            "colorbar": {
             "outlinewidth": 0,
             "ticks": ""
            },
            "colorscale": [
             [
              0,
              "#0d0887"
             ],
             [
              0.1111111111111111,
              "#46039f"
             ],
             [
              0.2222222222222222,
              "#7201a8"
             ],
             [
              0.3333333333333333,
              "#9c179e"
             ],
             [
              0.4444444444444444,
              "#bd3786"
             ],
             [
              0.5555555555555556,
              "#d8576b"
             ],
             [
              0.6666666666666666,
              "#ed7953"
             ],
             [
              0.7777777777777778,
              "#fb9f3a"
             ],
             [
              0.8888888888888888,
              "#fdca26"
             ],
             [
              1,
              "#f0f921"
             ]
            ],
            "type": "contour"
           }
          ],
          "contourcarpet": [
           {
            "colorbar": {
             "outlinewidth": 0,
             "ticks": ""
            },
            "type": "contourcarpet"
           }
          ],
          "heatmap": [
           {
            "colorbar": {
             "outlinewidth": 0,
             "ticks": ""
            },
            "colorscale": [
             [
              0,
              "#0d0887"
             ],
             [
              0.1111111111111111,
              "#46039f"
             ],
             [
              0.2222222222222222,
              "#7201a8"
             ],
             [
              0.3333333333333333,
              "#9c179e"
             ],
             [
              0.4444444444444444,
              "#bd3786"
             ],
             [
              0.5555555555555556,
              "#d8576b"
             ],
             [
              0.6666666666666666,
              "#ed7953"
             ],
             [
              0.7777777777777778,
              "#fb9f3a"
             ],
             [
              0.8888888888888888,
              "#fdca26"
             ],
             [
              1,
              "#f0f921"
             ]
            ],
            "type": "heatmap"
           }
          ],
          "heatmapgl": [
           {
            "colorbar": {
             "outlinewidth": 0,
             "ticks": ""
            },
            "colorscale": [
             [
              0,
              "#0d0887"
             ],
             [
              0.1111111111111111,
              "#46039f"
             ],
             [
              0.2222222222222222,
              "#7201a8"
             ],
             [
              0.3333333333333333,
              "#9c179e"
             ],
             [
              0.4444444444444444,
              "#bd3786"
             ],
             [
              0.5555555555555556,
              "#d8576b"
             ],
             [
              0.6666666666666666,
              "#ed7953"
             ],
             [
              0.7777777777777778,
              "#fb9f3a"
             ],
             [
              0.8888888888888888,
              "#fdca26"
             ],
             [
              1,
              "#f0f921"
             ]
            ],
            "type": "heatmapgl"
           }
          ],
          "histogram": [
           {
            "marker": {
             "pattern": {
              "fillmode": "overlay",
              "size": 10,
              "solidity": 0.2
             }
            },
            "type": "histogram"
           }
          ],
          "histogram2d": [
           {
            "colorbar": {
             "outlinewidth": 0,
             "ticks": ""
            },
            "colorscale": [
             [
              0,
              "#0d0887"
             ],
             [
              0.1111111111111111,
              "#46039f"
             ],
             [
              0.2222222222222222,
              "#7201a8"
             ],
             [
              0.3333333333333333,
              "#9c179e"
             ],
             [
              0.4444444444444444,
              "#bd3786"
             ],
             [
              0.5555555555555556,
              "#d8576b"
             ],
             [
              0.6666666666666666,
              "#ed7953"
             ],
             [
              0.7777777777777778,
              "#fb9f3a"
             ],
             [
              0.8888888888888888,
              "#fdca26"
             ],
             [
              1,
              "#f0f921"
             ]
            ],
            "type": "histogram2d"
           }
          ],
          "histogram2dcontour": [
           {
            "colorbar": {
             "outlinewidth": 0,
             "ticks": ""
            },
            "colorscale": [
             [
              0,
              "#0d0887"
             ],
             [
              0.1111111111111111,
              "#46039f"
             ],
             [
              0.2222222222222222,
              "#7201a8"
             ],
             [
              0.3333333333333333,
              "#9c179e"
             ],
             [
              0.4444444444444444,
              "#bd3786"
             ],
             [
              0.5555555555555556,
              "#d8576b"
             ],
             [
              0.6666666666666666,
              "#ed7953"
             ],
             [
              0.7777777777777778,
              "#fb9f3a"
             ],
             [
              0.8888888888888888,
              "#fdca26"
             ],
             [
              1,
              "#f0f921"
             ]
            ],
            "type": "histogram2dcontour"
           }
          ],
          "mesh3d": [
           {
            "colorbar": {
             "outlinewidth": 0,
             "ticks": ""
            },
            "type": "mesh3d"
           }
          ],
          "parcoords": [
           {
            "line": {
             "colorbar": {
              "outlinewidth": 0,
              "ticks": ""
             }
            },
            "type": "parcoords"
           }
          ],
          "pie": [
           {
            "automargin": true,
            "type": "pie"
           }
          ],
          "scatter": [
           {
            "fillpattern": {
             "fillmode": "overlay",
             "size": 10,
             "solidity": 0.2
            },
            "type": "scatter"
           }
          ],
          "scatter3d": [
           {
            "line": {
             "colorbar": {
              "outlinewidth": 0,
              "ticks": ""
             }
            },
            "marker": {
             "colorbar": {
              "outlinewidth": 0,
              "ticks": ""
             }
            },
            "type": "scatter3d"
           }
          ],
          "scattercarpet": [
           {
            "marker": {
             "colorbar": {
              "outlinewidth": 0,
              "ticks": ""
             }
            },
            "type": "scattercarpet"
           }
          ],
          "scattergeo": [
           {
            "marker": {
             "colorbar": {
              "outlinewidth": 0,
              "ticks": ""
             }
            },
            "type": "scattergeo"
           }
          ],
          "scattergl": [
           {
            "marker": {
             "colorbar": {
              "outlinewidth": 0,
              "ticks": ""
             }
            },
            "type": "scattergl"
           }
          ],
          "scattermapbox": [
           {
            "marker": {
             "colorbar": {
              "outlinewidth": 0,
              "ticks": ""
             }
            },
            "type": "scattermapbox"
           }
          ],
          "scatterpolar": [
           {
            "marker": {
             "colorbar": {
              "outlinewidth": 0,
              "ticks": ""
             }
            },
            "type": "scatterpolar"
           }
          ],
          "scatterpolargl": [
           {
            "marker": {
             "colorbar": {
              "outlinewidth": 0,
              "ticks": ""
             }
            },
            "type": "scatterpolargl"
           }
          ],
          "scatterternary": [
           {
            "marker": {
             "colorbar": {
              "outlinewidth": 0,
              "ticks": ""
             }
            },
            "type": "scatterternary"
           }
          ],
          "surface": [
           {
            "colorbar": {
             "outlinewidth": 0,
             "ticks": ""
            },
            "colorscale": [
             [
              0,
              "#0d0887"
             ],
             [
              0.1111111111111111,
              "#46039f"
             ],
             [
              0.2222222222222222,
              "#7201a8"
             ],
             [
              0.3333333333333333,
              "#9c179e"
             ],
             [
              0.4444444444444444,
              "#bd3786"
             ],
             [
              0.5555555555555556,
              "#d8576b"
             ],
             [
              0.6666666666666666,
              "#ed7953"
             ],
             [
              0.7777777777777778,
              "#fb9f3a"
             ],
             [
              0.8888888888888888,
              "#fdca26"
             ],
             [
              1,
              "#f0f921"
             ]
            ],
            "type": "surface"
           }
          ],
          "table": [
           {
            "cells": {
             "fill": {
              "color": "#EBF0F8"
             },
             "line": {
              "color": "white"
             }
            },
            "header": {
             "fill": {
              "color": "#C8D4E3"
             },
             "line": {
              "color": "white"
             }
            },
            "type": "table"
           }
          ]
         },
         "layout": {
          "annotationdefaults": {
           "arrowcolor": "#2a3f5f",
           "arrowhead": 0,
           "arrowwidth": 1
          },
          "autotypenumbers": "strict",
          "coloraxis": {
           "colorbar": {
            "outlinewidth": 0,
            "ticks": ""
           }
          },
          "colorscale": {
           "diverging": [
            [
             0,
             "#8e0152"
            ],
            [
             0.1,
             "#c51b7d"
            ],
            [
             0.2,
             "#de77ae"
            ],
            [
             0.3,
             "#f1b6da"
            ],
            [
             0.4,
             "#fde0ef"
            ],
            [
             0.5,
             "#f7f7f7"
            ],
            [
             0.6,
             "#e6f5d0"
            ],
            [
             0.7,
             "#b8e186"
            ],
            [
             0.8,
             "#7fbc41"
            ],
            [
             0.9,
             "#4d9221"
            ],
            [
             1,
             "#276419"
            ]
           ],
           "sequential": [
            [
             0,
             "#0d0887"
            ],
            [
             0.1111111111111111,
             "#46039f"
            ],
            [
             0.2222222222222222,
             "#7201a8"
            ],
            [
             0.3333333333333333,
             "#9c179e"
            ],
            [
             0.4444444444444444,
             "#bd3786"
            ],
            [
             0.5555555555555556,
             "#d8576b"
            ],
            [
             0.6666666666666666,
             "#ed7953"
            ],
            [
             0.7777777777777778,
             "#fb9f3a"
            ],
            [
             0.8888888888888888,
             "#fdca26"
            ],
            [
             1,
             "#f0f921"
            ]
           ],
           "sequentialminus": [
            [
             0,
             "#0d0887"
            ],
            [
             0.1111111111111111,
             "#46039f"
            ],
            [
             0.2222222222222222,
             "#7201a8"
            ],
            [
             0.3333333333333333,
             "#9c179e"
            ],
            [
             0.4444444444444444,
             "#bd3786"
            ],
            [
             0.5555555555555556,
             "#d8576b"
            ],
            [
             0.6666666666666666,
             "#ed7953"
            ],
            [
             0.7777777777777778,
             "#fb9f3a"
            ],
            [
             0.8888888888888888,
             "#fdca26"
            ],
            [
             1,
             "#f0f921"
            ]
           ]
          },
          "colorway": [
           "#636efa",
           "#EF553B",
           "#00cc96",
           "#ab63fa",
           "#FFA15A",
           "#19d3f3",
           "#FF6692",
           "#B6E880",
           "#FF97FF",
           "#FECB52"
          ],
          "font": {
           "color": "#2a3f5f"
          },
          "geo": {
           "bgcolor": "white",
           "lakecolor": "white",
           "landcolor": "#E5ECF6",
           "showlakes": true,
           "showland": true,
           "subunitcolor": "white"
          },
          "hoverlabel": {
           "align": "left"
          },
          "hovermode": "closest",
          "mapbox": {
           "style": "light"
          },
          "paper_bgcolor": "white",
          "plot_bgcolor": "#E5ECF6",
          "polar": {
           "angularaxis": {
            "gridcolor": "white",
            "linecolor": "white",
            "ticks": ""
           },
           "bgcolor": "#E5ECF6",
           "radialaxis": {
            "gridcolor": "white",
            "linecolor": "white",
            "ticks": ""
           }
          },
          "scene": {
           "xaxis": {
            "backgroundcolor": "#E5ECF6",
            "gridcolor": "white",
            "gridwidth": 2,
            "linecolor": "white",
            "showbackground": true,
            "ticks": "",
            "zerolinecolor": "white"
           },
           "yaxis": {
            "backgroundcolor": "#E5ECF6",
            "gridcolor": "white",
            "gridwidth": 2,
            "linecolor": "white",
            "showbackground": true,
            "ticks": "",
            "zerolinecolor": "white"
           },
           "zaxis": {
            "backgroundcolor": "#E5ECF6",
            "gridcolor": "white",
            "gridwidth": 2,
            "linecolor": "white",
            "showbackground": true,
            "ticks": "",
            "zerolinecolor": "white"
           }
          },
          "shapedefaults": {
           "line": {
            "color": "#2a3f5f"
           }
          },
          "ternary": {
           "aaxis": {
            "gridcolor": "white",
            "linecolor": "white",
            "ticks": ""
           },
           "baxis": {
            "gridcolor": "white",
            "linecolor": "white",
            "ticks": ""
           },
           "bgcolor": "#E5ECF6",
           "caxis": {
            "gridcolor": "white",
            "linecolor": "white",
            "ticks": ""
           }
          },
          "title": {
           "x": 0.05
          },
          "xaxis": {
           "automargin": true,
           "gridcolor": "white",
           "linecolor": "white",
           "ticks": "",
           "title": {
            "standoff": 15
           },
           "zerolinecolor": "white",
           "zerolinewidth": 2
          },
          "yaxis": {
           "automargin": true,
           "gridcolor": "white",
           "linecolor": "white",
           "ticks": "",
           "title": {
            "standoff": 15
           },
           "zerolinecolor": "white",
           "zerolinewidth": 2
          }
         }
        },
        "title": {
         "text": "Sankey - Origine des variables Cartofriches (horizontal, couleurs par domaine)"
        },
        "width": 1000,
        "xaxis": {
         "autorange": true,
         "range": [
          -1,
          6
         ],
         "showgrid": false,
         "visible": false,
         "zeroline": false
        },
        "yaxis": {
         "autorange": true,
         "range": [
          -1,
          4
         ],
         "showgrid": false,
         "visible": false,
         "zeroline": false
        }
       }
      },
      "image/png": "[encoded data removed]",
      "text/html": [
       "<div>                            <div id=\"14c4121d-cf73-42ad-97d0-48f0d4c37d73\" class=\"plotly-graph-div\" style=\"height:800px; width:1000px;\"></div>            <script type=\"text/javascript\">                require([\"plotly\"], function(Plotly) {                    window.PLOTLYENV=window.PLOTLYENV || {};                                    if (document.getElementById(\"14c4121d-cf73-42ad-97d0-48f0d4c37d73\")) {                    Plotly.newPlot(                        \"14c4121d-cf73-42ad-97d0-48f0d4c37d73\",                        [{\"arrangement\":\"snap\",\"link\":{\"color\":[\"#D6D6D6\",\"#D6D6D6\",\"#D6D6D6\",\"#D6D6D6\",\"#D6D6D6\",\"#D6D6D6\",\"#D6D6D6\",\"#D6D6D6\",\"#D6D6D6\",\"#FFB3B3\",\"#FFB3B3\",\"#FFB3B3\",\"#FFB3B3\",\"#FFB3B3\",\"#D6D6D6\",\"#D6D6D6\",\"#D6D6D6\",\"#D6D6D6\",\"#D6D6D6\",\"#D6D6D6\",\"#D6D6D6\",\"#D6D6D6\",\"#D4EDB0\",\"#D4EDB0\",\"#D4EDB0\",\"#D6D6D6\",\"#D4EDB0\",\"#D4EDB0\",\"#D4EDB0\",\"#B3E5FC\",\"#B3E5FC\",\"#B3E5FC\",\"#B0E0C4\",\"#B0E0C4\",\"#FFB3B3\",\"#A3C1E1\",\"#A3C1E1\",\"#A3C1E1\",\"#A3C1E1\",\"#FFE0B2\",\"#FFE0B2\",\"#FFE0B2\",\"#FFE0B2\",\"#FFE0B2\",\"#FFE0B2\",\"#FFE0B2\",\"#D9B3FF\",\"#D9B3FF\",\"#D9B3FF\",\"#FFB3B3\",\"#D6D6D6\",\"#FFE0B2\",\"#B0E0C4\",\"#B0E0C4\"],\"source\":[0,0,0,0,0,1,1,1,1,2,2,2,2,2,3,3,3,3,3,4,4,5,5,5,5,5,6,6,6,7,7,7,7,7,8,9,9,9,9,10,10,10,10,10,11,11,12,12,12,13,13,13,13,13],\"target\":[21,25,26,27,24,15,16,17,20,22,46,47,48,49,58,60,61,23,59,40,41,14,19,62,63,24,31,32,18,42,43,44,51,50,45,52,53,54,55,33,34,35,39,38,36,37,28,29,30,22,23,39,56,57],\"value\":[1,1,1,1,1,1,1,1,1,1,1,1,1,1,1,1,1,1,1,1,1,1,1,1,1,1,1,1,1,1,1,1,1,1,1,1,1,1,1,1,1,1,1,1,1,1,1,1,1,1,1,1,1,1]},\"node\":{\"color\":\"lightblue\",\"label\":[\"ADEME\",\"BASIAS\",\"BASOL\",\"Observatoires locaux \\u002f Collectivit\\u00e9s\",\"UrbanSIMUL\",\"Cartofriches (calcul interne)\",\"Commune \\u002f INSEE\",\"Fichiers fonciers\",\"GeoRisques\",\"G\\u00e9oportail de l\\u2019urbanisme\",\"BDNB\",\"MAJIC\",\"Historique d'activit\\u00e9 \\u002f ICPE\",\"Inconnue ou manuelle\",\"site_id\",\"site_nom\",\"site_type\",\"site_adresse\",\"site_identif_date\",\"site_actu_date\",\"site_url\",\"site_ademe_url\",\"site_securite\",\"site_occupation\",\"site_statut\",\"site_projet_url\",\"site_reconv_annee\",\"site_reconv_type\",\"activite_libelle\",\"activite_code\",\"activite_fin_annee\",\"comm_nom\",\"comm_insee\",\"bati_type\",\"bati_nombre\",\"bati_surface\",\"bati_pollution\",\"bati_vacance\",\"bati_patrimoine\",\"bati_etat\",\"local_ancien_annee\",\"local_recent_annee\",\"proprio_type\",\"proprio_personne\",\"proprio_nom\",\"sol_pollution_annee\",\"sol_pollution_existe\",\"sol_pollution_origine\",\"sol_pollution_commentaire\",\"sol_depollution_fiche\",\"unite_fonciere_surface\",\"unite_fonciere_refcad\",\"urba_zone_type\",\"urba_zone_lib\",\"urba_zone_formdomi\",\"urba_doc_type\",\"desserte_distance\",\"desserte_commentaire\",\"source_nom\",\"source_url\",\"source_producteur\",\"source_contact\",\"geompoint\",\"geomsurf\"],\"line\":{\"color\":\"black\",\"width\":0.5},\"pad\":30,\"thickness\":10},\"orientation\":\"h\",\"type\":\"sankey\"},{\"legendgroup\":\"Pollution\",\"marker\":{\"color\":\"#FFB3B3\",\"size\":10},\"mode\":\"markers\",\"name\":\"Pollution\",\"showlegend\":true,\"x\":[null],\"y\":[null],\"type\":\"scatter\"},{\"legendgroup\":\"Urbanisme\",\"marker\":{\"color\":\"#A3C1E1\",\"size\":10},\"mode\":\"markers\",\"name\":\"Urbanisme\",\"showlegend\":true,\"x\":[null],\"y\":[null],\"type\":\"scatter\"},{\"legendgroup\":\"Foncier\",\"marker\":{\"color\":\"#B0E0C4\",\"size\":10},\"mode\":\"markers\",\"name\":\"Foncier\",\"showlegend\":true,\"x\":[null],\"y\":[null],\"type\":\"scatter\"},{\"legendgroup\":\"B\\u00e2ti\",\"marker\":{\"color\":\"#FFE0B2\",\"size\":10},\"mode\":\"markers\",\"name\":\"B\\u00e2ti\",\"showlegend\":true,\"x\":[null],\"y\":[null],\"type\":\"scatter\"},{\"legendgroup\":\"Activit\\u00e9\",\"marker\":{\"color\":\"#D9B3FF\",\"size\":10},\"mode\":\"markers\",\"name\":\"Activit\\u00e9\",\"showlegend\":true,\"x\":[null],\"y\":[null],\"type\":\"scatter\"},{\"legendgroup\":\"Propri\\u00e9t\\u00e9\",\"marker\":{\"color\":\"#B3E5FC\",\"size\":10},\"mode\":\"markers\",\"name\":\"Propri\\u00e9t\\u00e9\",\"showlegend\":true,\"x\":[null],\"y\":[null],\"type\":\"scatter\"},{\"legendgroup\":\"M\\u00e9tadonn\\u00e9es\",\"marker\":{\"color\":\"#D6D6D6\",\"size\":10},\"mode\":\"markers\",\"name\":\"M\\u00e9tadonn\\u00e9es\",\"showlegend\":true,\"x\":[null],\"y\":[null],\"type\":\"scatter\"},{\"legendgroup\":\"G\\u00e9ographie\",\"marker\":{\"color\":\"#D4EDB0\",\"size\":10},\"mode\":\"markers\",\"name\":\"G\\u00e9ographie\",\"showlegend\":true,\"x\":[null],\"y\":[null],\"type\":\"scatter\"}],                        {\"template\":{\"data\":{\"histogram2dcontour\":[{\"type\":\"histogram2dcontour\",\"colorbar\":{\"outlinewidth\":0,\"ticks\":\"\"},\"colorscale\":[[0.0,\"#0d0887\"],[0.1111111111111111,\"#46039f\"],[0.2222222222222222,\"#7201a8\"],[0.3333333333333333,\"#9c179e\"],[0.4444444444444444,\"#bd3786\"],[0.5555555555555556,\"#d8576b\"],[0.6666666666666666,\"#ed7953\"],[0.7777777777777778,\"#fb9f3a\"],[0.8888888888888888,\"#fdca26\"],[1.0,\"#f0f921\"]]}],\"choropleth\":[{\"type\":\"choropleth\",\"colorbar\":{\"outlinewidth\":0,\"ticks\":\"\"}}],\"histogram2d\":[{\"type\":\"histogram2d\",\"colorbar\":{\"outlinewidth\":0,\"ticks\":\"\"},\"colorscale\":[[0.0,\"#0d0887\"],[0.1111111111111111,\"#46039f\"],[0.2222222222222222,\"#7201a8\"],[0.3333333333333333,\"#9c179e\"],[0.4444444444444444,\"#bd3786\"],[0.5555555555555556,\"#d8576b\"],[0.6666666666666666,\"#ed7953\"],[0.7777777777777778,\"#fb9f3a\"],[0.8888888888888888,\"#fdca26\"],[1.0,\"#f0f921\"]]}],\"heatmap\":[{\"type\":\"heatmap\",\"colorbar\":{\"outlinewidth\":0,\"ticks\":\"\"},\"colorscale\":[[0.0,\"#0d0887\"],[0.1111111111111111,\"#46039f\"],[0.2222222222222222,\"#7201a8\"],[0.3333333333333333,\"#9c179e\"],[0.4444444444444444,\"#bd3786\"],[0.5555555555555556,\"#d8576b\"],[0.6666666666666666,\"#ed7953\"],[0.7777777777777778,\"#fb9f3a\"],[0.8888888888888888,\"#fdca26\"],[1.0,\"#f0f921\"]]}],\"heatmapgl\":[{\"type\":\"heatmapgl\",\"colorbar\":{\"outlinewidth\":0,\"ticks\":\"\"},\"colorscale\":[[0.0,\"#0d0887\"],[0.1111111111111111,\"#46039f\"],[0.2222222222222222,\"#7201a8\"],[0.3333333333333333,\"#9c179e\"],[0.4444444444444444,\"#bd3786\"],[0.5555555555555556,\"#d8576b\"],[0.6666666666666666,\"#ed7953\"],[0.7777777777777778,\"#fb9f3a\"],[0.8888888888888888,\"#fdca26\"],[1.0,\"#f0f921\"]]}],\"contourcarpet\":[{\"type\":\"contourcarpet\",\"colorbar\":{\"outlinewidth\":0,\"ticks\":\"\"}}],\"contour\":[{\"type\":\"contour\",\"colorbar\":{\"outlinewidth\":0,\"ticks\":\"\"},\"colorscale\":[[0.0,\"#0d0887\"],[0.1111111111111111,\"#46039f\"],[0.2222222222222222,\"#7201a8\"],[0.3333333333333333,\"#9c179e\"],[0.4444444444444444,\"#bd3786\"],[0.5555555555555556,\"#d8576b\"],[0.6666666666666666,\"#ed7953\"],[0.7777777777777778,\"#fb9f3a\"],[0.8888888888888888,\"#fdca26\"],[1.0,\"#f0f921\"]]}],\"surface\":[{\"type\":\"surface\",\"colorbar\":{\"outlinewidth\":0,\"ticks\":\"\"},\"colorscale\":[[0.0,\"#0d0887\"],[0.1111111111111111,\"#46039f\"],[0.2222222222222222,\"#7201a8\"],[0.3333333333333333,\"#9c179e\"],[0.4444444444444444,\"#bd3786\"],[0.5555555555555556,\"#d8576b\"],[0.6666666666666666,\"#ed7953\"],[0.7777777777777778,\"#fb9f3a\"],[0.8888888888888888,\"#fdca26\"],[1.0,\"#f0f921\"]]}],\"mesh3d\":[{\"type\":\"mesh3d\",\"colorbar\":{\"outlinewidth\":0,\"ticks\":\"\"}}],\"scatter\":[{\"fillpattern\":{\"fillmode\":\"overlay\",\"size\":10,\"solidity\":0.2},\"type\":\"scatter\"}],\"parcoords\":[{\"type\":\"parcoords\",\"line\":{\"colorbar\":{\"outlinewidth\":0,\"ticks\":\"\"}}}],\"scatterpolargl\":[{\"type\":\"scatterpolargl\",\"marker\":{\"colorbar\":{\"outlinewidth\":0,\"ticks\":\"\"}}}],\"bar\":[{\"error_x\":{\"color\":\"#2a3f5f\"},\"error_y\":{\"color\":\"#2a3f5f\"},\"marker\":{\"line\":{\"color\":\"#E5ECF6\",\"width\":0.5},\"pattern\":{\"fillmode\":\"overlay\",\"size\":10,\"solidity\":0.2}},\"type\":\"bar\"}],\"scattergeo\":[{\"type\":\"scattergeo\",\"marker\":{\"colorbar\":{\"outlinewidth\":0,\"ticks\":\"\"}}}],\"scatterpolar\":[{\"type\":\"scatterpolar\",\"marker\":{\"colorbar\":{\"outlinewidth\":0,\"ticks\":\"\"}}}],\"histogram\":[{\"marker\":{\"pattern\":{\"fillmode\":\"overlay\",\"size\":10,\"solidity\":0.2}},\"type\":\"histogram\"}],\"scattergl\":[{\"type\":\"scattergl\",\"marker\":{\"colorbar\":{\"outlinewidth\":0,\"ticks\":\"\"}}}],\"scatter3d\":[{\"type\":\"scatter3d\",\"line\":{\"colorbar\":{\"outlinewidth\":0,\"ticks\":\"\"}},\"marker\":{\"colorbar\":{\"outlinewidth\":0,\"ticks\":\"\"}}}],\"scattermapbox\":[{\"type\":\"scattermapbox\",\"marker\":{\"colorbar\":{\"outlinewidth\":0,\"ticks\":\"\"}}}],\"scatterternary\":[{\"type\":\"scatterternary\",\"marker\":{\"colorbar\":{\"outlinewidth\":0,\"ticks\":\"\"}}}],\"scattercarpet\":[{\"type\":\"scattercarpet\",\"marker\":{\"colorbar\":{\"outlinewidth\":0,\"ticks\":\"\"}}}],\"carpet\":[{\"aaxis\":{\"endlinecolor\":\"#2a3f5f\",\"gridcolor\":\"white\",\"linecolor\":\"white\",\"minorgridcolor\":\"white\",\"startlinecolor\":\"#2a3f5f\"},\"baxis\":{\"endlinecolor\":\"#2a3f5f\",\"gridcolor\":\"white\",\"linecolor\":\"white\",\"minorgridcolor\":\"white\",\"startlinecolor\":\"#2a3f5f\"},\"type\":\"carpet\"}],\"table\":[{\"cells\":{\"fill\":{\"color\":\"#EBF0F8\"},\"line\":{\"color\":\"white\"}},\"header\":{\"fill\":{\"color\":\"#C8D4E3\"},\"line\":{\"color\":\"white\"}},\"type\":\"table\"}],\"barpolar\":[{\"marker\":{\"line\":{\"color\":\"#E5ECF6\",\"width\":0.5},\"pattern\":{\"fillmode\":\"overlay\",\"size\":10,\"solidity\":0.2}},\"type\":\"barpolar\"}],\"pie\":[{\"automargin\":true,\"type\":\"pie\"}]},\"layout\":{\"autotypenumbers\":\"strict\",\"colorway\":[\"#636efa\",\"#EF553B\",\"#00cc96\",\"#ab63fa\",\"#FFA15A\",\"#19d3f3\",\"#FF6692\",\"#B6E880\",\"#FF97FF\",\"#FECB52\"],\"font\":{\"color\":\"#2a3f5f\"},\"hovermode\":\"closest\",\"hoverlabel\":{\"align\":\"left\"},\"paper_bgcolor\":\"white\",\"plot_bgcolor\":\"#E5ECF6\",\"polar\":{\"bgcolor\":\"#E5ECF6\",\"angularaxis\":{\"gridcolor\":\"white\",\"linecolor\":\"white\",\"ticks\":\"\"},\"radialaxis\":{\"gridcolor\":\"white\",\"linecolor\":\"white\",\"ticks\":\"\"}},\"ternary\":{\"bgcolor\":\"#E5ECF6\",\"aaxis\":{\"gridcolor\":\"white\",\"linecolor\":\"white\",\"ticks\":\"\"},\"baxis\":{\"gridcolor\":\"white\",\"linecolor\":\"white\",\"ticks\":\"\"},\"caxis\":{\"gridcolor\":\"white\",\"linecolor\":\"white\",\"ticks\":\"\"}},\"coloraxis\":{\"colorbar\":{\"outlinewidth\":0,\"ticks\":\"\"}},\"colorscale\":{\"sequential\":[[0.0,\"#0d0887\"],[0.1111111111111111,\"#46039f\"],[0.2222222222222222,\"#7201a8\"],[0.3333333333333333,\"#9c179e\"],[0.4444444444444444,\"#bd3786\"],[0.5555555555555556,\"#d8576b\"],[0.6666666666666666,\"#ed7953\"],[0.7777777777777778,\"#fb9f3a\"],[0.8888888888888888,\"#fdca26\"],[1.0,\"#f0f921\"]],\"sequentialminus\":[[0.0,\"#0d0887\"],[0.1111111111111111,\"#46039f\"],[0.2222222222222222,\"#7201a8\"],[0.3333333333333333,\"#9c179e\"],[0.4444444444444444,\"#bd3786\"],[0.5555555555555556,\"#d8576b\"],[0.6666666666666666,\"#ed7953\"],[0.7777777777777778,\"#fb9f3a\"],[0.8888888888888888,\"#fdca26\"],[1.0,\"#f0f921\"]],\"diverging\":[[0,\"#8e0152\"],[0.1,\"#c51b7d\"],[0.2,\"#de77ae\"],[0.3,\"#f1b6da\"],[0.4,\"#fde0ef\"],[0.5,\"#f7f7f7\"],[0.6,\"#e6f5d0\"],[0.7,\"#b8e186\"],[0.8,\"#7fbc41\"],[0.9,\"#4d9221\"],[1,\"#276419\"]]},\"xaxis\":{\"gridcolor\":\"white\",\"linecolor\":\"white\",\"ticks\":\"\",\"title\":{\"standoff\":15},\"zerolinecolor\":\"white\",\"automargin\":true,\"zerolinewidth\":2},\"yaxis\":{\"gridcolor\":\"white\",\"linecolor\":\"white\",\"ticks\":\"\",\"title\":{\"standoff\":15},\"zerolinecolor\":\"white\",\"automargin\":true,\"zerolinewidth\":2},\"scene\":{\"xaxis\":{\"backgroundcolor\":\"#E5ECF6\",\"gridcolor\":\"white\",\"linecolor\":\"white\",\"showbackground\":true,\"ticks\":\"\",\"zerolinecolor\":\"white\",\"gridwidth\":2},\"yaxis\":{\"backgroundcolor\":\"#E5ECF6\",\"gridcolor\":\"white\",\"linecolor\":\"white\",\"showbackground\":true,\"ticks\":\"\",\"zerolinecolor\":\"white\",\"gridwidth\":2},\"zaxis\":{\"backgroundcolor\":\"#E5ECF6\",\"gridcolor\":\"white\",\"linecolor\":\"white\",\"showbackground\":true,\"ticks\":\"\",\"zerolinecolor\":\"white\",\"gridwidth\":2}},\"shapedefaults\":{\"line\":{\"color\":\"#2a3f5f\"}},\"annotationdefaults\":{\"arrowcolor\":\"#2a3f5f\",\"arrowhead\":0,\"arrowwidth\":1},\"geo\":{\"bgcolor\":\"white\",\"landcolor\":\"#E5ECF6\",\"subunitcolor\":\"white\",\"showland\":true,\"showlakes\":true,\"lakecolor\":\"white\"},\"title\":{\"x\":0.05},\"mapbox\":{\"style\":\"light\"}}},\"title\":{\"text\":\"Sankey - Origine des variables Cartofriches (horizontal, couleurs par domaine)\"},\"font\":{\"size\":10,\"color\":\"black\"},\"xaxis\":{\"showgrid\":false,\"zeroline\":false,\"visible\":false},\"yaxis\":{\"showgrid\":false,\"zeroline\":false,\"visible\":false},\"width\":1000,\"height\":800,\"plot_bgcolor\":\"white\",\"paper_bgcolor\":\"white\"},                        {\"responsive\": true}                    ).then(function(){\n",
       "                            \n",
       "var gd = document.getElementById('14c4121d-cf73-42ad-97d0-48f0d4c37d73');\n",
       "var x = new MutationObserver(function (mutations, observer) {{\n",
       "        var display = window.getComputedStyle(gd).display;\n",
       "        if (!display || display === 'none') {{\n",
       "            console.log([gd, 'removed!']);\n",
       "            Plotly.purge(gd);\n",
       "            observer.disconnect();\n",
       "        }}\n",
       "}});\n",
       "\n",
       "// Listen for the removal of the full notebook cells\n",
       "var notebookContainer = gd.closest('#notebook-container');\n",
       "if (notebookContainer) {{\n",
       "    x.observe(notebookContainer, {childList: true});\n",
       "}}\n",
       "\n",
       "// Listen for the clearing of the current output cell\n",
       "var outputEl = gd.closest('.output');\n",
       "if (outputEl) {{\n",
       "    x.observe(outputEl, {childList: true});\n",
       "}}\n",
       "\n",
       "                        })                };                });            </script>        </div>"
      ]
     },
     "metadata": {},
     "output_type": "display_data"
    }
   ],
   "source": [
    "# Dictionnaire source → variables\n",
    "source_variable_links = {\n",
    "    \"ADEME\": [\"site_ademe_url\", \"site_projet_url\", \"site_reconv_annee\", \"site_reconv_type\", \"site_statut\"],\n",
    "    \"BASIAS\": [\"site_nom\", \"site_type\", \"site_adresse\", \"site_url\"],\n",
    "    \"BASOL\": [\"site_securite\", \"sol_pollution_existe\", \"sol_pollution_origine\", \"sol_pollution_commentaire\", \"sol_depollution_fiche\"],\n",
    "    \"Observatoires locaux / Collectivités\": [\"source_nom\", \"source_producteur\", \"source_contact\", \"site_occupation\", \"source_url\"],\n",
    "    \"UrbanSIMUL\": [\"local_ancien_annee\", \"local_recent_annee\"],\n",
    "    \"Cartofriches (calcul interne)\": [\"site_id\", \"site_actu_date\", \"geompoint\", \"geomsurf\", \"site_statut\"],\n",
    "    \"Commune / INSEE\": [\"comm_nom\", \"comm_insee\", \"site_identif_date\"],\n",
    "    \"Fichiers fonciers\": [\"proprio_type\", \"proprio_personne\", \"proprio_nom\", \"unite_fonciere_refcad\", \"unite_fonciere_surface\"],\n",
    "    \"GeoRisques\": [\"sol_pollution_annee\"],\n",
    "    \"Géoportail de l’urbanisme\": [\"urba_zone_type\", \"urba_zone_lib\", \"urba_zone_formdomi\", \"urba_doc_type\"],\n",
    "    \"BDNB\": [\"bati_type\", \"bati_nombre\", \"bati_surface\", \"bati_etat\", \"bati_patrimoine\"],\n",
    "    \"MAJIC\": [\"bati_pollution\", \"bati_vacance\"],\n",
    "    \"Historique d'activité / ICPE\": [\"activite_libelle\", \"activite_code\", \"activite_fin_annee\"],\n",
    "    \"Inconnue ou manuelle\": [\"site_securite\", \"site_occupation\", \"bati_etat\", \"desserte_distance\", \"desserte_commentaire\"]\n",
    "}\n",
    "\n",
    "# Dictionnaire domaine → variables\n",
    "domain_variables = {\n",
    "    \"Pollution\": [\"site_securite\", \"sol_pollution_existe\", \"sol_pollution_origine\", \"sol_pollution_commentaire\", \"sol_pollution_annee\", \"sol_depollution_fiche\"],\n",
    "    \"Urbanisme\": [\"urba_zone_type\", \"urba_zone_lib\", \"urba_zone_formdomi\", \"urba_doc_type\"],\n",
    "    \"Foncier\": [\"unite_fonciere_refcad\", \"unite_fonciere_surface\", \"desserte_distance\", \"desserte_commentaire\"],\n",
    "    \"Bâti\": [\"bati_type\", \"bati_nombre\", \"bati_surface\", \"bati_pollution\", \"bati_vacance\", \"bati_patrimoine\", \"bati_etat\"],\n",
    "    \"Activité\": [\"activite_libelle\", \"activite_code\", \"activite_fin_annee\"],\n",
    "    \"Propriété\": [\"proprio_type\", \"proprio_personne\", \"proprio_nom\"],\n",
    "    \"Métadonnées\": [\"source_nom\", \"source_url\", \"source_producteur\", \"source_contact\", \"site_ademe_url\", \"site_projet_url\", \"site_url\", \"site_id\", \"site_statut\", \"site_nom\", \"site_type\", \"site_adresse\", \"site_occupation\", \"site_reconv_annee\", \"site_reconv_type\"],\n",
    "    \"Géographie\": [\"comm_nom\", \"comm_insee\", \"site_identif_date\", \"site_actu_date\", \"geompoint\", \"geomsurf\"]\n",
    "}\n",
    "\n",
    "# Couleurs par domaine\n",
    "domain_colors = {\n",
    "    \"Pollution\": \"#FFB3B3\", \"Urbanisme\": \"#A3C1E1\", \"Foncier\": \"#B0E0C4\", \"Bâti\": \"#FFE0B2\",\n",
    "    \"Activité\": \"#D9B3FF\", \"Propriété\": \"#B3E5FC\", \"Métadonnées\": \"#D6D6D6\", \"Géographie\": \"#D4EDB0\"\n",
    "}\n",
    "\n",
    "\n",
    "# Inversion pour avoir variable → domaine\n",
    "variable_domains = {var: domain for domain, vars in domain_variables.items() for var in vars}\n",
    "\n",
    "# Construction des liens\n",
    "sources, targets, values, link_colors = [], [], [], []\n",
    "for source, vars in source_variable_links.items():\n",
    "    for var in vars:\n",
    "        sources.append(source)\n",
    "        targets.append(var)\n",
    "        values.append(1)\n",
    "\n",
    "        domain = variable_domains.get(var, \"Métadonnées\")\n",
    "        if domain not in domain_colors:\n",
    "            print(f\"[⚠️] Domaine inconnu : {domain}\")\n",
    "        color = domain_colors.get(domain, \"lightgray\")\n",
    "        link_colors.append(color)\n",
    "\n",
    "# Ordre des labels (source d’abord, cibles ensuite, sans doublons)\n",
    "ordered_sources = list(source_variable_links.keys())\n",
    "ordered_targets = [\n",
    "    'site_id', 'site_nom', 'site_type', 'site_adresse', 'site_identif_date',\n",
    "    'site_actu_date', 'site_url', 'site_ademe_url', 'site_securite',\n",
    "    'site_occupation', 'site_statut', 'site_projet_url',\n",
    "    'site_reconv_annee', 'site_reconv_type', 'activite_libelle',\n",
    "    'activite_code', 'activite_fin_annee', 'comm_nom', 'comm_insee',\n",
    "    'bati_type', 'bati_nombre', 'bati_surface', 'bati_pollution',\n",
    "    'bati_vacance', 'bati_patrimoine', 'bati_etat', 'local_ancien_annee',\n",
    "    'local_recent_annee', 'proprio_type', 'proprio_personne', 'proprio_nom',\n",
    "    'sol_pollution_annee', 'sol_pollution_existe', 'sol_pollution_origine',\n",
    "    'sol_pollution_commentaire', 'sol_depollution_fiche',\n",
    "    'unite_fonciere_surface', 'unite_fonciere_refcad', 'urba_zone_type',\n",
    "    'urba_zone_lib', 'urba_zone_formdomi', 'urba_doc_type',\n",
    "    'desserte_distance', 'desserte_commentaire', 'source_nom', 'source_url',\n",
    "    'source_producteur', 'source_contact', 'geompoint', 'geomsurf']\n",
    "\n",
    "labels = ordered_sources + ordered_targets\n",
    "label_indices = {label: i for i, label in enumerate(labels)}\n",
    "source_ids = [label_indices[s] for s in sources]\n",
    "target_ids = [label_indices[t] for t in targets]\n",
    "\n",
    "# Sankey plot\n",
    "fig = go.Figure(data=[go.Sankey(\n",
    "    orientation='h',\n",
    "    arrangement=\"snap\",\n",
    "    node=dict(\n",
    "        pad=30,\n",
    "        thickness=10,\n",
    "        line=dict(color=\"black\", width=0.5),\n",
    "        label=labels,\n",
    "        color=\"lightblue\"\n",
    "    ),\n",
    "    link=dict(\n",
    "        source=source_ids,\n",
    "        target=target_ids,\n",
    "        value=values,\n",
    "        color=link_colors\n",
    "    )\n",
    ")])\n",
    "\n",
    "# Légende des domaines\n",
    "for domain, color in domain_colors.items():\n",
    "    fig.add_trace(go.Scatter(\n",
    "        x=[None], y=[None],\n",
    "        mode='markers',\n",
    "        marker=dict(size=10, color=color),\n",
    "        legendgroup=domain,\n",
    "        showlegend=True,\n",
    "        name=domain\n",
    "    ))\n",
    "\n",
    "# Mise en forme\n",
    "fig.update_layout(\n",
    "    title_text=\"Sankey - Origine des variables Cartofriches (horizontal, couleurs par domaine)\",\n",
    "    font_size=10,\n",
    "    width=1000,\n",
    "    height=800,\n",
    "    plot_bgcolor='white',\n",
    "    paper_bgcolor='white',\n",
    "    font=dict(color='black'),\n",
    "    xaxis=dict(showgrid=False, zeroline=False, visible=False),\n",
    "    yaxis=dict(showgrid=False, zeroline=False, visible=False),\n",
    ")\n",
    "\n",
    "fig.write_html(\"/mnt/data/sankey_cartofriches_horizontal_domaine.html\")\n",
    "fig.show()"
   ]
  },
  {
   "cell_type": "markdown",
   "id": "7c8e9c18-c3e5-487a-b2aa-a8c7fcf3df04",
   "metadata": {
    "editable": true,
    "jupyter": {
     "source_hidden": true
    },
    "slideshow": {
     "slide_type": ""
    },
    "tags": []
   },
   "source": [
    "## II. Audit Qualité"
   ]
  },
  {
   "cell_type": "code",
   "execution_count": 25,
   "id": "2036d627-f7d2-4b3f-9e6f-5ee346756895",
   "metadata": {
    "jupyter": {
     "source_hidden": true
    },
    "scrolled": true
   },
   "outputs": [
    {
     "data": {
      "text/html": [
       "<div>\n",
       "<style scoped>\n",
       "    .dataframe tbody tr th:only-of-type {\n",
       "        vertical-align: middle;\n",
       "    }\n",
       "\n",
       "    .dataframe tbody tr th {\n",
       "        vertical-align: top;\n",
       "    }\n",
       "\n",
       "    .dataframe thead th {\n",
       "        text-align: right;\n",
       "    }\n",
       "</style>\n",
       "<table border=\"1\" class=\"dataframe\">\n",
       "  <thead>\n",
       "    <tr style=\"text-align: right;\">\n",
       "      <th></th>\n",
       "      <th>Colonne</th>\n",
       "      <th>Type</th>\n",
       "      <th>Nb valeurs uniques</th>\n",
       "      <th>Top valeur</th>\n",
       "      <th>Fréquence top valeur</th>\n",
       "      <th>Nb de NaN</th>\n",
       "      <th>% de NaN</th>\n",
       "    </tr>\n",
       "  </thead>\n",
       "  <tbody>\n",
       "    <tr>\n",
       "      <th>0</th>\n",
       "      <td>site_id</td>\n",
       "      <td>object</td>\n",
       "      <td>28115</td>\n",
       "      <td>01001_32316</td>\n",
       "      <td>1.0</td>\n",
       "      <td>0</td>\n",
       "      <td>0.00</td>\n",
       "    </tr>\n",
       "    <tr>\n",
       "      <th>1</th>\n",
       "      <td>site_nom</td>\n",
       "      <td>object</td>\n",
       "      <td>24071</td>\n",
       "      <td>Décharge</td>\n",
       "      <td>415.0</td>\n",
       "      <td>0</td>\n",
       "      <td>0.00</td>\n",
       "    </tr>\n",
       "    <tr>\n",
       "      <th>2</th>\n",
       "      <td>site_type</td>\n",
       "      <td>object</td>\n",
       "      <td>19</td>\n",
       "      <td>inconnu</td>\n",
       "      <td>16005.0</td>\n",
       "      <td>0</td>\n",
       "      <td>0.00</td>\n",
       "    </tr>\n",
       "    <tr>\n",
       "      <th>3</th>\n",
       "      <td>site_adresse</td>\n",
       "      <td>object</td>\n",
       "      <td>3713</td>\n",
       "      <td>LE VILLAGE</td>\n",
       "      <td>30.0</td>\n",
       "      <td>24125</td>\n",
       "      <td>85.81</td>\n",
       "    </tr>\n",
       "    <tr>\n",
       "      <th>4</th>\n",
       "      <td>site_identif_date</td>\n",
       "      <td>object</td>\n",
       "      <td>581</td>\n",
       "      <td>2022-10-10</td>\n",
       "      <td>15736.0</td>\n",
       "      <td>0</td>\n",
       "      <td>0.00</td>\n",
       "    </tr>\n",
       "    <tr>\n",
       "      <th>5</th>\n",
       "      <td>site_actu_date</td>\n",
       "      <td>object</td>\n",
       "      <td>532</td>\n",
       "      <td>2022-10-10</td>\n",
       "      <td>15587.0</td>\n",
       "      <td>0</td>\n",
       "      <td>0.00</td>\n",
       "    </tr>\n",
       "    <tr>\n",
       "      <th>6</th>\n",
       "      <td>site_url</td>\n",
       "      <td>object</td>\n",
       "      <td>16939</td>\n",
       "      <td>https://www.suippes.fr/9143-2/</td>\n",
       "      <td>14.0</td>\n",
       "      <td>11120</td>\n",
       "      <td>39.55</td>\n",
       "    </tr>\n",
       "    <tr>\n",
       "      <th>7</th>\n",
       "      <td>site_ademe_url</td>\n",
       "      <td>float64</td>\n",
       "      <td>0</td>\n",
       "      <td>None</td>\n",
       "      <td>NaN</td>\n",
       "      <td>28115</td>\n",
       "      <td>100.00</td>\n",
       "    </tr>\n",
       "    <tr>\n",
       "      <th>8</th>\n",
       "      <td>site_securite</td>\n",
       "      <td>object</td>\n",
       "      <td>5</td>\n",
       "      <td>inconnu</td>\n",
       "      <td>20132.0</td>\n",
       "      <td>5822</td>\n",
       "      <td>20.71</td>\n",
       "    </tr>\n",
       "    <tr>\n",
       "      <th>9</th>\n",
       "      <td>site_occupation</td>\n",
       "      <td>object</td>\n",
       "      <td>20</td>\n",
       "      <td>inconnu</td>\n",
       "      <td>25850.0</td>\n",
       "      <td>0</td>\n",
       "      <td>0.00</td>\n",
       "    </tr>\n",
       "    <tr>\n",
       "      <th>10</th>\n",
       "      <td>site_statut</td>\n",
       "      <td>object</td>\n",
       "      <td>4</td>\n",
       "      <td>friche potentielle</td>\n",
       "      <td>13129.0</td>\n",
       "      <td>0</td>\n",
       "      <td>0.00</td>\n",
       "    </tr>\n",
       "    <tr>\n",
       "      <th>11</th>\n",
       "      <td>site_projet_url</td>\n",
       "      <td>float64</td>\n",
       "      <td>0</td>\n",
       "      <td>None</td>\n",
       "      <td>NaN</td>\n",
       "      <td>28115</td>\n",
       "      <td>100.00</td>\n",
       "    </tr>\n",
       "    <tr>\n",
       "      <th>12</th>\n",
       "      <td>site_reconv_annee</td>\n",
       "      <td>float64</td>\n",
       "      <td>0</td>\n",
       "      <td>None</td>\n",
       "      <td>NaN</td>\n",
       "      <td>28115</td>\n",
       "      <td>100.00</td>\n",
       "    </tr>\n",
       "    <tr>\n",
       "      <th>13</th>\n",
       "      <td>site_reconv_type</td>\n",
       "      <td>object</td>\n",
       "      <td>13</td>\n",
       "      <td>habitat</td>\n",
       "      <td>1100.0</td>\n",
       "      <td>25503</td>\n",
       "      <td>90.71</td>\n",
       "    </tr>\n",
       "    <tr>\n",
       "      <th>14</th>\n",
       "      <td>activite_libelle</td>\n",
       "      <td>object</td>\n",
       "      <td>1617</td>\n",
       "      <td>Dépôt de liquides inflammables (D.L.I.)</td>\n",
       "      <td>1821.0</td>\n",
       "      <td>13485</td>\n",
       "      <td>47.96</td>\n",
       "    </tr>\n",
       "    <tr>\n",
       "      <th>15</th>\n",
       "      <td>activite_code</td>\n",
       "      <td>object</td>\n",
       "      <td>109</td>\n",
       "      <td>4520A</td>\n",
       "      <td>7.0</td>\n",
       "      <td>27961</td>\n",
       "      <td>99.45</td>\n",
       "    </tr>\n",
       "    <tr>\n",
       "      <th>16</th>\n",
       "      <td>activite_fin_annee</td>\n",
       "      <td>object</td>\n",
       "      <td>73</td>\n",
       "      <td>2010</td>\n",
       "      <td>315.0</td>\n",
       "      <td>24109</td>\n",
       "      <td>85.75</td>\n",
       "    </tr>\n",
       "    <tr>\n",
       "      <th>17</th>\n",
       "      <td>comm_nom</td>\n",
       "      <td>object</td>\n",
       "      <td>9390</td>\n",
       "      <td>ANGOULEME</td>\n",
       "      <td>697.0</td>\n",
       "      <td>132</td>\n",
       "      <td>0.47</td>\n",
       "    </tr>\n",
       "    <tr>\n",
       "      <th>18</th>\n",
       "      <td>comm_insee</td>\n",
       "      <td>object</td>\n",
       "      <td>9138</td>\n",
       "      <td>16015</td>\n",
       "      <td>697.0</td>\n",
       "      <td>132</td>\n",
       "      <td>0.47</td>\n",
       "    </tr>\n",
       "    <tr>\n",
       "      <th>19</th>\n",
       "      <td>bati_type</td>\n",
       "      <td>object</td>\n",
       "      <td>9</td>\n",
       "      <td>inconnu</td>\n",
       "      <td>25979.0</td>\n",
       "      <td>0</td>\n",
       "      <td>0.00</td>\n",
       "    </tr>\n",
       "    <tr>\n",
       "      <th>20</th>\n",
       "      <td>bati_nombre</td>\n",
       "      <td>float64</td>\n",
       "      <td>106</td>\n",
       "      <td>1.0</td>\n",
       "      <td>11281.0</td>\n",
       "      <td>66</td>\n",
       "      <td>0.23</td>\n",
       "    </tr>\n",
       "    <tr>\n",
       "      <th>21</th>\n",
       "      <td>bati_surface</td>\n",
       "      <td>float64</td>\n",
       "      <td>15</td>\n",
       "      <td>0.0</td>\n",
       "      <td>6.0</td>\n",
       "      <td>28095</td>\n",
       "      <td>99.93</td>\n",
       "    </tr>\n",
       "    <tr>\n",
       "      <th>22</th>\n",
       "      <td>bati_pollution</td>\n",
       "      <td>object</td>\n",
       "      <td>4</td>\n",
       "      <td>inconnu</td>\n",
       "      <td>26753.0</td>\n",
       "      <td>0</td>\n",
       "      <td>0.00</td>\n",
       "    </tr>\n",
       "    <tr>\n",
       "      <th>23</th>\n",
       "      <td>bati_vacance</td>\n",
       "      <td>object</td>\n",
       "      <td>5</td>\n",
       "      <td>inconnu</td>\n",
       "      <td>26007.0</td>\n",
       "      <td>0</td>\n",
       "      <td>0.00</td>\n",
       "    </tr>\n",
       "    <tr>\n",
       "      <th>24</th>\n",
       "      <td>bati_patrimoine</td>\n",
       "      <td>object</td>\n",
       "      <td>5</td>\n",
       "      <td>inconnu</td>\n",
       "      <td>25297.0</td>\n",
       "      <td>0</td>\n",
       "      <td>0.00</td>\n",
       "    </tr>\n",
       "    <tr>\n",
       "      <th>25</th>\n",
       "      <td>bati_etat</td>\n",
       "      <td>object</td>\n",
       "      <td>7</td>\n",
       "      <td>inconnu</td>\n",
       "      <td>22325.0</td>\n",
       "      <td>0</td>\n",
       "      <td>0.00</td>\n",
       "    </tr>\n",
       "    <tr>\n",
       "      <th>26</th>\n",
       "      <td>local_ancien_annee</td>\n",
       "      <td>float64</td>\n",
       "      <td>323</td>\n",
       "      <td>1900.0</td>\n",
       "      <td>1153.0</td>\n",
       "      <td>12772</td>\n",
       "      <td>45.43</td>\n",
       "    </tr>\n",
       "    <tr>\n",
       "      <th>27</th>\n",
       "      <td>local_recent_annee</td>\n",
       "      <td>float64</td>\n",
       "      <td>298</td>\n",
       "      <td>1900.0</td>\n",
       "      <td>1015.0</td>\n",
       "      <td>10694</td>\n",
       "      <td>38.04</td>\n",
       "    </tr>\n",
       "    <tr>\n",
       "      <th>28</th>\n",
       "      <td>proprio_type</td>\n",
       "      <td>object</td>\n",
       "      <td>1344</td>\n",
       "      <td>X1a</td>\n",
       "      <td>10389.0</td>\n",
       "      <td>313</td>\n",
       "      <td>1.11</td>\n",
       "    </tr>\n",
       "    <tr>\n",
       "      <th>29</th>\n",
       "      <td>proprio_personne</td>\n",
       "      <td>object</td>\n",
       "      <td>4</td>\n",
       "      <td>personne morale</td>\n",
       "      <td>16614.0</td>\n",
       "      <td>48</td>\n",
       "      <td>0.17</td>\n",
       "    </tr>\n",
       "    <tr>\n",
       "      <th>30</th>\n",
       "      <td>proprio_nom</td>\n",
       "      <td>object</td>\n",
       "      <td>12738</td>\n",
       "      <td>_X_</td>\n",
       "      <td>10389.0</td>\n",
       "      <td>313</td>\n",
       "      <td>1.11</td>\n",
       "    </tr>\n",
       "    <tr>\n",
       "      <th>31</th>\n",
       "      <td>sol_pollution_annee</td>\n",
       "      <td>float64</td>\n",
       "      <td>0</td>\n",
       "      <td>None</td>\n",
       "      <td>NaN</td>\n",
       "      <td>28115</td>\n",
       "      <td>100.00</td>\n",
       "    </tr>\n",
       "    <tr>\n",
       "      <th>32</th>\n",
       "      <td>sol_pollution_existe</td>\n",
       "      <td>object</td>\n",
       "      <td>7</td>\n",
       "      <td>inconnu</td>\n",
       "      <td>24816.0</td>\n",
       "      <td>0</td>\n",
       "      <td>0.00</td>\n",
       "    </tr>\n",
       "    <tr>\n",
       "      <th>33</th>\n",
       "      <td>sol_pollution_origine</td>\n",
       "      <td>object</td>\n",
       "      <td>4</td>\n",
       "      <td>inconnu</td>\n",
       "      <td>28085.0</td>\n",
       "      <td>0</td>\n",
       "      <td>0.00</td>\n",
       "    </tr>\n",
       "    <tr>\n",
       "      <th>34</th>\n",
       "      <td>sol_pollution_commentaire</td>\n",
       "      <td>float64</td>\n",
       "      <td>0</td>\n",
       "      <td>None</td>\n",
       "      <td>NaN</td>\n",
       "      <td>28115</td>\n",
       "      <td>100.00</td>\n",
       "    </tr>\n",
       "    <tr>\n",
       "      <th>35</th>\n",
       "      <td>sol_depollution_fiche</td>\n",
       "      <td>object</td>\n",
       "      <td>3</td>\n",
       "      <td>https://fiches-risques.brgm.fr/georisques/info...</td>\n",
       "      <td>1.0</td>\n",
       "      <td>28112</td>\n",
       "      <td>99.99</td>\n",
       "    </tr>\n",
       "    <tr>\n",
       "      <th>36</th>\n",
       "      <td>unite_fonciere_surface</td>\n",
       "      <td>float64</td>\n",
       "      <td>17319</td>\n",
       "      <td>187.0</td>\n",
       "      <td>24.0</td>\n",
       "      <td>63</td>\n",
       "      <td>0.22</td>\n",
       "    </tr>\n",
       "    <tr>\n",
       "      <th>37</th>\n",
       "      <td>unite_fonciere_refcad</td>\n",
       "      <td>object</td>\n",
       "      <td>26511</td>\n",
       "      <td>{59512000AE0114,59512000AE0115,59512000AE0116,...</td>\n",
       "      <td>18.0</td>\n",
       "      <td>37</td>\n",
       "      <td>0.13</td>\n",
       "    </tr>\n",
       "    <tr>\n",
       "      <th>38</th>\n",
       "      <td>urba_zone_type</td>\n",
       "      <td>object</td>\n",
       "      <td>10</td>\n",
       "      <td>U</td>\n",
       "      <td>15992.0</td>\n",
       "      <td>3953</td>\n",
       "      <td>14.06</td>\n",
       "    </tr>\n",
       "    <tr>\n",
       "      <th>39</th>\n",
       "      <td>urba_zone_lib</td>\n",
       "      <td>object</td>\n",
       "      <td>9058</td>\n",
       "      <td>ZnC - Secteur non ouvert à la construction, sa...</td>\n",
       "      <td>488.0</td>\n",
       "      <td>3953</td>\n",
       "      <td>14.06</td>\n",
       "    </tr>\n",
       "    <tr>\n",
       "      <th>40</th>\n",
       "      <td>urba_zone_formdomi</td>\n",
       "      <td>object</td>\n",
       "      <td>11</td>\n",
       "      <td>Habitat</td>\n",
       "      <td>1548.0</td>\n",
       "      <td>23579</td>\n",
       "      <td>83.87</td>\n",
       "    </tr>\n",
       "    <tr>\n",
       "      <th>41</th>\n",
       "      <td>urba_doc_type</td>\n",
       "      <td>object</td>\n",
       "      <td>5</td>\n",
       "      <td>PLU</td>\n",
       "      <td>12694.0</td>\n",
       "      <td>3851</td>\n",
       "      <td>13.70</td>\n",
       "    </tr>\n",
       "    <tr>\n",
       "      <th>42</th>\n",
       "      <td>desserte_distance</td>\n",
       "      <td>float64</td>\n",
       "      <td>0</td>\n",
       "      <td>None</td>\n",
       "      <td>NaN</td>\n",
       "      <td>28115</td>\n",
       "      <td>100.00</td>\n",
       "    </tr>\n",
       "    <tr>\n",
       "      <th>43</th>\n",
       "      <td>desserte_commentaire</td>\n",
       "      <td>float64</td>\n",
       "      <td>0</td>\n",
       "      <td>None</td>\n",
       "      <td>NaN</td>\n",
       "      <td>28115</td>\n",
       "      <td>100.00</td>\n",
       "    </tr>\n",
       "    <tr>\n",
       "      <th>44</th>\n",
       "      <td>source_nom</td>\n",
       "      <td>object</td>\n",
       "      <td>28</td>\n",
       "      <td>Site Basias ou Basol non vérifié par le Cerema</td>\n",
       "      <td>12906.0</td>\n",
       "      <td>0</td>\n",
       "      <td>0.00</td>\n",
       "    </tr>\n",
       "    <tr>\n",
       "      <th>45</th>\n",
       "      <td>source_url</td>\n",
       "      <td>object</td>\n",
       "      <td>12</td>\n",
       "      <td>https://www.data.gouv.fr/fr/datasets/inventair...</td>\n",
       "      <td>13751.0</td>\n",
       "      <td>6640</td>\n",
       "      <td>23.62</td>\n",
       "    </tr>\n",
       "    <tr>\n",
       "      <th>46</th>\n",
       "      <td>source_producteur</td>\n",
       "      <td>object</td>\n",
       "      <td>28</td>\n",
       "      <td>lou dupont</td>\n",
       "      <td>12906.0</td>\n",
       "      <td>0</td>\n",
       "      <td>0.00</td>\n",
       "    </tr>\n",
       "    <tr>\n",
       "      <th>47</th>\n",
       "      <td>source_contact</td>\n",
       "      <td>object</td>\n",
       "      <td>5</td>\n",
       "      <td>infoterritoriale@grandangouleme.fr</td>\n",
       "      <td>2185.0</td>\n",
       "      <td>25779</td>\n",
       "      <td>91.69</td>\n",
       "    </tr>\n",
       "    <tr>\n",
       "      <th>48</th>\n",
       "      <td>geompoint</td>\n",
       "      <td>object</td>\n",
       "      <td>26966</td>\n",
       "      <td>POINT (3.175503 50.7054)</td>\n",
       "      <td>18.0</td>\n",
       "      <td>0</td>\n",
       "      <td>0.00</td>\n",
       "    </tr>\n",
       "    <tr>\n",
       "      <th>49</th>\n",
       "      <td>geomsurf</td>\n",
       "      <td>float64</td>\n",
       "      <td>0</td>\n",
       "      <td>None</td>\n",
       "      <td>NaN</td>\n",
       "      <td>28115</td>\n",
       "      <td>100.00</td>\n",
       "    </tr>\n",
       "  </tbody>\n",
       "</table>\n",
       "</div>"
      ],
      "text/plain": [
       "                      Colonne     Type  Nb valeurs uniques  \\\n",
       "0                     site_id   object               28115   \n",
       "1                    site_nom   object               24071   \n",
       "2                   site_type   object                  19   \n",
       "3                site_adresse   object                3713   \n",
       "4           site_identif_date   object                 581   \n",
       "5              site_actu_date   object                 532   \n",
       "6                    site_url   object               16939   \n",
       "7              site_ademe_url  float64                   0   \n",
       "8               site_securite   object                   5   \n",
       "9             site_occupation   object                  20   \n",
       "10                site_statut   object                   4   \n",
       "11            site_projet_url  float64                   0   \n",
       "12          site_reconv_annee  float64                   0   \n",
       "13           site_reconv_type   object                  13   \n",
       "14           activite_libelle   object                1617   \n",
       "15              activite_code   object                 109   \n",
       "16         activite_fin_annee   object                  73   \n",
       "17                   comm_nom   object                9390   \n",
       "18                 comm_insee   object                9138   \n",
       "19                  bati_type   object                   9   \n",
       "20                bati_nombre  float64                 106   \n",
       "21               bati_surface  float64                  15   \n",
       "22             bati_pollution   object                   4   \n",
       "23               bati_vacance   object                   5   \n",
       "24            bati_patrimoine   object                   5   \n",
       "25                  bati_etat   object                   7   \n",
       "26         local_ancien_annee  float64                 323   \n",
       "27         local_recent_annee  float64                 298   \n",
       "28               proprio_type   object                1344   \n",
       "29           proprio_personne   object                   4   \n",
       "30                proprio_nom   object               12738   \n",
       "31        sol_pollution_annee  float64                   0   \n",
       "32       sol_pollution_existe   object                   7   \n",
       "33      sol_pollution_origine   object                   4   \n",
       "34  sol_pollution_commentaire  float64                   0   \n",
       "35      sol_depollution_fiche   object                   3   \n",
       "36     unite_fonciere_surface  float64               17319   \n",
       "37      unite_fonciere_refcad   object               26511   \n",
       "38             urba_zone_type   object                  10   \n",
       "39              urba_zone_lib   object                9058   \n",
       "40         urba_zone_formdomi   object                  11   \n",
       "41              urba_doc_type   object                   5   \n",
       "42          desserte_distance  float64                   0   \n",
       "43       desserte_commentaire  float64                   0   \n",
       "44                 source_nom   object                  28   \n",
       "45                 source_url   object                  12   \n",
       "46          source_producteur   object                  28   \n",
       "47             source_contact   object                   5   \n",
       "48                  geompoint   object               26966   \n",
       "49                   geomsurf  float64                   0   \n",
       "\n",
       "                                           Top valeur  Fréquence top valeur  \\\n",
       "0                                         01001_32316                   1.0   \n",
       "1                                            Décharge                 415.0   \n",
       "2                                             inconnu               16005.0   \n",
       "3                                          LE VILLAGE                  30.0   \n",
       "4                                          2022-10-10               15736.0   \n",
       "5                                          2022-10-10               15587.0   \n",
       "6                      https://www.suippes.fr/9143-2/                  14.0   \n",
       "7                                                None                   NaN   \n",
       "8                                             inconnu               20132.0   \n",
       "9                                             inconnu               25850.0   \n",
       "10                                 friche potentielle               13129.0   \n",
       "11                                               None                   NaN   \n",
       "12                                               None                   NaN   \n",
       "13                                            habitat                1100.0   \n",
       "14            Dépôt de liquides inflammables (D.L.I.)                1821.0   \n",
       "15                                              4520A                   7.0   \n",
       "16                                               2010                 315.0   \n",
       "17                                          ANGOULEME                 697.0   \n",
       "18                                              16015                 697.0   \n",
       "19                                            inconnu               25979.0   \n",
       "20                                                1.0               11281.0   \n",
       "21                                                0.0                   6.0   \n",
       "22                                            inconnu               26753.0   \n",
       "23                                            inconnu               26007.0   \n",
       "24                                            inconnu               25297.0   \n",
       "25                                            inconnu               22325.0   \n",
       "26                                             1900.0                1153.0   \n",
       "27                                             1900.0                1015.0   \n",
       "28                                                X1a               10389.0   \n",
       "29                                    personne morale               16614.0   \n",
       "30                                                _X_               10389.0   \n",
       "31                                               None                   NaN   \n",
       "32                                            inconnu               24816.0   \n",
       "33                                            inconnu               28085.0   \n",
       "34                                               None                   NaN   \n",
       "35  https://fiches-risques.brgm.fr/georisques/info...                   1.0   \n",
       "36                                              187.0                  24.0   \n",
       "37  {59512000AE0114,59512000AE0115,59512000AE0116,...                  18.0   \n",
       "38                                                  U               15992.0   \n",
       "39  ZnC - Secteur non ouvert à la construction, sa...                 488.0   \n",
       "40                                            Habitat                1548.0   \n",
       "41                                                PLU               12694.0   \n",
       "42                                               None                   NaN   \n",
       "43                                               None                   NaN   \n",
       "44     Site Basias ou Basol non vérifié par le Cerema               12906.0   \n",
       "45  https://www.data.gouv.fr/fr/datasets/inventair...               13751.0   \n",
       "46                                         lou dupont               12906.0   \n",
       "47                 infoterritoriale@grandangouleme.fr                2185.0   \n",
       "48                           POINT (3.175503 50.7054)                  18.0   \n",
       "49                                               None                   NaN   \n",
       "\n",
       "    Nb de NaN  % de NaN  \n",
       "0           0      0.00  \n",
       "1           0      0.00  \n",
       "2           0      0.00  \n",
       "3       24125     85.81  \n",
       "4           0      0.00  \n",
       "5           0      0.00  \n",
       "6       11120     39.55  \n",
       "7       28115    100.00  \n",
       "8        5822     20.71  \n",
       "9           0      0.00  \n",
       "10          0      0.00  \n",
       "11      28115    100.00  \n",
       "12      28115    100.00  \n",
       "13      25503     90.71  \n",
       "14      13485     47.96  \n",
       "15      27961     99.45  \n",
       "16      24109     85.75  \n",
       "17        132      0.47  \n",
       "18        132      0.47  \n",
       "19          0      0.00  \n",
       "20         66      0.23  \n",
       "21      28095     99.93  \n",
       "22          0      0.00  \n",
       "23          0      0.00  \n",
       "24          0      0.00  \n",
       "25          0      0.00  \n",
       "26      12772     45.43  \n",
       "27      10694     38.04  \n",
       "28        313      1.11  \n",
       "29         48      0.17  \n",
       "30        313      1.11  \n",
       "31      28115    100.00  \n",
       "32          0      0.00  \n",
       "33          0      0.00  \n",
       "34      28115    100.00  \n",
       "35      28112     99.99  \n",
       "36         63      0.22  \n",
       "37         37      0.13  \n",
       "38       3953     14.06  \n",
       "39       3953     14.06  \n",
       "40      23579     83.87  \n",
       "41       3851     13.70  \n",
       "42      28115    100.00  \n",
       "43      28115    100.00  \n",
       "44          0      0.00  \n",
       "45       6640     23.62  \n",
       "46          0      0.00  \n",
       "47      25779     91.69  \n",
       "48          0      0.00  \n",
       "49      28115    100.00  "
      ]
     },
     "execution_count": 25,
     "metadata": {},
     "output_type": "execute_result"
    }
   ],
   "source": [
    "#Audit qualité\n",
    "audit_report = []\n",
    "\n",
    "for col in df.columns:\n",
    "    series = df[col]\n",
    "    audit_report.append({\n",
    "        \"Colonne\": col,\n",
    "        \"Type\": series.dtype,\n",
    "        \"Nb valeurs uniques\": series.nunique(dropna=True),\n",
    "        \"Top valeur\": series.mode().iloc[0] if not series.mode().empty else None,\n",
    "        \"Fréquence top valeur\": series.value_counts(dropna=True).iloc[0] if not series.value_counts(dropna=True).empty else None,\n",
    "        \"Nb de NaN\": series.isna().sum(),\n",
    "        \"% de NaN\": round(series.isna().mean() * 100, 2)\n",
    "    })\n",
    "\n",
    "audit_df = pd.DataFrame(audit_report)\n",
    "audit_df"
   ]
  },
  {
   "cell_type": "code",
   "execution_count": 82,
   "id": "d28a82e0-7199-44ad-93cb-0185e7f50f4a",
   "metadata": {},
   "outputs": [
    {
     "data": {
      "application/vnd.plotly.v1+json": {
       "config": {
        "plotlyServerURL": "https://plot.ly"
       },
       "data": [
        {
         "hoverinfo": "text",
         "hovertext": [
          "<b>site_nom</b><br>NaN avant : 0<br>NaN après : 5<br><br><b>Top valeurs :</b><br>Décharge : 415<br>Garage : 147<br>Propriétaire privé : 114<br>Station service : 105<br>Station-service : 99",
          "<b>site_type</b><br>NaN avant : 0<br>NaN après : 17229<br><br><b>Top valeurs :</b><br>inconnu : 16005<br>friche d'habitat : 3982<br>friche industrielle : 2618<br>autre : 1224<br>friche commerciale : 1196",
          "<b>site_securite</b><br>NaN avant : 5822<br>NaN après : 25954<br><br><b>Top valeurs :</b><br>inconnu : 20132<br>évacuation des produits dangereux et déchets présents sur le site : 2144<br>sans objet : 12<br>interdictions ou limitations d'accès au site : 4<br>mesures de gestion de pollution ou restrictions temporaires : 1",
          "<b>site_occupation</b><br>NaN avant : 0<br>NaN après : 25850<br><br><b>Top valeurs :</b><br>inconnu : 25850<br>friche d'habitat : 1608<br>friche commerciale : 284<br>totalement inoccupé : 89<br>friche industrielle : 83",
          "<b>site_reconv_type</b><br>NaN avant : 25503<br>NaN après : 25784<br><br><b>Top valeurs :</b><br>habitat : 1100<br>mixte : 351<br>autres activités économiques : 328<br>inconnu : 225<br>équipement public : 215",
          "<b>activite_fin_annee</b><br>NaN avant : 24109<br>NaN après : 24389<br><br><b>Top valeurs :</b><br>2010 : 315<br>inconnu : 280<br>2022 : 275<br>2015 : 265<br>2021 : 256",
          "<b>bati_type</b><br>NaN avant : 0<br>NaN après : 25979<br><br><b>Top valeurs :</b><br>inconnu : 25979<br>résidentiel : 1677<br>commercial : 280<br>industriel : 96<br>secteur tertiaire : 63",
          "<b>bati_pollution</b><br>NaN avant : 0<br>NaN après : 26883<br><br><b>Top valeurs :</b><br>inconnu : 26753<br>amiante : 1210<br>autre : 130<br>plomb : 22",
          "<b>bati_vacance</b><br>NaN avant : 0<br>NaN après : 26007<br><br><b>Top valeurs :</b><br>inconnu : 26007<br>vacant : 1700<br>occupé : 365<br>partiellement occupé : 42<br>partiellement inoccupé : 1",
          "<b>bati_patrimoine</b><br>NaN avant : 0<br>NaN après : 25297<br><br><b>Top valeurs :</b><br>inconnu : 25297<br>aucun : 2581<br>présence d'un bâtiment d'intérêt : 203<br>présence d'un bâtiment classé : 33<br>présence d'un bâtiment inscrit : 1",
          "<b>bati_etat</b><br>NaN avant : 0<br>NaN après : 22335<br><br><b>Top valeurs :</b><br>inconnu : 22325<br>dégradation moyenne : 2878<br>dégradation inexistante ou faible : 1421<br>dégradation très importante : 1303<br>sans objet : 169",
          "<b>proprio_personne</b><br>NaN avant : 48<br>NaN après : 1064<br><br><b>Top valeurs :</b><br>personne morale : 16614<br>personne physique : 10437<br>autre : 998<br>inconnu : 18",
          "<b>sol_pollution_existe</b><br>NaN avant : 0<br>NaN après : 24816<br><br><b>Top valeurs :</b><br>inconnu : 24816<br>pollution supposée : 1523<br>pollution peu probable : 846<br>pollution inexistante : 485<br>pollution avérée : 436",
          "<b>sol_pollution_origine</b><br>NaN avant : 0<br>NaN après : 28085<br><br><b>Top valeurs :</b><br>inconnu : 28085<br>pollution due au fonctionnement de l'installation : 17<br>origine accidentelle (transport, transbordement, manipulation,...) : 7<br>dépôt de déchets, stockages de produits : 6",
          "<b>urba_doc_type</b><br>NaN avant : 3851<br>NaN après : 3918<br><br><b>Top valeurs :</b><br>PLU : 12694<br>PLUI : 10367<br>CC : 1073<br>autre : 67<br>PSMV : 63"
         ],
         "marker": {
          "color": "#A3C1E1",
          "opacity": 0.6
         },
         "name": "NaN avant",
         "type": "bar",
         "x": [
          "site_nom",
          "site_type",
          "site_securite",
          "site_occupation",
          "site_reconv_type",
          "activite_fin_annee",
          "bati_type",
          "bati_pollution",
          "bati_vacance",
          "bati_patrimoine",
          "bati_etat",
          "proprio_personne",
          "sol_pollution_existe",
          "sol_pollution_origine",
          "urba_doc_type"
         ],
         "y": [
          0,
          0,
          5822,
          0,
          25503,
          24109,
          0,
          0,
          0,
          0,
          0,
          48,
          0,
          0,
          3851
         ]
        },
        {
         "hoverinfo": "text",
         "hovertext": [
          "<b>site_nom</b><br>NaN avant : 0<br>NaN après : 5<br><br><b>Top valeurs :</b><br>Décharge : 415<br>Garage : 147<br>Propriétaire privé : 114<br>Station service : 105<br>Station-service : 99",
          "<b>site_type</b><br>NaN avant : 0<br>NaN après : 17229<br><br><b>Top valeurs :</b><br>inconnu : 16005<br>friche d'habitat : 3982<br>friche industrielle : 2618<br>autre : 1224<br>friche commerciale : 1196",
          "<b>site_securite</b><br>NaN avant : 5822<br>NaN après : 25954<br><br><b>Top valeurs :</b><br>inconnu : 20132<br>évacuation des produits dangereux et déchets présents sur le site : 2144<br>sans objet : 12<br>interdictions ou limitations d'accès au site : 4<br>mesures de gestion de pollution ou restrictions temporaires : 1",
          "<b>site_occupation</b><br>NaN avant : 0<br>NaN après : 25850<br><br><b>Top valeurs :</b><br>inconnu : 25850<br>friche d'habitat : 1608<br>friche commerciale : 284<br>totalement inoccupé : 89<br>friche industrielle : 83",
          "<b>site_reconv_type</b><br>NaN avant : 25503<br>NaN après : 25784<br><br><b>Top valeurs :</b><br>habitat : 1100<br>mixte : 351<br>autres activités économiques : 328<br>inconnu : 225<br>équipement public : 215",
          "<b>activite_fin_annee</b><br>NaN avant : 24109<br>NaN après : 24389<br><br><b>Top valeurs :</b><br>2010 : 315<br>inconnu : 280<br>2022 : 275<br>2015 : 265<br>2021 : 256",
          "<b>bati_type</b><br>NaN avant : 0<br>NaN après : 25979<br><br><b>Top valeurs :</b><br>inconnu : 25979<br>résidentiel : 1677<br>commercial : 280<br>industriel : 96<br>secteur tertiaire : 63",
          "<b>bati_pollution</b><br>NaN avant : 0<br>NaN après : 26883<br><br><b>Top valeurs :</b><br>inconnu : 26753<br>amiante : 1210<br>autre : 130<br>plomb : 22",
          "<b>bati_vacance</b><br>NaN avant : 0<br>NaN après : 26007<br><br><b>Top valeurs :</b><br>inconnu : 26007<br>vacant : 1700<br>occupé : 365<br>partiellement occupé : 42<br>partiellement inoccupé : 1",
          "<b>bati_patrimoine</b><br>NaN avant : 0<br>NaN après : 25297<br><br><b>Top valeurs :</b><br>inconnu : 25297<br>aucun : 2581<br>présence d'un bâtiment d'intérêt : 203<br>présence d'un bâtiment classé : 33<br>présence d'un bâtiment inscrit : 1",
          "<b>bati_etat</b><br>NaN avant : 0<br>NaN après : 22335<br><br><b>Top valeurs :</b><br>inconnu : 22325<br>dégradation moyenne : 2878<br>dégradation inexistante ou faible : 1421<br>dégradation très importante : 1303<br>sans objet : 169",
          "<b>proprio_personne</b><br>NaN avant : 48<br>NaN après : 1064<br><br><b>Top valeurs :</b><br>personne morale : 16614<br>personne physique : 10437<br>autre : 998<br>inconnu : 18",
          "<b>sol_pollution_existe</b><br>NaN avant : 0<br>NaN après : 24816<br><br><b>Top valeurs :</b><br>inconnu : 24816<br>pollution supposée : 1523<br>pollution peu probable : 846<br>pollution inexistante : 485<br>pollution avérée : 436",
          "<b>sol_pollution_origine</b><br>NaN avant : 0<br>NaN après : 28085<br><br><b>Top valeurs :</b><br>inconnu : 28085<br>pollution due au fonctionnement de l'installation : 17<br>origine accidentelle (transport, transbordement, manipulation,...) : 7<br>dépôt de déchets, stockages de produits : 6",
          "<b>urba_doc_type</b><br>NaN avant : 3851<br>NaN après : 3918<br><br><b>Top valeurs :</b><br>PLU : 12694<br>PLUI : 10367<br>CC : 1073<br>autre : 67<br>PSMV : 63"
         ],
         "marker": {
          "color": "#FFB3B3",
          "opacity": 0.9
         },
         "name": "NaN après",
         "type": "bar",
         "x": [
          "site_nom",
          "site_type",
          "site_securite",
          "site_occupation",
          "site_reconv_type",
          "activite_fin_annee",
          "bati_type",
          "bati_pollution",
          "bati_vacance",
          "bati_patrimoine",
          "bati_etat",
          "proprio_personne",
          "sol_pollution_existe",
          "sol_pollution_origine",
          "urba_doc_type"
         ],
         "y": [
          5,
          17229,
          25954,
          25850,
          25784,
          24389,
          25979,
          26883,
          26007,
          25297,
          22335,
          1064,
          24816,
          28085,
          3918
         ]
        }
       ],
       "layout": {
        "autosize": true,
        "barmode": "group",
        "font": {
         "color": "black"
        },
        "paper_bgcolor": "white",
        "plot_bgcolor": "white",
        "template": {
         "data": {
          "bar": [
           {
            "error_x": {
             "color": "#2a3f5f"
            },
            "error_y": {
             "color": "#2a3f5f"
            },
            "marker": {
             "line": {
              "color": "#E5ECF6",
              "width": 0.5
             },
             "pattern": {
              "fillmode": "overlay",
              "size": 10,
              "solidity": 0.2
             }
            },
            "type": "bar"
           }
          ],
          "barpolar": [
           {
            "marker": {
             "line": {
              "color": "#E5ECF6",
              "width": 0.5
             },
             "pattern": {
              "fillmode": "overlay",
              "size": 10,
              "solidity": 0.2
             }
            },
            "type": "barpolar"
           }
          ],
          "carpet": [
           {
            "aaxis": {
             "endlinecolor": "#2a3f5f",
             "gridcolor": "white",
             "linecolor": "white",
             "minorgridcolor": "white",
             "startlinecolor": "#2a3f5f"
            },
            "baxis": {
             "endlinecolor": "#2a3f5f",
             "gridcolor": "white",
             "linecolor": "white",
             "minorgridcolor": "white",
             "startlinecolor": "#2a3f5f"
            },
            "type": "carpet"
           }
          ],
          "choropleth": [
           {
            "colorbar": {
             "outlinewidth": 0,
             "ticks": ""
            },
            "type": "choropleth"
           }
          ],
          "contour": [
           {
            "colorbar": {
             "outlinewidth": 0,
             "ticks": ""
            },
            "colorscale": [
             [
              0,
              "#0d0887"
             ],
             [
              0.1111111111111111,
              "#46039f"
             ],
             [
              0.2222222222222222,
              "#7201a8"
             ],
             [
              0.3333333333333333,
              "#9c179e"
             ],
             [
              0.4444444444444444,
              "#bd3786"
             ],
             [
              0.5555555555555556,
              "#d8576b"
             ],
             [
              0.6666666666666666,
              "#ed7953"
             ],
             [
              0.7777777777777778,
              "#fb9f3a"
             ],
             [
              0.8888888888888888,
              "#fdca26"
             ],
             [
              1,
              "#f0f921"
             ]
            ],
            "type": "contour"
           }
          ],
          "contourcarpet": [
           {
            "colorbar": {
             "outlinewidth": 0,
             "ticks": ""
            },
            "type": "contourcarpet"
           }
          ],
          "heatmap": [
           {
            "colorbar": {
             "outlinewidth": 0,
             "ticks": ""
            },
            "colorscale": [
             [
              0,
              "#0d0887"
             ],
             [
              0.1111111111111111,
              "#46039f"
             ],
             [
              0.2222222222222222,
              "#7201a8"
             ],
             [
              0.3333333333333333,
              "#9c179e"
             ],
             [
              0.4444444444444444,
              "#bd3786"
             ],
             [
              0.5555555555555556,
              "#d8576b"
             ],
             [
              0.6666666666666666,
              "#ed7953"
             ],
             [
              0.7777777777777778,
              "#fb9f3a"
             ],
             [
              0.8888888888888888,
              "#fdca26"
             ],
             [
              1,
              "#f0f921"
             ]
            ],
            "type": "heatmap"
           }
          ],
          "heatmapgl": [
           {
            "colorbar": {
             "outlinewidth": 0,
             "ticks": ""
            },
            "colorscale": [
             [
              0,
              "#0d0887"
             ],
             [
              0.1111111111111111,
              "#46039f"
             ],
             [
              0.2222222222222222,
              "#7201a8"
             ],
             [
              0.3333333333333333,
              "#9c179e"
             ],
             [
              0.4444444444444444,
              "#bd3786"
             ],
             [
              0.5555555555555556,
              "#d8576b"
             ],
             [
              0.6666666666666666,
              "#ed7953"
             ],
             [
              0.7777777777777778,
              "#fb9f3a"
             ],
             [
              0.8888888888888888,
              "#fdca26"
             ],
             [
              1,
              "#f0f921"
             ]
            ],
            "type": "heatmapgl"
           }
          ],
          "histogram": [
           {
            "marker": {
             "pattern": {
              "fillmode": "overlay",
              "size": 10,
              "solidity": 0.2
             }
            },
            "type": "histogram"
           }
          ],
          "histogram2d": [
           {
            "colorbar": {
             "outlinewidth": 0,
             "ticks": ""
            },
            "colorscale": [
             [
              0,
              "#0d0887"
             ],
             [
              0.1111111111111111,
              "#46039f"
             ],
             [
              0.2222222222222222,
              "#7201a8"
             ],
             [
              0.3333333333333333,
              "#9c179e"
             ],
             [
              0.4444444444444444,
              "#bd3786"
             ],
             [
              0.5555555555555556,
              "#d8576b"
             ],
             [
              0.6666666666666666,
              "#ed7953"
             ],
             [
              0.7777777777777778,
              "#fb9f3a"
             ],
             [
              0.8888888888888888,
              "#fdca26"
             ],
             [
              1,
              "#f0f921"
             ]
            ],
            "type": "histogram2d"
           }
          ],
          "histogram2dcontour": [
           {
            "colorbar": {
             "outlinewidth": 0,
             "ticks": ""
            },
            "colorscale": [
             [
              0,
              "#0d0887"
             ],
             [
              0.1111111111111111,
              "#46039f"
             ],
             [
              0.2222222222222222,
              "#7201a8"
             ],
             [
              0.3333333333333333,
              "#9c179e"
             ],
             [
              0.4444444444444444,
              "#bd3786"
             ],
             [
              0.5555555555555556,
              "#d8576b"
             ],
             [
              0.6666666666666666,
              "#ed7953"
             ],
             [
              0.7777777777777778,
              "#fb9f3a"
             ],
             [
              0.8888888888888888,
              "#fdca26"
             ],
             [
              1,
              "#f0f921"
             ]
            ],
            "type": "histogram2dcontour"
           }
          ],
          "mesh3d": [
           {
            "colorbar": {
             "outlinewidth": 0,
             "ticks": ""
            },
            "type": "mesh3d"
           }
          ],
          "parcoords": [
           {
            "line": {
             "colorbar": {
              "outlinewidth": 0,
              "ticks": ""
             }
            },
            "type": "parcoords"
           }
          ],
          "pie": [
           {
            "automargin": true,
            "type": "pie"
           }
          ],
          "scatter": [
           {
            "fillpattern": {
             "fillmode": "overlay",
             "size": 10,
             "solidity": 0.2
            },
            "type": "scatter"
           }
          ],
          "scatter3d": [
           {
            "line": {
             "colorbar": {
              "outlinewidth": 0,
              "ticks": ""
             }
            },
            "marker": {
             "colorbar": {
              "outlinewidth": 0,
              "ticks": ""
             }
            },
            "type": "scatter3d"
           }
          ],
          "scattercarpet": [
           {
            "marker": {
             "colorbar": {
              "outlinewidth": 0,
              "ticks": ""
             }
            },
            "type": "scattercarpet"
           }
          ],
          "scattergeo": [
           {
            "marker": {
             "colorbar": {
              "outlinewidth": 0,
              "ticks": ""
             }
            },
            "type": "scattergeo"
           }
          ],
          "scattergl": [
           {
            "marker": {
             "colorbar": {
              "outlinewidth": 0,
              "ticks": ""
             }
            },
            "type": "scattergl"
           }
          ],
          "scattermapbox": [
           {
            "marker": {
             "colorbar": {
              "outlinewidth": 0,
              "ticks": ""
             }
            },
            "type": "scattermapbox"
           }
          ],
          "scatterpolar": [
           {
            "marker": {
             "colorbar": {
              "outlinewidth": 0,
              "ticks": ""
             }
            },
            "type": "scatterpolar"
           }
          ],
          "scatterpolargl": [
           {
            "marker": {
             "colorbar": {
              "outlinewidth": 0,
              "ticks": ""
             }
            },
            "type": "scatterpolargl"
           }
          ],
          "scatterternary": [
           {
            "marker": {
             "colorbar": {
              "outlinewidth": 0,
              "ticks": ""
             }
            },
            "type": "scatterternary"
           }
          ],
          "surface": [
           {
            "colorbar": {
             "outlinewidth": 0,
             "ticks": ""
            },
            "colorscale": [
             [
              0,
              "#0d0887"
             ],
             [
              0.1111111111111111,
              "#46039f"
             ],
             [
              0.2222222222222222,
              "#7201a8"
             ],
             [
              0.3333333333333333,
              "#9c179e"
             ],
             [
              0.4444444444444444,
              "#bd3786"
             ],
             [
              0.5555555555555556,
              "#d8576b"
             ],
             [
              0.6666666666666666,
              "#ed7953"
             ],
             [
              0.7777777777777778,
              "#fb9f3a"
             ],
             [
              0.8888888888888888,
              "#fdca26"
             ],
             [
              1,
              "#f0f921"
             ]
            ],
            "type": "surface"
           }
          ],
          "table": [
           {
            "cells": {
             "fill": {
              "color": "#EBF0F8"
             },
             "line": {
              "color": "white"
             }
            },
            "header": {
             "fill": {
              "color": "#C8D4E3"
             },
             "line": {
              "color": "white"
             }
            },
            "type": "table"
           }
          ]
         },
         "layout": {
          "annotationdefaults": {
           "arrowcolor": "#2a3f5f",
           "arrowhead": 0,
           "arrowwidth": 1
          },
          "autotypenumbers": "strict",
          "coloraxis": {
           "colorbar": {
            "outlinewidth": 0,
            "ticks": ""
           }
          },
          "colorscale": {
           "diverging": [
            [
             0,
             "#8e0152"
            ],
            [
             0.1,
             "#c51b7d"
            ],
            [
             0.2,
             "#de77ae"
            ],
            [
             0.3,
             "#f1b6da"
            ],
            [
             0.4,
             "#fde0ef"
            ],
            [
             0.5,
             "#f7f7f7"
            ],
            [
             0.6,
             "#e6f5d0"
            ],
            [
             0.7,
             "#b8e186"
            ],
            [
             0.8,
             "#7fbc41"
            ],
            [
             0.9,
             "#4d9221"
            ],
            [
             1,
             "#276419"
            ]
           ],
           "sequential": [
            [
             0,
             "#0d0887"
            ],
            [
             0.1111111111111111,
             "#46039f"
            ],
            [
             0.2222222222222222,
             "#7201a8"
            ],
            [
             0.3333333333333333,
             "#9c179e"
            ],
            [
             0.4444444444444444,
             "#bd3786"
            ],
            [
             0.5555555555555556,
             "#d8576b"
            ],
            [
             0.6666666666666666,
             "#ed7953"
            ],
            [
             0.7777777777777778,
             "#fb9f3a"
            ],
            [
             0.8888888888888888,
             "#fdca26"
            ],
            [
             1,
             "#f0f921"
            ]
           ],
           "sequentialminus": [
            [
             0,
             "#0d0887"
            ],
            [
             0.1111111111111111,
             "#46039f"
            ],
            [
             0.2222222222222222,
             "#7201a8"
            ],
            [
             0.3333333333333333,
             "#9c179e"
            ],
            [
             0.4444444444444444,
             "#bd3786"
            ],
            [
             0.5555555555555556,
             "#d8576b"
            ],
            [
             0.6666666666666666,
             "#ed7953"
            ],
            [
             0.7777777777777778,
             "#fb9f3a"
            ],
            [
             0.8888888888888888,
             "#fdca26"
            ],
            [
             1,
             "#f0f921"
            ]
           ]
          },
          "colorway": [
           "#636efa",
           "#EF553B",
           "#00cc96",
           "#ab63fa",
           "#FFA15A",
           "#19d3f3",
           "#FF6692",
           "#B6E880",
           "#FF97FF",
           "#FECB52"
          ],
          "font": {
           "color": "#2a3f5f"
          },
          "geo": {
           "bgcolor": "white",
           "lakecolor": "white",
           "landcolor": "#E5ECF6",
           "showlakes": true,
           "showland": true,
           "subunitcolor": "white"
          },
          "hoverlabel": {
           "align": "left"
          },
          "hovermode": "closest",
          "mapbox": {
           "style": "light"
          },
          "paper_bgcolor": "white",
          "plot_bgcolor": "#E5ECF6",
          "polar": {
           "angularaxis": {
            "gridcolor": "white",
            "linecolor": "white",
            "ticks": ""
           },
           "bgcolor": "#E5ECF6",
           "radialaxis": {
            "gridcolor": "white",
            "linecolor": "white",
            "ticks": ""
           }
          },
          "scene": {
           "xaxis": {
            "backgroundcolor": "#E5ECF6",
            "gridcolor": "white",
            "gridwidth": 2,
            "linecolor": "white",
            "showbackground": true,
            "ticks": "",
            "zerolinecolor": "white"
           },
           "yaxis": {
            "backgroundcolor": "#E5ECF6",
            "gridcolor": "white",
            "gridwidth": 2,
            "linecolor": "white",
            "showbackground": true,
            "ticks": "",
            "zerolinecolor": "white"
           },
           "zaxis": {
            "backgroundcolor": "#E5ECF6",
            "gridcolor": "white",
            "gridwidth": 2,
            "linecolor": "white",
            "showbackground": true,
            "ticks": "",
            "zerolinecolor": "white"
           }
          },
          "shapedefaults": {
           "line": {
            "color": "#2a3f5f"
           }
          },
          "ternary": {
           "aaxis": {
            "gridcolor": "white",
            "linecolor": "white",
            "ticks": ""
           },
           "baxis": {
            "gridcolor": "white",
            "linecolor": "white",
            "ticks": ""
           },
           "bgcolor": "#E5ECF6",
           "caxis": {
            "gridcolor": "white",
            "linecolor": "white",
            "ticks": ""
           }
          },
          "title": {
           "x": 0.05
          },
          "xaxis": {
           "automargin": true,
           "gridcolor": "white",
           "linecolor": "white",
           "ticks": "",
           "title": {
            "standoff": 15
           },
           "zerolinecolor": "white",
           "zerolinewidth": 2
          },
          "yaxis": {
           "automargin": true,
           "gridcolor": "white",
           "linecolor": "white",
           "ticks": "",
           "title": {
            "standoff": 15
           },
           "zerolinecolor": "white",
           "zerolinewidth": 2
          }
         }
        },
        "title": {
         "text": "Effet du nettoyage sur les NaN (avec Top 5 des valeurs)"
        },
        "xaxis": {
         "autorange": true,
         "range": [
          -0.5,
          14.5
         ],
         "tickangle": -45,
         "title": {
          "text": "Colonnes affectées"
         },
         "type": "category"
        },
        "yaxis": {
         "autorange": true,
         "range": [
          0,
          29563.157894736843
         ],
         "title": {
          "text": "Nombre de valeurs manquantes"
         },
         "type": "linear"
        }
       }
      },
      "image/png": "[encoded data removed]",
      "text/html": [
       "<div>                            <div id=\"38a98330-cbf9-4d20-a8f1-0c539541e91f\" class=\"plotly-graph-div\" style=\"height:600px; width:100%;\"></div>            <script type=\"text/javascript\">                require([\"plotly\"], function(Plotly) {                    window.PLOTLYENV=window.PLOTLYENV || {};                                    if (document.getElementById(\"38a98330-cbf9-4d20-a8f1-0c539541e91f\")) {                    Plotly.newPlot(                        \"38a98330-cbf9-4d20-a8f1-0c539541e91f\",                        [{\"hoverinfo\":\"text\",\"hovertext\":[\"\\u003cb\\u003esite_nom\\u003c\\u002fb\\u003e\\u003cbr\\u003eNaN avant : 0\\u003cbr\\u003eNaN apr\\u00e8s : 5\\u003cbr\\u003e\\u003cbr\\u003e\\u003cb\\u003eTop valeurs :\\u003c\\u002fb\\u003e\\u003cbr\\u003eD\\u00e9charge : 415\\u003cbr\\u003eGarage : 147\\u003cbr\\u003ePropri\\u00e9taire priv\\u00e9 : 114\\u003cbr\\u003eStation service : 105\\u003cbr\\u003eStation-service : 99\",\"\\u003cb\\u003esite_type\\u003c\\u002fb\\u003e\\u003cbr\\u003eNaN avant : 0\\u003cbr\\u003eNaN apr\\u00e8s : 17229\\u003cbr\\u003e\\u003cbr\\u003e\\u003cb\\u003eTop valeurs :\\u003c\\u002fb\\u003e\\u003cbr\\u003einconnu : 16005\\u003cbr\\u003efriche d'habitat : 3982\\u003cbr\\u003efriche industrielle : 2618\\u003cbr\\u003eautre : 1224\\u003cbr\\u003efriche commerciale : 1196\",\"\\u003cb\\u003esite_securite\\u003c\\u002fb\\u003e\\u003cbr\\u003eNaN avant : 5822\\u003cbr\\u003eNaN apr\\u00e8s : 25954\\u003cbr\\u003e\\u003cbr\\u003e\\u003cb\\u003eTop valeurs :\\u003c\\u002fb\\u003e\\u003cbr\\u003einconnu : 20132\\u003cbr\\u003e\\u00e9vacuation des produits dangereux et d\\u00e9chets pr\\u00e9sents sur le site : 2144\\u003cbr\\u003esans objet : 12\\u003cbr\\u003einterdictions ou limitations d'acc\\u00e8s au site : 4\\u003cbr\\u003emesures de gestion de pollution ou restrictions temporaires : 1\",\"\\u003cb\\u003esite_occupation\\u003c\\u002fb\\u003e\\u003cbr\\u003eNaN avant : 0\\u003cbr\\u003eNaN apr\\u00e8s : 25850\\u003cbr\\u003e\\u003cbr\\u003e\\u003cb\\u003eTop valeurs :\\u003c\\u002fb\\u003e\\u003cbr\\u003einconnu : 25850\\u003cbr\\u003efriche d'habitat : 1608\\u003cbr\\u003efriche commerciale : 284\\u003cbr\\u003etotalement inoccup\\u00e9 : 89\\u003cbr\\u003efriche industrielle : 83\",\"\\u003cb\\u003esite_reconv_type\\u003c\\u002fb\\u003e\\u003cbr\\u003eNaN avant : 25503\\u003cbr\\u003eNaN apr\\u00e8s : 25784\\u003cbr\\u003e\\u003cbr\\u003e\\u003cb\\u003eTop valeurs :\\u003c\\u002fb\\u003e\\u003cbr\\u003ehabitat : 1100\\u003cbr\\u003emixte : 351\\u003cbr\\u003eautres activit\\u00e9s \\u00e9conomiques : 328\\u003cbr\\u003einconnu : 225\\u003cbr\\u003e\\u00e9quipement public : 215\",\"\\u003cb\\u003eactivite_fin_annee\\u003c\\u002fb\\u003e\\u003cbr\\u003eNaN avant : 24109\\u003cbr\\u003eNaN apr\\u00e8s : 24389\\u003cbr\\u003e\\u003cbr\\u003e\\u003cb\\u003eTop valeurs :\\u003c\\u002fb\\u003e\\u003cbr\\u003e2010 : 315\\u003cbr\\u003einconnu : 280\\u003cbr\\u003e2022 : 275\\u003cbr\\u003e2015 : 265\\u003cbr\\u003e2021 : 256\",\"\\u003cb\\u003ebati_type\\u003c\\u002fb\\u003e\\u003cbr\\u003eNaN avant : 0\\u003cbr\\u003eNaN apr\\u00e8s : 25979\\u003cbr\\u003e\\u003cbr\\u003e\\u003cb\\u003eTop valeurs :\\u003c\\u002fb\\u003e\\u003cbr\\u003einconnu : 25979\\u003cbr\\u003er\\u00e9sidentiel : 1677\\u003cbr\\u003ecommercial : 280\\u003cbr\\u003eindustriel : 96\\u003cbr\\u003esecteur tertiaire : 63\",\"\\u003cb\\u003ebati_pollution\\u003c\\u002fb\\u003e\\u003cbr\\u003eNaN avant : 0\\u003cbr\\u003eNaN apr\\u00e8s : 26883\\u003cbr\\u003e\\u003cbr\\u003e\\u003cb\\u003eTop valeurs :\\u003c\\u002fb\\u003e\\u003cbr\\u003einconnu : 26753\\u003cbr\\u003eamiante : 1210\\u003cbr\\u003eautre : 130\\u003cbr\\u003eplomb : 22\",\"\\u003cb\\u003ebati_vacance\\u003c\\u002fb\\u003e\\u003cbr\\u003eNaN avant : 0\\u003cbr\\u003eNaN apr\\u00e8s : 26007\\u003cbr\\u003e\\u003cbr\\u003e\\u003cb\\u003eTop valeurs :\\u003c\\u002fb\\u003e\\u003cbr\\u003einconnu : 26007\\u003cbr\\u003evacant : 1700\\u003cbr\\u003eoccup\\u00e9 : 365\\u003cbr\\u003epartiellement occup\\u00e9 : 42\\u003cbr\\u003epartiellement inoccup\\u00e9 : 1\",\"\\u003cb\\u003ebati_patrimoine\\u003c\\u002fb\\u003e\\u003cbr\\u003eNaN avant : 0\\u003cbr\\u003eNaN apr\\u00e8s : 25297\\u003cbr\\u003e\\u003cbr\\u003e\\u003cb\\u003eTop valeurs :\\u003c\\u002fb\\u003e\\u003cbr\\u003einconnu : 25297\\u003cbr\\u003eaucun : 2581\\u003cbr\\u003epr\\u00e9sence d'un b\\u00e2timent d'int\\u00e9r\\u00eat : 203\\u003cbr\\u003epr\\u00e9sence d'un b\\u00e2timent class\\u00e9 : 33\\u003cbr\\u003epr\\u00e9sence d'un b\\u00e2timent inscrit : 1\",\"\\u003cb\\u003ebati_etat\\u003c\\u002fb\\u003e\\u003cbr\\u003eNaN avant : 0\\u003cbr\\u003eNaN apr\\u00e8s : 22335\\u003cbr\\u003e\\u003cbr\\u003e\\u003cb\\u003eTop valeurs :\\u003c\\u002fb\\u003e\\u003cbr\\u003einconnu : 22325\\u003cbr\\u003ed\\u00e9gradation moyenne : 2878\\u003cbr\\u003ed\\u00e9gradation inexistante ou faible : 1421\\u003cbr\\u003ed\\u00e9gradation tr\\u00e8s importante : 1303\\u003cbr\\u003esans objet : 169\",\"\\u003cb\\u003eproprio_personne\\u003c\\u002fb\\u003e\\u003cbr\\u003eNaN avant : 48\\u003cbr\\u003eNaN apr\\u00e8s : 1064\\u003cbr\\u003e\\u003cbr\\u003e\\u003cb\\u003eTop valeurs :\\u003c\\u002fb\\u003e\\u003cbr\\u003epersonne morale : 16614\\u003cbr\\u003epersonne physique : 10437\\u003cbr\\u003eautre : 998\\u003cbr\\u003einconnu : 18\",\"\\u003cb\\u003esol_pollution_existe\\u003c\\u002fb\\u003e\\u003cbr\\u003eNaN avant : 0\\u003cbr\\u003eNaN apr\\u00e8s : 24816\\u003cbr\\u003e\\u003cbr\\u003e\\u003cb\\u003eTop valeurs :\\u003c\\u002fb\\u003e\\u003cbr\\u003einconnu : 24816\\u003cbr\\u003epollution suppos\\u00e9e : 1523\\u003cbr\\u003epollution peu probable : 846\\u003cbr\\u003epollution inexistante : 485\\u003cbr\\u003epollution av\\u00e9r\\u00e9e : 436\",\"\\u003cb\\u003esol_pollution_origine\\u003c\\u002fb\\u003e\\u003cbr\\u003eNaN avant : 0\\u003cbr\\u003eNaN apr\\u00e8s : 28085\\u003cbr\\u003e\\u003cbr\\u003e\\u003cb\\u003eTop valeurs :\\u003c\\u002fb\\u003e\\u003cbr\\u003einconnu : 28085\\u003cbr\\u003epollution due au fonctionnement de l'installation : 17\\u003cbr\\u003eorigine accidentelle (transport, transbordement, manipulation,...) : 7\\u003cbr\\u003ed\\u00e9p\\u00f4t de d\\u00e9chets, stockages de produits : 6\",\"\\u003cb\\u003eurba_doc_type\\u003c\\u002fb\\u003e\\u003cbr\\u003eNaN avant : 3851\\u003cbr\\u003eNaN apr\\u00e8s : 3918\\u003cbr\\u003e\\u003cbr\\u003e\\u003cb\\u003eTop valeurs :\\u003c\\u002fb\\u003e\\u003cbr\\u003ePLU : 12694\\u003cbr\\u003ePLUI : 10367\\u003cbr\\u003eCC : 1073\\u003cbr\\u003eautre : 67\\u003cbr\\u003ePSMV : 63\"],\"marker\":{\"color\":\"#A3C1E1\",\"opacity\":0.6},\"name\":\"NaN avant\",\"x\":[\"site_nom\",\"site_type\",\"site_securite\",\"site_occupation\",\"site_reconv_type\",\"activite_fin_annee\",\"bati_type\",\"bati_pollution\",\"bati_vacance\",\"bati_patrimoine\",\"bati_etat\",\"proprio_personne\",\"sol_pollution_existe\",\"sol_pollution_origine\",\"urba_doc_type\"],\"y\":[0,0,5822,0,25503,24109,0,0,0,0,0,48,0,0,3851],\"type\":\"bar\"},{\"hoverinfo\":\"text\",\"hovertext\":[\"\\u003cb\\u003esite_nom\\u003c\\u002fb\\u003e\\u003cbr\\u003eNaN avant : 0\\u003cbr\\u003eNaN apr\\u00e8s : 5\\u003cbr\\u003e\\u003cbr\\u003e\\u003cb\\u003eTop valeurs :\\u003c\\u002fb\\u003e\\u003cbr\\u003eD\\u00e9charge : 415\\u003cbr\\u003eGarage : 147\\u003cbr\\u003ePropri\\u00e9taire priv\\u00e9 : 114\\u003cbr\\u003eStation service : 105\\u003cbr\\u003eStation-service : 99\",\"\\u003cb\\u003esite_type\\u003c\\u002fb\\u003e\\u003cbr\\u003eNaN avant : 0\\u003cbr\\u003eNaN apr\\u00e8s : 17229\\u003cbr\\u003e\\u003cbr\\u003e\\u003cb\\u003eTop valeurs :\\u003c\\u002fb\\u003e\\u003cbr\\u003einconnu : 16005\\u003cbr\\u003efriche d'habitat : 3982\\u003cbr\\u003efriche industrielle : 2618\\u003cbr\\u003eautre : 1224\\u003cbr\\u003efriche commerciale : 1196\",\"\\u003cb\\u003esite_securite\\u003c\\u002fb\\u003e\\u003cbr\\u003eNaN avant : 5822\\u003cbr\\u003eNaN apr\\u00e8s : 25954\\u003cbr\\u003e\\u003cbr\\u003e\\u003cb\\u003eTop valeurs :\\u003c\\u002fb\\u003e\\u003cbr\\u003einconnu : 20132\\u003cbr\\u003e\\u00e9vacuation des produits dangereux et d\\u00e9chets pr\\u00e9sents sur le site : 2144\\u003cbr\\u003esans objet : 12\\u003cbr\\u003einterdictions ou limitations d'acc\\u00e8s au site : 4\\u003cbr\\u003emesures de gestion de pollution ou restrictions temporaires : 1\",\"\\u003cb\\u003esite_occupation\\u003c\\u002fb\\u003e\\u003cbr\\u003eNaN avant : 0\\u003cbr\\u003eNaN apr\\u00e8s : 25850\\u003cbr\\u003e\\u003cbr\\u003e\\u003cb\\u003eTop valeurs :\\u003c\\u002fb\\u003e\\u003cbr\\u003einconnu : 25850\\u003cbr\\u003efriche d'habitat : 1608\\u003cbr\\u003efriche commerciale : 284\\u003cbr\\u003etotalement inoccup\\u00e9 : 89\\u003cbr\\u003efriche industrielle : 83\",\"\\u003cb\\u003esite_reconv_type\\u003c\\u002fb\\u003e\\u003cbr\\u003eNaN avant : 25503\\u003cbr\\u003eNaN apr\\u00e8s : 25784\\u003cbr\\u003e\\u003cbr\\u003e\\u003cb\\u003eTop valeurs :\\u003c\\u002fb\\u003e\\u003cbr\\u003ehabitat : 1100\\u003cbr\\u003emixte : 351\\u003cbr\\u003eautres activit\\u00e9s \\u00e9conomiques : 328\\u003cbr\\u003einconnu : 225\\u003cbr\\u003e\\u00e9quipement public : 215\",\"\\u003cb\\u003eactivite_fin_annee\\u003c\\u002fb\\u003e\\u003cbr\\u003eNaN avant : 24109\\u003cbr\\u003eNaN apr\\u00e8s : 24389\\u003cbr\\u003e\\u003cbr\\u003e\\u003cb\\u003eTop valeurs :\\u003c\\u002fb\\u003e\\u003cbr\\u003e2010 : 315\\u003cbr\\u003einconnu : 280\\u003cbr\\u003e2022 : 275\\u003cbr\\u003e2015 : 265\\u003cbr\\u003e2021 : 256\",\"\\u003cb\\u003ebati_type\\u003c\\u002fb\\u003e\\u003cbr\\u003eNaN avant : 0\\u003cbr\\u003eNaN apr\\u00e8s : 25979\\u003cbr\\u003e\\u003cbr\\u003e\\u003cb\\u003eTop valeurs :\\u003c\\u002fb\\u003e\\u003cbr\\u003einconnu : 25979\\u003cbr\\u003er\\u00e9sidentiel : 1677\\u003cbr\\u003ecommercial : 280\\u003cbr\\u003eindustriel : 96\\u003cbr\\u003esecteur tertiaire : 63\",\"\\u003cb\\u003ebati_pollution\\u003c\\u002fb\\u003e\\u003cbr\\u003eNaN avant : 0\\u003cbr\\u003eNaN apr\\u00e8s : 26883\\u003cbr\\u003e\\u003cbr\\u003e\\u003cb\\u003eTop valeurs :\\u003c\\u002fb\\u003e\\u003cbr\\u003einconnu : 26753\\u003cbr\\u003eamiante : 1210\\u003cbr\\u003eautre : 130\\u003cbr\\u003eplomb : 22\",\"\\u003cb\\u003ebati_vacance\\u003c\\u002fb\\u003e\\u003cbr\\u003eNaN avant : 0\\u003cbr\\u003eNaN apr\\u00e8s : 26007\\u003cbr\\u003e\\u003cbr\\u003e\\u003cb\\u003eTop valeurs :\\u003c\\u002fb\\u003e\\u003cbr\\u003einconnu : 26007\\u003cbr\\u003evacant : 1700\\u003cbr\\u003eoccup\\u00e9 : 365\\u003cbr\\u003epartiellement occup\\u00e9 : 42\\u003cbr\\u003epartiellement inoccup\\u00e9 : 1\",\"\\u003cb\\u003ebati_patrimoine\\u003c\\u002fb\\u003e\\u003cbr\\u003eNaN avant : 0\\u003cbr\\u003eNaN apr\\u00e8s : 25297\\u003cbr\\u003e\\u003cbr\\u003e\\u003cb\\u003eTop valeurs :\\u003c\\u002fb\\u003e\\u003cbr\\u003einconnu : 25297\\u003cbr\\u003eaucun : 2581\\u003cbr\\u003epr\\u00e9sence d'un b\\u00e2timent d'int\\u00e9r\\u00eat : 203\\u003cbr\\u003epr\\u00e9sence d'un b\\u00e2timent class\\u00e9 : 33\\u003cbr\\u003epr\\u00e9sence d'un b\\u00e2timent inscrit : 1\",\"\\u003cb\\u003ebati_etat\\u003c\\u002fb\\u003e\\u003cbr\\u003eNaN avant : 0\\u003cbr\\u003eNaN apr\\u00e8s : 22335\\u003cbr\\u003e\\u003cbr\\u003e\\u003cb\\u003eTop valeurs :\\u003c\\u002fb\\u003e\\u003cbr\\u003einconnu : 22325\\u003cbr\\u003ed\\u00e9gradation moyenne : 2878\\u003cbr\\u003ed\\u00e9gradation inexistante ou faible : 1421\\u003cbr\\u003ed\\u00e9gradation tr\\u00e8s importante : 1303\\u003cbr\\u003esans objet : 169\",\"\\u003cb\\u003eproprio_personne\\u003c\\u002fb\\u003e\\u003cbr\\u003eNaN avant : 48\\u003cbr\\u003eNaN apr\\u00e8s : 1064\\u003cbr\\u003e\\u003cbr\\u003e\\u003cb\\u003eTop valeurs :\\u003c\\u002fb\\u003e\\u003cbr\\u003epersonne morale : 16614\\u003cbr\\u003epersonne physique : 10437\\u003cbr\\u003eautre : 998\\u003cbr\\u003einconnu : 18\",\"\\u003cb\\u003esol_pollution_existe\\u003c\\u002fb\\u003e\\u003cbr\\u003eNaN avant : 0\\u003cbr\\u003eNaN apr\\u00e8s : 24816\\u003cbr\\u003e\\u003cbr\\u003e\\u003cb\\u003eTop valeurs :\\u003c\\u002fb\\u003e\\u003cbr\\u003einconnu : 24816\\u003cbr\\u003epollution suppos\\u00e9e : 1523\\u003cbr\\u003epollution peu probable : 846\\u003cbr\\u003epollution inexistante : 485\\u003cbr\\u003epollution av\\u00e9r\\u00e9e : 436\",\"\\u003cb\\u003esol_pollution_origine\\u003c\\u002fb\\u003e\\u003cbr\\u003eNaN avant : 0\\u003cbr\\u003eNaN apr\\u00e8s : 28085\\u003cbr\\u003e\\u003cbr\\u003e\\u003cb\\u003eTop valeurs :\\u003c\\u002fb\\u003e\\u003cbr\\u003einconnu : 28085\\u003cbr\\u003epollution due au fonctionnement de l'installation : 17\\u003cbr\\u003eorigine accidentelle (transport, transbordement, manipulation,...) : 7\\u003cbr\\u003ed\\u00e9p\\u00f4t de d\\u00e9chets, stockages de produits : 6\",\"\\u003cb\\u003eurba_doc_type\\u003c\\u002fb\\u003e\\u003cbr\\u003eNaN avant : 3851\\u003cbr\\u003eNaN apr\\u00e8s : 3918\\u003cbr\\u003e\\u003cbr\\u003e\\u003cb\\u003eTop valeurs :\\u003c\\u002fb\\u003e\\u003cbr\\u003ePLU : 12694\\u003cbr\\u003ePLUI : 10367\\u003cbr\\u003eCC : 1073\\u003cbr\\u003eautre : 67\\u003cbr\\u003ePSMV : 63\"],\"marker\":{\"color\":\"#FFB3B3\",\"opacity\":0.9},\"name\":\"NaN apr\\u00e8s\",\"x\":[\"site_nom\",\"site_type\",\"site_securite\",\"site_occupation\",\"site_reconv_type\",\"activite_fin_annee\",\"bati_type\",\"bati_pollution\",\"bati_vacance\",\"bati_patrimoine\",\"bati_etat\",\"proprio_personne\",\"sol_pollution_existe\",\"sol_pollution_origine\",\"urba_doc_type\"],\"y\":[5,17229,25954,25850,25784,24389,25979,26883,26007,25297,22335,1064,24816,28085,3918],\"type\":\"bar\"}],                        {\"template\":{\"data\":{\"histogram2dcontour\":[{\"type\":\"histogram2dcontour\",\"colorbar\":{\"outlinewidth\":0,\"ticks\":\"\"},\"colorscale\":[[0.0,\"#0d0887\"],[0.1111111111111111,\"#46039f\"],[0.2222222222222222,\"#7201a8\"],[0.3333333333333333,\"#9c179e\"],[0.4444444444444444,\"#bd3786\"],[0.5555555555555556,\"#d8576b\"],[0.6666666666666666,\"#ed7953\"],[0.7777777777777778,\"#fb9f3a\"],[0.8888888888888888,\"#fdca26\"],[1.0,\"#f0f921\"]]}],\"choropleth\":[{\"type\":\"choropleth\",\"colorbar\":{\"outlinewidth\":0,\"ticks\":\"\"}}],\"histogram2d\":[{\"type\":\"histogram2d\",\"colorbar\":{\"outlinewidth\":0,\"ticks\":\"\"},\"colorscale\":[[0.0,\"#0d0887\"],[0.1111111111111111,\"#46039f\"],[0.2222222222222222,\"#7201a8\"],[0.3333333333333333,\"#9c179e\"],[0.4444444444444444,\"#bd3786\"],[0.5555555555555556,\"#d8576b\"],[0.6666666666666666,\"#ed7953\"],[0.7777777777777778,\"#fb9f3a\"],[0.8888888888888888,\"#fdca26\"],[1.0,\"#f0f921\"]]}],\"heatmap\":[{\"type\":\"heatmap\",\"colorbar\":{\"outlinewidth\":0,\"ticks\":\"\"},\"colorscale\":[[0.0,\"#0d0887\"],[0.1111111111111111,\"#46039f\"],[0.2222222222222222,\"#7201a8\"],[0.3333333333333333,\"#9c179e\"],[0.4444444444444444,\"#bd3786\"],[0.5555555555555556,\"#d8576b\"],[0.6666666666666666,\"#ed7953\"],[0.7777777777777778,\"#fb9f3a\"],[0.8888888888888888,\"#fdca26\"],[1.0,\"#f0f921\"]]}],\"heatmapgl\":[{\"type\":\"heatmapgl\",\"colorbar\":{\"outlinewidth\":0,\"ticks\":\"\"},\"colorscale\":[[0.0,\"#0d0887\"],[0.1111111111111111,\"#46039f\"],[0.2222222222222222,\"#7201a8\"],[0.3333333333333333,\"#9c179e\"],[0.4444444444444444,\"#bd3786\"],[0.5555555555555556,\"#d8576b\"],[0.6666666666666666,\"#ed7953\"],[0.7777777777777778,\"#fb9f3a\"],[0.8888888888888888,\"#fdca26\"],[1.0,\"#f0f921\"]]}],\"contourcarpet\":[{\"type\":\"contourcarpet\",\"colorbar\":{\"outlinewidth\":0,\"ticks\":\"\"}}],\"contour\":[{\"type\":\"contour\",\"colorbar\":{\"outlinewidth\":0,\"ticks\":\"\"},\"colorscale\":[[0.0,\"#0d0887\"],[0.1111111111111111,\"#46039f\"],[0.2222222222222222,\"#7201a8\"],[0.3333333333333333,\"#9c179e\"],[0.4444444444444444,\"#bd3786\"],[0.5555555555555556,\"#d8576b\"],[0.6666666666666666,\"#ed7953\"],[0.7777777777777778,\"#fb9f3a\"],[0.8888888888888888,\"#fdca26\"],[1.0,\"#f0f921\"]]}],\"surface\":[{\"type\":\"surface\",\"colorbar\":{\"outlinewidth\":0,\"ticks\":\"\"},\"colorscale\":[[0.0,\"#0d0887\"],[0.1111111111111111,\"#46039f\"],[0.2222222222222222,\"#7201a8\"],[0.3333333333333333,\"#9c179e\"],[0.4444444444444444,\"#bd3786\"],[0.5555555555555556,\"#d8576b\"],[0.6666666666666666,\"#ed7953\"],[0.7777777777777778,\"#fb9f3a\"],[0.8888888888888888,\"#fdca26\"],[1.0,\"#f0f921\"]]}],\"mesh3d\":[{\"type\":\"mesh3d\",\"colorbar\":{\"outlinewidth\":0,\"ticks\":\"\"}}],\"scatter\":[{\"fillpattern\":{\"fillmode\":\"overlay\",\"size\":10,\"solidity\":0.2},\"type\":\"scatter\"}],\"parcoords\":[{\"type\":\"parcoords\",\"line\":{\"colorbar\":{\"outlinewidth\":0,\"ticks\":\"\"}}}],\"scatterpolargl\":[{\"type\":\"scatterpolargl\",\"marker\":{\"colorbar\":{\"outlinewidth\":0,\"ticks\":\"\"}}}],\"bar\":[{\"error_x\":{\"color\":\"#2a3f5f\"},\"error_y\":{\"color\":\"#2a3f5f\"},\"marker\":{\"line\":{\"color\":\"#E5ECF6\",\"width\":0.5},\"pattern\":{\"fillmode\":\"overlay\",\"size\":10,\"solidity\":0.2}},\"type\":\"bar\"}],\"scattergeo\":[{\"type\":\"scattergeo\",\"marker\":{\"colorbar\":{\"outlinewidth\":0,\"ticks\":\"\"}}}],\"scatterpolar\":[{\"type\":\"scatterpolar\",\"marker\":{\"colorbar\":{\"outlinewidth\":0,\"ticks\":\"\"}}}],\"histogram\":[{\"marker\":{\"pattern\":{\"fillmode\":\"overlay\",\"size\":10,\"solidity\":0.2}},\"type\":\"histogram\"}],\"scattergl\":[{\"type\":\"scattergl\",\"marker\":{\"colorbar\":{\"outlinewidth\":0,\"ticks\":\"\"}}}],\"scatter3d\":[{\"type\":\"scatter3d\",\"line\":{\"colorbar\":{\"outlinewidth\":0,\"ticks\":\"\"}},\"marker\":{\"colorbar\":{\"outlinewidth\":0,\"ticks\":\"\"}}}],\"scattermapbox\":[{\"type\":\"scattermapbox\",\"marker\":{\"colorbar\":{\"outlinewidth\":0,\"ticks\":\"\"}}}],\"scatterternary\":[{\"type\":\"scatterternary\",\"marker\":{\"colorbar\":{\"outlinewidth\":0,\"ticks\":\"\"}}}],\"scattercarpet\":[{\"type\":\"scattercarpet\",\"marker\":{\"colorbar\":{\"outlinewidth\":0,\"ticks\":\"\"}}}],\"carpet\":[{\"aaxis\":{\"endlinecolor\":\"#2a3f5f\",\"gridcolor\":\"white\",\"linecolor\":\"white\",\"minorgridcolor\":\"white\",\"startlinecolor\":\"#2a3f5f\"},\"baxis\":{\"endlinecolor\":\"#2a3f5f\",\"gridcolor\":\"white\",\"linecolor\":\"white\",\"minorgridcolor\":\"white\",\"startlinecolor\":\"#2a3f5f\"},\"type\":\"carpet\"}],\"table\":[{\"cells\":{\"fill\":{\"color\":\"#EBF0F8\"},\"line\":{\"color\":\"white\"}},\"header\":{\"fill\":{\"color\":\"#C8D4E3\"},\"line\":{\"color\":\"white\"}},\"type\":\"table\"}],\"barpolar\":[{\"marker\":{\"line\":{\"color\":\"#E5ECF6\",\"width\":0.5},\"pattern\":{\"fillmode\":\"overlay\",\"size\":10,\"solidity\":0.2}},\"type\":\"barpolar\"}],\"pie\":[{\"automargin\":true,\"type\":\"pie\"}]},\"layout\":{\"autotypenumbers\":\"strict\",\"colorway\":[\"#636efa\",\"#EF553B\",\"#00cc96\",\"#ab63fa\",\"#FFA15A\",\"#19d3f3\",\"#FF6692\",\"#B6E880\",\"#FF97FF\",\"#FECB52\"],\"font\":{\"color\":\"#2a3f5f\"},\"hovermode\":\"closest\",\"hoverlabel\":{\"align\":\"left\"},\"paper_bgcolor\":\"white\",\"plot_bgcolor\":\"#E5ECF6\",\"polar\":{\"bgcolor\":\"#E5ECF6\",\"angularaxis\":{\"gridcolor\":\"white\",\"linecolor\":\"white\",\"ticks\":\"\"},\"radialaxis\":{\"gridcolor\":\"white\",\"linecolor\":\"white\",\"ticks\":\"\"}},\"ternary\":{\"bgcolor\":\"#E5ECF6\",\"aaxis\":{\"gridcolor\":\"white\",\"linecolor\":\"white\",\"ticks\":\"\"},\"baxis\":{\"gridcolor\":\"white\",\"linecolor\":\"white\",\"ticks\":\"\"},\"caxis\":{\"gridcolor\":\"white\",\"linecolor\":\"white\",\"ticks\":\"\"}},\"coloraxis\":{\"colorbar\":{\"outlinewidth\":0,\"ticks\":\"\"}},\"colorscale\":{\"sequential\":[[0.0,\"#0d0887\"],[0.1111111111111111,\"#46039f\"],[0.2222222222222222,\"#7201a8\"],[0.3333333333333333,\"#9c179e\"],[0.4444444444444444,\"#bd3786\"],[0.5555555555555556,\"#d8576b\"],[0.6666666666666666,\"#ed7953\"],[0.7777777777777778,\"#fb9f3a\"],[0.8888888888888888,\"#fdca26\"],[1.0,\"#f0f921\"]],\"sequentialminus\":[[0.0,\"#0d0887\"],[0.1111111111111111,\"#46039f\"],[0.2222222222222222,\"#7201a8\"],[0.3333333333333333,\"#9c179e\"],[0.4444444444444444,\"#bd3786\"],[0.5555555555555556,\"#d8576b\"],[0.6666666666666666,\"#ed7953\"],[0.7777777777777778,\"#fb9f3a\"],[0.8888888888888888,\"#fdca26\"],[1.0,\"#f0f921\"]],\"diverging\":[[0,\"#8e0152\"],[0.1,\"#c51b7d\"],[0.2,\"#de77ae\"],[0.3,\"#f1b6da\"],[0.4,\"#fde0ef\"],[0.5,\"#f7f7f7\"],[0.6,\"#e6f5d0\"],[0.7,\"#b8e186\"],[0.8,\"#7fbc41\"],[0.9,\"#4d9221\"],[1,\"#276419\"]]},\"xaxis\":{\"gridcolor\":\"white\",\"linecolor\":\"white\",\"ticks\":\"\",\"title\":{\"standoff\":15},\"zerolinecolor\":\"white\",\"automargin\":true,\"zerolinewidth\":2},\"yaxis\":{\"gridcolor\":\"white\",\"linecolor\":\"white\",\"ticks\":\"\",\"title\":{\"standoff\":15},\"zerolinecolor\":\"white\",\"automargin\":true,\"zerolinewidth\":2},\"scene\":{\"xaxis\":{\"backgroundcolor\":\"#E5ECF6\",\"gridcolor\":\"white\",\"linecolor\":\"white\",\"showbackground\":true,\"ticks\":\"\",\"zerolinecolor\":\"white\",\"gridwidth\":2},\"yaxis\":{\"backgroundcolor\":\"#E5ECF6\",\"gridcolor\":\"white\",\"linecolor\":\"white\",\"showbackground\":true,\"ticks\":\"\",\"zerolinecolor\":\"white\",\"gridwidth\":2},\"zaxis\":{\"backgroundcolor\":\"#E5ECF6\",\"gridcolor\":\"white\",\"linecolor\":\"white\",\"showbackground\":true,\"ticks\":\"\",\"zerolinecolor\":\"white\",\"gridwidth\":2}},\"shapedefaults\":{\"line\":{\"color\":\"#2a3f5f\"}},\"annotationdefaults\":{\"arrowcolor\":\"#2a3f5f\",\"arrowhead\":0,\"arrowwidth\":1},\"geo\":{\"bgcolor\":\"white\",\"landcolor\":\"#E5ECF6\",\"subunitcolor\":\"white\",\"showland\":true,\"showlakes\":true,\"lakecolor\":\"white\"},\"title\":{\"x\":0.05},\"mapbox\":{\"style\":\"light\"}}},\"xaxis\":{\"title\":{\"text\":\"Colonnes affect\\u00e9es\"},\"tickangle\":-45},\"font\":{\"color\":\"black\"},\"title\":{\"text\":\"Effet du nettoyage sur les NaN (avec Top 5 des valeurs)\"},\"yaxis\":{\"title\":{\"text\":\"Nombre de valeurs manquantes\"}},\"barmode\":\"group\",\"height\":600,\"plot_bgcolor\":\"white\",\"paper_bgcolor\":\"white\"},                        {\"responsive\": true}                    ).then(function(){\n",
       "                            \n",
       "var gd = document.getElementById('38a98330-cbf9-4d20-a8f1-0c539541e91f');\n",
       "var x = new MutationObserver(function (mutations, observer) {{\n",
       "        var display = window.getComputedStyle(gd).display;\n",
       "        if (!display || display === 'none') {{\n",
       "            console.log([gd, 'removed!']);\n",
       "            Plotly.purge(gd);\n",
       "            observer.disconnect();\n",
       "        }}\n",
       "}});\n",
       "\n",
       "// Listen for the removal of the full notebook cells\n",
       "var notebookContainer = gd.closest('#notebook-container');\n",
       "if (notebookContainer) {{\n",
       "    x.observe(notebookContainer, {childList: true});\n",
       "}}\n",
       "\n",
       "// Listen for the clearing of the current output cell\n",
       "var outputEl = gd.closest('.output');\n",
       "if (outputEl) {{\n",
       "    x.observe(outputEl, {childList: true});\n",
       "}}\n",
       "\n",
       "                        })                };                });            </script>        </div>"
      ]
     },
     "metadata": {},
     "output_type": "display_data"
    }
   ],
   "source": [
    "fig = go.Figure()\n",
    "\n",
    "fig.add_trace(go.Bar(\n",
    "    x=cols_affectees,\n",
    "    y=na_avant_filtered,\n",
    "    name='NaN avant',\n",
    "    hovertext=hover_texts,\n",
    "    hoverinfo='text',\n",
    "    marker=dict(color='#A3C1E1', opacity=0.6)  # bleu pastel\n",
    "))\n",
    "\n",
    "fig.add_trace(go.Bar(\n",
    "    x=cols_affectees,\n",
    "    y=na_apres_filtered,\n",
    "    name='NaN après',\n",
    "    hovertext=hover_texts,\n",
    "    hoverinfo='text',\n",
    "    marker=dict(color='#FFB3B3', opacity=0.9)  # rose pastel\n",
    "))\n",
    "\n",
    "fig.update_layout(\n",
    "    title=\"Effet du nettoyage sur les NaN (avec Top 5 des valeurs)\",\n",
    "    xaxis_title=\"Colonnes affectées\",\n",
    "    yaxis_title=\"Nombre de valeurs manquantes\",\n",
    "    barmode='group',\n",
    "    xaxis_tickangle=-45,\n",
    "    height=600,\n",
    "    plot_bgcolor='white',\n",
    "    paper_bgcolor='white',\n",
    "    font=dict(color='black')\n",
    ")"
   ]
  },
  {
   "cell_type": "code",
   "execution_count": 115,
   "id": "76730114-8ee2-4ead-9eff-8516a7cb900e",
   "metadata": {},
   "outputs": [
    {
     "data": {
      "text/plain": [
       "Index(['site_id', 'site_nom', 'site_type', 'site_adresse', 'site_identif_date',\n",
       "       'site_actu_date', 'site_url', 'site_ademe_url', 'site_securite',\n",
       "       'site_occupation', 'site_statut', 'site_projet_url',\n",
       "       'site_reconv_annee', 'site_reconv_type', 'activite_libelle',\n",
       "       'activite_code', 'activite_fin_annee', 'comm_nom', 'comm_insee',\n",
       "       'bati_type', 'bati_nombre', 'bati_surface', 'bati_pollution',\n",
       "       'bati_vacance', 'bati_patrimoine', 'bati_etat', 'local_ancien_annee',\n",
       "       'local_recent_annee', 'proprio_type', 'proprio_personne', 'proprio_nom',\n",
       "       'sol_pollution_annee', 'sol_pollution_existe', 'sol_pollution_origine',\n",
       "       'sol_pollution_commentaire', 'sol_depollution_fiche',\n",
       "       'unite_fonciere_surface', 'unite_fonciere_refcad', 'urba_zone_type',\n",
       "       'urba_zone_lib', 'urba_zone_formdomi', 'urba_doc_type',\n",
       "       'desserte_distance', 'desserte_commentaire', 'source_nom', 'source_url',\n",
       "       'source_producteur', 'source_contact', 'geompoint', 'geomsurf',\n",
       "       'site_identif_year', 'annee_identif'],\n",
       "      dtype='object')"
      ]
     },
     "execution_count": 115,
     "metadata": {},
     "output_type": "execute_result"
    }
   ],
   "source": [
    "df.columns"
   ]
  },
  {
   "cell_type": "markdown",
   "id": "3e827d68-d7cc-4fc5-a926-09a7908a5618",
   "metadata": {},
   "source": [
    "## Aperçu de la répartition des Valeurs manquantes dans le temps"
   ]
  },
  {
   "cell_type": "code",
   "execution_count": 100,
   "id": "59271c1c-e4fb-4340-951c-8364807b67f6",
   "metadata": {},
   "outputs": [
    {
     "data": {
      "image/png": "[encoded data removed]",
      "text/plain": [
       "<Figure size 1200x600 with 1 Axes>"
      ]
     },
     "metadata": {},
     "output_type": "display_data"
    }
   ],
   "source": [
    "import matplotlib.pyplot as plt\n",
    "import seaborn as sns\n",
    "import pandas as pd\n",
    "\n",
    "# 1. Conversion et extraction de l'année\n",
    "df[\"site_identif_date\"] = pd.to_datetime(df[\"site_identif_date\"], errors='coerce')\n",
    "df[\"annee_identif\"] = df[\"site_identif_date\"].dt.year\n",
    "\n",
    "# 2. Tri décroissant par la date\n",
    "df_sorted = df.sort_values(\"site_identif_date\", ascending=False)\n",
    "\n",
    "# 3. Création de la heatmap\n",
    "plt.figure(figsize=(12, 6))\n",
    "sns.heatmap(\n",
    "    df_sorted.isna(),\n",
    "    cmap=sns.color_palette([\"white\", '#A3C1E1']),\n",
    "    cbar=False\n",
    ")\n",
    "\n",
    "# 4. Préparation des ticks d’année espacés\n",
    "annees = df_sorted[\"annee_identif\"].fillna(0).astype(int)\n",
    "yticks_pos = []\n",
    "yticks_labels = []\n",
    "derniere_annee = None\n",
    "\n",
    "for i, annee in enumerate(annees):\n",
    "    if annee != derniere_annee and 2019 <= annee <= 2025:\n",
    "        yticks_pos.append(i)\n",
    "        yticks_labels.append(str(annee))\n",
    "        derniere_annee = annee\n",
    "\n",
    "plt.yticks(yticks_pos, yticks_labels, fontsize=10)\n",
    "\n",
    "# 5. Légende personnalisée\n",
    "from matplotlib.patches import Patch\n",
    "legend_elements = [\n",
    "    Patch(facecolor='#A3C1E1', edgecolor='#A3C1E1', label='Valeur manquante (NaN)'),\n",
    "    Patch(facecolor='white', edgecolor='white', label='Valeur présente')\n",
    "]\n",
    "plt.legend(handles=legend_elements, loc='center left', bbox_to_anchor=(1.0, 0.5))\n",
    "\n",
    "plt.title(\"Carte des valeurs manquantes triée par date (site_identif_date)\")\n",
    "plt.xlabel(\"Colonnes\", fontsize=10)\n",
    "plt.ylabel(\"Année d’identification\", fontsize=10)\n",
    "plt.tight_layout()\n",
    "plt.show()"
   ]
  },
  {
   "cell_type": "code",
   "execution_count": 34,
   "id": "c0bdbeb8-5be9-43f3-ab33-5486e1242888",
   "metadata": {
    "jupyter": {
     "source_hidden": true
    }
   },
   "outputs": [
    {
     "data": {
      "text/plain": [
       "Index(['site_id', 'site_nom', 'site_type', 'site_adresse', 'site_identif_date',\n",
       "       'site_actu_date', 'site_url', 'site_ademe_url', 'site_securite',\n",
       "       'site_occupation', 'site_statut', 'site_projet_url',\n",
       "       'site_reconv_annee', 'site_reconv_type', 'activite_libelle',\n",
       "       'activite_code', 'activite_fin_annee', 'comm_nom', 'comm_insee',\n",
       "       'bati_type', 'bati_nombre', 'bati_surface', 'bati_pollution',\n",
       "       'bati_vacance', 'bati_patrimoine', 'bati_etat', 'local_ancien_annee',\n",
       "       'local_recent_annee', 'proprio_type', 'proprio_personne', 'proprio_nom',\n",
       "       'sol_pollution_annee', 'sol_pollution_existe', 'sol_pollution_origine',\n",
       "       'sol_pollution_commentaire', 'sol_depollution_fiche',\n",
       "       'unite_fonciere_surface', 'unite_fonciere_refcad', 'urba_zone_type',\n",
       "       'urba_zone_lib', 'urba_zone_formdomi', 'urba_doc_type',\n",
       "       'desserte_distance', 'desserte_commentaire', 'source_nom', 'source_url',\n",
       "       'source_producteur', 'source_contact', 'geompoint', 'geomsurf'],\n",
       "      dtype='object')"
      ]
     },
     "execution_count": 34,
     "metadata": {},
     "output_type": "execute_result"
    }
   ],
   "source": [
    "df.columns"
   ]
  },
  {
   "cell_type": "code",
   "execution_count": 30,
   "id": "b9942b84-f782-4c77-8637-3a2436c7c154",
   "metadata": {
    "jupyter": {
     "source_hidden": true
    }
   },
   "outputs": [
    {
     "name": "stdout",
     "output_type": "stream",
     "text": [
      "2022-10-10 00:00:00\n",
      "2021-12-31 00:00:00\n"
     ]
    }
   ],
   "source": [
    "print(df[\"site_identif_date\"].iloc[20210])\n",
    "print(df[\"site_identif_date\"].iloc[27187]) "
   ]
  },
  {
   "cell_type": "markdown",
   "id": "81968683-6857-418d-aa76-1cd61e63e208",
   "metadata": {},
   "source": [
    "**Commentaire:** Les données ci dessus montrent la répartition des Na dans le temps, on constate une zone entre 12/2021 10/2022 ou la complétude de certainnes données comme **site_url, site_securite, activite_libelle** sont plus importantes\n",
    "⚠️problématique qui gére ces données, y a t 'il une maintenance automatique y a t'il des observatoires qui complètent moins bien "
   ]
  },
  {
   "cell_type": "markdown",
   "id": "af4d87ad-8333-4a0a-a478-0115ddde2156",
   "metadata": {},
   "source": [
    "#### Feuille de route:\n",
    "Données gouvernementales (friches-standard.csv)\n",
    "- les valeurs manquantes \n",
    "- ~~doublons~~ à vérifier  par subset \n",
    "- unifomisation des features et des types, uniformisation de la casse \n",
    "- enrichissement des données : croisement  datasets gouvernementales avec datasets des observatoires\n",
    "- enrcichissement scrapping gpkg (données textuelles sur l'api) \n",
    "- enrichissement avec données textuelles\n",
    "- enrichissement avec données externes ex( données toxicologiques)\n",
    "- analyse statistique descriptive et analyse sur l'équilibre des données\n",
    " \n",
    "#### Brain storm\n",
    "problèmes rencontrés: arborescence pour accéder aux données annexes (eg trop complexes.\n",
    "Incohérence des volumes entre les différents datasets carte, enrichies et observatoires -> besoin d'uniformisation pour faciliter la visibilité\n",
    "Pas assez d'indicateur pour prendre des décisions financieres et extra financieres: besoin d'agrégation \n",
    "Pas assez d'indicateur écologique alors que c'est une application faite dans le cadre de l'écologie"
   ]
  },
  {
   "cell_type": "markdown",
   "id": "02b4b74a-032f-4d33-b993-87032346f41d",
   "metadata": {},
   "source": [
    "## III. ANALYSE DETAILLEE DES VARIABLES"
   ]
  },
  {
   "cell_type": "markdown",
   "id": "ae50390a-1772-4edb-997a-42a92bfc5a28",
   "metadata": {},
   "source": [
    "**La complétude et la pertinence** de chaque  variable est analysée dans un premier temps pour évaluer la qualité générale des données fournies par cartofriche et leur provenance: "
   ]
  },
  {
   "cell_type": "code",
   "execution_count": 2,
   "id": "9c685c4b-4412-4e5b-88fe-6efcb9b23f5c",
   "metadata": {
    "jupyter": {
     "source_hidden": true
    }
   },
   "outputs": [],
   "source": [
    "#Analyse de typologie \n",
    "import pandas as pd\n",
    "import re\n",
    "\n",
    "def detect_typo_patterns(series):\n",
    "    audit = []\n",
    "    for val in series.dropna().unique():\n",
    "        val_str = str(val)\n",
    "        length = len(val_str)\n",
    "        pattern = re.sub(r'\\d', '0', val_str)  # transforme 61214_34555 → 00000_00000\n",
    "        pattern = re.sub(r'[a-zA-Z]', 'A', pattern)  # si lettres présentes\n",
    "        pattern = re.sub(r'[^0A_]', 'X', pattern)  # tout autre caractère\n",
    "\n",
    "        audit.append({\n",
    "            \"Exemple\": val_str,\n",
    "            \"Longueur\": length,\n",
    "            \"Pattern typologique\": pattern,\n",
    "            \"Fréquence\": series[series == val].count()\n",
    "        })\n",
    "\n",
    "    df_patterns = pd.DataFrame(audit)\n",
    "    return df_patterns.groupby([\"Pattern typologique\"]).agg({\n",
    "        \"Exemple\": \"first\",\n",
    "        \"Longueur\": \"first\",\n",
    "        \"Fréquence\": \"sum\"\n",
    "    }).sort_values(\"Fréquence\", ascending=False).reset_index()\n"
   ]
  },
  {
   "cell_type": "markdown",
   "id": "858ab2c7-933b-4129-b077-6ec7b0c0371a",
   "metadata": {},
   "source": [
    "### 1) site_nom"
   ]
  },
  {
   "cell_type": "code",
   "execution_count": 35,
   "id": "dbb54e42-d050-4da1-a571-3e23dfa6b741",
   "metadata": {
    "jupyter": {
     "source_hidden": true
    }
   },
   "outputs": [
    {
     "data": {
      "text/html": [
       "<div>\n",
       "<style scoped>\n",
       "    .dataframe tbody tr th:only-of-type {\n",
       "        vertical-align: middle;\n",
       "    }\n",
       "\n",
       "    .dataframe tbody tr th {\n",
       "        vertical-align: top;\n",
       "    }\n",
       "\n",
       "    .dataframe thead th {\n",
       "        text-align: right;\n",
       "    }\n",
       "</style>\n",
       "<table border=\"1\" class=\"dataframe\">\n",
       "  <thead>\n",
       "    <tr style=\"text-align: right;\">\n",
       "      <th></th>\n",
       "      <th>Pattern typologique</th>\n",
       "      <th>Exemple</th>\n",
       "      <th>Longueur</th>\n",
       "      <th>Fréquence</th>\n",
       "    </tr>\n",
       "  </thead>\n",
       "  <tbody>\n",
       "    <tr>\n",
       "      <th>0</th>\n",
       "      <td>00000_00000</td>\n",
       "      <td>93027_35701</td>\n",
       "      <td>11</td>\n",
       "      <td>1923</td>\n",
       "    </tr>\n",
       "    <tr>\n",
       "      <th>1</th>\n",
       "      <td>AAAAAA</td>\n",
       "      <td>Friche</td>\n",
       "      <td>6</td>\n",
       "      <td>432</td>\n",
       "    </tr>\n",
       "    <tr>\n",
       "      <th>2</th>\n",
       "      <td>AXAAAAAA</td>\n",
       "      <td>Décharge</td>\n",
       "      <td>8</td>\n",
       "      <td>432</td>\n",
       "    </tr>\n",
       "    <tr>\n",
       "      <th>3</th>\n",
       "      <td>AAAAAAAA</td>\n",
       "      <td>Sotralec</td>\n",
       "      <td>8</td>\n",
       "      <td>309</td>\n",
       "    </tr>\n",
       "    <tr>\n",
       "      <th>4</th>\n",
       "      <td>AAAAAAAXAAAAAAA</td>\n",
       "      <td>Elevage avicole</td>\n",
       "      <td>15</td>\n",
       "      <td>272</td>\n",
       "    </tr>\n",
       "    <tr>\n",
       "      <th>...</th>\n",
       "      <td>...</td>\n",
       "      <td>...</td>\n",
       "      <td>...</td>\n",
       "      <td>...</td>\n",
       "    </tr>\n",
       "    <tr>\n",
       "      <th>13845</th>\n",
       "      <td>AAAAAAX00XAAAAAXAAXAAAAA</td>\n",
       "      <td>Maison 12 route de flers</td>\n",
       "      <td>24</td>\n",
       "      <td>1</td>\n",
       "    </tr>\n",
       "    <tr>\n",
       "      <th>13846</th>\n",
       "      <td>AAAAAAX00XAAAX0XAAXAAAAA</td>\n",
       "      <td>Terril 39 dit 5 de Noeux</td>\n",
       "      <td>24</td>\n",
       "      <td>1</td>\n",
       "    </tr>\n",
       "    <tr>\n",
       "      <th>13847</th>\n",
       "      <td>AAAAAAX00XAAAX0XAAXAAAAAXAAAXAAAAA</td>\n",
       "      <td>Terril 60 dit 2 de Noeux les Mines</td>\n",
       "      <td>34</td>\n",
       "      <td>1</td>\n",
       "    </tr>\n",
       "    <tr>\n",
       "      <th>13848</th>\n",
       "      <td>AAAAAAX00XAAAXAAAAAAXAAAA</td>\n",
       "      <td>Maison 47 rue sainte anne</td>\n",
       "      <td>25</td>\n",
       "      <td>1</td>\n",
       "    </tr>\n",
       "    <tr>\n",
       "      <th>13849</th>\n",
       "      <td>XXXXAAXAAAAAAAAXAAAAAAAAAAAAXAAAXAAAAAAXAAAAAA</td>\n",
       "      <td>? / ex Ancienne briquetterie des hautes Terres</td>\n",
       "      <td>46</td>\n",
       "      <td>1</td>\n",
       "    </tr>\n",
       "  </tbody>\n",
       "</table>\n",
       "<p>13850 rows × 4 columns</p>\n",
       "</div>"
      ],
      "text/plain": [
       "                                  Pattern typologique  \\\n",
       "0                                         00000_00000   \n",
       "1                                              AAAAAA   \n",
       "2                                            AXAAAAAA   \n",
       "3                                            AAAAAAAA   \n",
       "4                                     AAAAAAAXAAAAAAA   \n",
       "...                                               ...   \n",
       "13845                        AAAAAAX00XAAAAAXAAXAAAAA   \n",
       "13846                        AAAAAAX00XAAAX0XAAXAAAAA   \n",
       "13847              AAAAAAX00XAAAX0XAAXAAAAAXAAAXAAAAA   \n",
       "13848                       AAAAAAX00XAAAXAAAAAAXAAAA   \n",
       "13849  XXXXAAXAAAAAAAAXAAAAAAAAAAAAXAAAXAAAAAAXAAAAAA   \n",
       "\n",
       "                                              Exemple  Longueur  Fréquence  \n",
       "0                                         93027_35701        11       1923  \n",
       "1                                              Friche         6        432  \n",
       "2                                            Décharge         8        432  \n",
       "3                                            Sotralec         8        309  \n",
       "4                                     Elevage avicole        15        272  \n",
       "...                                               ...       ...        ...  \n",
       "13845                        Maison 12 route de flers        24          1  \n",
       "13846                        Terril 39 dit 5 de Noeux        24          1  \n",
       "13847              Terril 60 dit 2 de Noeux les Mines        34          1  \n",
       "13848                       Maison 47 rue sainte anne        25          1  \n",
       "13849  ? / ex Ancienne briquetterie des hautes Terres        46          1  \n",
       "\n",
       "[13850 rows x 4 columns]"
      ]
     },
     "execution_count": 35,
     "metadata": {},
     "output_type": "execute_result"
    }
   ],
   "source": [
    "#site_id\n",
    "detect_typo_patterns(df[\"site_nom\"])"
   ]
  },
  {
   "cell_type": "markdown",
   "id": "dd02999d-5eb4-4644-8a2b-f8d8c7baba37",
   "metadata": {},
   "source": [
    "⚠️vérifier pertinence existence site_nom et site_id et redondance, Pourquoi il y a des données de la forme 00000_00000\n",
    "quels lignes ont tendance a avoir des données manquantes? pourquoi? besoin de standardisé l'entrée des données? "
   ]
  },
  {
   "cell_type": "markdown",
   "id": "554a2e55-32f8-4236-8c90-e776f9fe1c8f",
   "metadata": {},
   "source": [
    "### 2) site_id"
   ]
  },
  {
   "cell_type": "code",
   "execution_count": 21,
   "id": "bfb6ca60-6d8e-4b20-9979-ad96bd22cf88",
   "metadata": {
    "jupyter": {
     "source_hidden": true
    }
   },
   "outputs": [
    {
     "data": {
      "text/html": [
       "<div>\n",
       "<style scoped>\n",
       "    .dataframe tbody tr th:only-of-type {\n",
       "        vertical-align: middle;\n",
       "    }\n",
       "\n",
       "    .dataframe tbody tr th {\n",
       "        vertical-align: top;\n",
       "    }\n",
       "\n",
       "    .dataframe thead th {\n",
       "        text-align: right;\n",
       "    }\n",
       "</style>\n",
       "<table border=\"1\" class=\"dataframe\">\n",
       "  <thead>\n",
       "    <tr style=\"text-align: right;\">\n",
       "      <th></th>\n",
       "      <th>Pattern typologique</th>\n",
       "      <th>Exemple</th>\n",
       "      <th>Longueur</th>\n",
       "      <th>Fréquence</th>\n",
       "    </tr>\n",
       "  </thead>\n",
       "  <tbody>\n",
       "    <tr>\n",
       "      <th>0</th>\n",
       "      <td>00000_00000</td>\n",
       "      <td>61214_34555</td>\n",
       "      <td>11</td>\n",
       "      <td>18750</td>\n",
       "    </tr>\n",
       "    <tr>\n",
       "      <th>1</th>\n",
       "      <td>00000_0000</td>\n",
       "      <td>62178_4393</td>\n",
       "      <td>10</td>\n",
       "      <td>8128</td>\n",
       "    </tr>\n",
       "    <tr>\n",
       "      <th>2</th>\n",
       "      <td>00000_000</td>\n",
       "      <td>16154_221</td>\n",
       "      <td>9</td>\n",
       "      <td>869</td>\n",
       "    </tr>\n",
       "    <tr>\n",
       "      <th>3</th>\n",
       "      <td>AA_00000</td>\n",
       "      <td>NA_35083</td>\n",
       "      <td>8</td>\n",
       "      <td>131</td>\n",
       "    </tr>\n",
       "    <tr>\n",
       "      <th>4</th>\n",
       "      <td>0A000_00000</td>\n",
       "      <td>2A028_15474</td>\n",
       "      <td>11</td>\n",
       "      <td>113</td>\n",
       "    </tr>\n",
       "    <tr>\n",
       "      <th>5</th>\n",
       "      <td>00000_00</td>\n",
       "      <td>76312_61</td>\n",
       "      <td>8</td>\n",
       "      <td>83</td>\n",
       "    </tr>\n",
       "    <tr>\n",
       "      <th>6</th>\n",
       "      <td>0A000_0000</td>\n",
       "      <td>2B185_1532</td>\n",
       "      <td>10</td>\n",
       "      <td>30</td>\n",
       "    </tr>\n",
       "    <tr>\n",
       "      <th>7</th>\n",
       "      <td>00000_0</td>\n",
       "      <td>08363_1</td>\n",
       "      <td>7</td>\n",
       "      <td>9</td>\n",
       "    </tr>\n",
       "    <tr>\n",
       "      <th>8</th>\n",
       "      <td>00000X00000_00000</td>\n",
       "      <td>54286,54136_35164</td>\n",
       "      <td>17</td>\n",
       "      <td>1</td>\n",
       "    </tr>\n",
       "    <tr>\n",
       "      <th>9</th>\n",
       "      <td>0A000_000</td>\n",
       "      <td>2B082_112</td>\n",
       "      <td>9</td>\n",
       "      <td>1</td>\n",
       "    </tr>\n",
       "  </tbody>\n",
       "</table>\n",
       "</div>"
      ],
      "text/plain": [
       "  Pattern typologique            Exemple  Longueur  Fréquence\n",
       "0         00000_00000        61214_34555        11      18750\n",
       "1          00000_0000         62178_4393        10       8128\n",
       "2           00000_000          16154_221         9        869\n",
       "3            AA_00000           NA_35083         8        131\n",
       "4         0A000_00000        2A028_15474        11        113\n",
       "5            00000_00           76312_61         8         83\n",
       "6          0A000_0000         2B185_1532        10         30\n",
       "7             00000_0            08363_1         7          9\n",
       "8   00000X00000_00000  54286,54136_35164        17          1\n",
       "9           0A000_000          2B082_112         9          1"
      ]
     },
     "execution_count": 21,
     "metadata": {},
     "output_type": "execute_result"
    }
   ],
   "source": [
    "detect_typo_patterns(df[\"site_id\"])"
   ]
  },
  {
   "cell_type": "markdown",
   "id": "85515066-9e73-4774-b973-619aa0d64e8a",
   "metadata": {},
   "source": [
    "⚠️voir le rapport entre les typologies et la provenance ou signification de la typologie"
   ]
  },
  {
   "cell_type": "markdown",
   "id": "18965e6f-fab1-4dc9-b80e-c12533c39965",
   "metadata": {},
   "source": [
    "### 3) site_type"
   ]
  },
  {
   "cell_type": "markdown",
   "id": "4b5d213b-ee65-4af6-a868-dd61a5a1cb8d",
   "metadata": {},
   "source": [
    "site_type comprend les données des différents types de friches:  \n",
    "• avec une liste standards avec 19 valeurs différentes,    \n",
    "• et trois types:  **mixtes, inconnu, autre** qui sont des catégories ambigues qui doivent être clairifiées,  \n",
    "• peuvent elles être interpolé ou complétees?"
   ]
  },
  {
   "cell_type": "code",
   "execution_count": 91,
   "id": "59212a5a-07b0-49a4-be1a-18cd1886761a",
   "metadata": {
    "editable": true,
    "slideshow": {
     "slide_type": ""
    },
    "tags": []
   },
   "outputs": [
    {
     "data": {
      "image/png": "[encoded data removed]",
      "text/plain": [
       "<Figure size 600x400 with 1 Axes>"
      ]
     },
     "metadata": {},
     "output_type": "display_data"
    }
   ],
   "source": [
    "# Comptage des catégories sans 'inconnu'\n",
    "site_counts = df[\"site_type\"].value_counts()\n",
    "site_counts = site_counts.sort_values(ascending=True)\n",
    "\n",
    "plt.figure(figsize=(6, 4))\n",
    "plt.barh(site_counts.index, site_counts.values)\n",
    "plt.xlabel(\"Nombre de friches\", fontsize=8)\n",
    "plt.title(\"Répartition des types de friches\", fontsize=8)\n",
    "plt.xticks(fontsize=6)\n",
    "plt.yticks(fontsize=6)\n",
    "plt.tight_layout()\n",
    "plt.show()"
   ]
  },
  {
   "cell_type": "markdown",
   "id": "40fd5a02-abff-4e04-94cd-d1aed6c51974",
   "metadata": {},
   "source": [
    "**Commentaire:** Dans le cadre d'un modèle de machine learning il faudrait réechantilloner cette variable, et dabord résoudre les variables ambigues: comment sont réparties ces variables ambigues -> agrégation.  \n",
    "🧠il y a t-il un moyen de prédire site_type en fonction des autres features"
   ]
  },
  {
   "cell_type": "markdown",
   "id": "11509850-69e0-4864-825b-c5708e9a2d4e",
   "metadata": {},
   "source": [
    "### 4) site_adress"
   ]
  },
  {
   "cell_type": "code",
   "execution_count": 37,
   "id": "c51d774a-99bc-46b2-ab30-759f6b7c4c7b",
   "metadata": {
    "jupyter": {
     "source_hidden": true
    }
   },
   "outputs": [
    {
     "data": {
      "text/html": [
       "<div>\n",
       "<style scoped>\n",
       "    .dataframe tbody tr th:only-of-type {\n",
       "        vertical-align: middle;\n",
       "    }\n",
       "\n",
       "    .dataframe tbody tr th {\n",
       "        vertical-align: top;\n",
       "    }\n",
       "\n",
       "    .dataframe thead th {\n",
       "        text-align: right;\n",
       "    }\n",
       "</style>\n",
       "<table border=\"1\" class=\"dataframe\">\n",
       "  <thead>\n",
       "    <tr style=\"text-align: right;\">\n",
       "      <th></th>\n",
       "      <th>Pattern typologique</th>\n",
       "      <th>Exemple</th>\n",
       "      <th>Longueur</th>\n",
       "      <th>Fréquence</th>\n",
       "    </tr>\n",
       "  </thead>\n",
       "  <tbody>\n",
       "    <tr>\n",
       "      <th>0</th>\n",
       "      <td>AAXAAAAAAA</td>\n",
       "      <td>LE VILLAGE</td>\n",
       "      <td>10</td>\n",
       "      <td>46</td>\n",
       "    </tr>\n",
       "    <tr>\n",
       "      <th>1</th>\n",
       "      <td>000XAAAXAAXAAAAA</td>\n",
       "      <td>259 RUE DE PLAIN</td>\n",
       "      <td>16</td>\n",
       "      <td>27</td>\n",
       "    </tr>\n",
       "    <tr>\n",
       "      <th>2</th>\n",
       "      <td>00XAAAXAAXAAAAAA</td>\n",
       "      <td>53 RUE DU MOULIN</td>\n",
       "      <td>16</td>\n",
       "      <td>26</td>\n",
       "    </tr>\n",
       "    <tr>\n",
       "      <th>3</th>\n",
       "      <td>000XAAAXAAXAAAAAAA</td>\n",
       "      <td>159 rue de Mereges</td>\n",
       "      <td>18</td>\n",
       "      <td>25</td>\n",
       "    </tr>\n",
       "    <tr>\n",
       "      <th>4</th>\n",
       "      <td>000XAAAXAAXAAAAAAAA</td>\n",
       "      <td>273 rue de Bordeaux</td>\n",
       "      <td>19</td>\n",
       "      <td>24</td>\n",
       "    </tr>\n",
       "    <tr>\n",
       "      <th>...</th>\n",
       "      <td>...</td>\n",
       "      <td>...</td>\n",
       "      <td>...</td>\n",
       "      <td>...</td>\n",
       "    </tr>\n",
       "    <tr>\n",
       "      <th>2092</th>\n",
       "      <td>00XAAAXAAXAXAAAAAXXAAAAAA</td>\n",
       "      <td>33 CHE DE L USINE, SAPOIS</td>\n",
       "      <td>25</td>\n",
       "      <td>1</td>\n",
       "    </tr>\n",
       "    <tr>\n",
       "      <th>2093</th>\n",
       "      <td>00XAAAXAAXAXAAAAAAAA</td>\n",
       "      <td>11 rue de l'abattoir</td>\n",
       "      <td>20</td>\n",
       "      <td>1</td>\n",
       "    </tr>\n",
       "    <tr>\n",
       "      <th>2094</th>\n",
       "      <td>00XAAAXAAXAXAAAA</td>\n",
       "      <td>84 rue de l'Etat</td>\n",
       "      <td>16</td>\n",
       "      <td>1</td>\n",
       "    </tr>\n",
       "    <tr>\n",
       "      <th>2095</th>\n",
       "      <td>00XAAAXAAXAAXAXAAAAAAAA</td>\n",
       "      <td>24 rue de la République</td>\n",
       "      <td>23</td>\n",
       "      <td>1</td>\n",
       "    </tr>\n",
       "    <tr>\n",
       "      <th>2096</th>\n",
       "      <td>XX0XAAAAXXAAXAAAAAAA</td>\n",
       "      <td>\\r\\n2 Chem. du Prejour</td>\n",
       "      <td>20</td>\n",
       "      <td>1</td>\n",
       "    </tr>\n",
       "  </tbody>\n",
       "</table>\n",
       "<p>2097 rows × 4 columns</p>\n",
       "</div>"
      ],
      "text/plain": [
       "            Pattern typologique                    Exemple  Longueur  \\\n",
       "0                    AAXAAAAAAA                 LE VILLAGE        10   \n",
       "1              000XAAAXAAXAAAAA           259 RUE DE PLAIN        16   \n",
       "2              00XAAAXAAXAAAAAA           53 RUE DU MOULIN        16   \n",
       "3            000XAAAXAAXAAAAAAA         159 rue de Mereges        18   \n",
       "4           000XAAAXAAXAAAAAAAA        273 rue de Bordeaux        19   \n",
       "...                         ...                        ...       ...   \n",
       "2092  00XAAAXAAXAXAAAAAXXAAAAAA  33 CHE DE L USINE, SAPOIS        25   \n",
       "2093       00XAAAXAAXAXAAAAAAAA       11 rue de l'abattoir        20   \n",
       "2094           00XAAAXAAXAXAAAA           84 rue de l'Etat        16   \n",
       "2095    00XAAAXAAXAAXAXAAAAAAAA    24 rue de la République        23   \n",
       "2096       XX0XAAAAXXAAXAAAAAAA     \\r\\n2 Chem. du Prejour        20   \n",
       "\n",
       "      Fréquence  \n",
       "0            46  \n",
       "1            27  \n",
       "2            26  \n",
       "3            25  \n",
       "4            24  \n",
       "...         ...  \n",
       "2092          1  \n",
       "2093          1  \n",
       "2094          1  \n",
       "2095          1  \n",
       "2096          1  \n",
       "\n",
       "[2097 rows x 4 columns]"
      ]
     },
     "execution_count": 37,
     "metadata": {},
     "output_type": "execute_result"
    }
   ],
   "source": [
    "detect_typo_patterns(df[\"site_adresse\"])"
   ]
  },
  {
   "cell_type": "markdown",
   "id": "2b28fcd4-98b7-4c19-ba1b-ca6d418fc6ec",
   "metadata": {},
   "source": [
    "**Commentaire:** la variable site adresse est inhomgène avec 86% de Na des typologies variables, problème de casses, des abréviations dans des cas et d'autres sans abréviation des lieux dits.  \n",
    "Quels types de friches ont tendance  à ne pas avoir d'adresses? Pourquoi ? réponse partielle, **des friches sur des lieux-dits**"
   ]
  },
  {
   "cell_type": "markdown",
   "id": "b1594e91-f117-4c7a-b99d-cd016c737f11",
   "metadata": {},
   "source": [
    "### 5) site_identif_date, site_actu_date"
   ]
  },
  {
   "cell_type": "code",
   "execution_count": 48,
   "id": "50fc8ebe-99ca-44fa-8184-d92fb023704a",
   "metadata": {
    "jupyter": {
     "source_hidden": true
    }
   },
   "outputs": [
    {
     "data": {
      "text/html": [
       "<div>\n",
       "<style scoped>\n",
       "    .dataframe tbody tr th:only-of-type {\n",
       "        vertical-align: middle;\n",
       "    }\n",
       "\n",
       "    .dataframe tbody tr th {\n",
       "        vertical-align: top;\n",
       "    }\n",
       "\n",
       "    .dataframe thead th {\n",
       "        text-align: right;\n",
       "    }\n",
       "</style>\n",
       "<table border=\"1\" class=\"dataframe\">\n",
       "  <thead>\n",
       "    <tr style=\"text-align: right;\">\n",
       "      <th></th>\n",
       "      <th>Pattern typologique</th>\n",
       "      <th>Exemple</th>\n",
       "      <th>Longueur</th>\n",
       "      <th>Fréquence</th>\n",
       "    </tr>\n",
       "  </thead>\n",
       "  <tbody>\n",
       "    <tr>\n",
       "      <th>0</th>\n",
       "      <td>0000X00X00</td>\n",
       "      <td>2025-03-05</td>\n",
       "      <td>10</td>\n",
       "      <td>28083</td>\n",
       "    </tr>\n",
       "    <tr>\n",
       "      <th>1</th>\n",
       "      <td>00X00X00</td>\n",
       "      <td>16-10-23</td>\n",
       "      <td>8</td>\n",
       "      <td>21</td>\n",
       "    </tr>\n",
       "    <tr>\n",
       "      <th>2</th>\n",
       "      <td>0X00X00</td>\n",
       "      <td>6-09-23</td>\n",
       "      <td>7</td>\n",
       "      <td>11</td>\n",
       "    </tr>\n",
       "  </tbody>\n",
       "</table>\n",
       "</div>"
      ],
      "text/plain": [
       "  Pattern typologique     Exemple  Longueur  Fréquence\n",
       "0          0000X00X00  2025-03-05        10      28083\n",
       "1            00X00X00    16-10-23         8         21\n",
       "2             0X00X00     6-09-23         7         11"
      ]
     },
     "execution_count": 48,
     "metadata": {},
     "output_type": "execute_result"
    }
   ],
   "source": [
    "detect_typo_patterns(df[\"site_identif_date\"])"
   ]
  },
  {
   "cell_type": "code",
   "execution_count": 58,
   "id": "f4cfc9fb-5be0-4a8d-9708-5eaebda9dafb",
   "metadata": {
    "jupyter": {
     "source_hidden": true
    }
   },
   "outputs": [
    {
     "data": {
      "text/html": [
       "<div>\n",
       "<style scoped>\n",
       "    .dataframe tbody tr th:only-of-type {\n",
       "        vertical-align: middle;\n",
       "    }\n",
       "\n",
       "    .dataframe tbody tr th {\n",
       "        vertical-align: top;\n",
       "    }\n",
       "\n",
       "    .dataframe thead th {\n",
       "        text-align: right;\n",
       "    }\n",
       "</style>\n",
       "<table border=\"1\" class=\"dataframe\">\n",
       "  <thead>\n",
       "    <tr style=\"text-align: right;\">\n",
       "      <th></th>\n",
       "      <th>Pattern typologique</th>\n",
       "      <th>Exemple</th>\n",
       "      <th>Longueur</th>\n",
       "      <th>Fréquence</th>\n",
       "    </tr>\n",
       "  </thead>\n",
       "  <tbody>\n",
       "    <tr>\n",
       "      <th>0</th>\n",
       "      <td>0000X00X00</td>\n",
       "      <td>2025-03-05</td>\n",
       "      <td>10</td>\n",
       "      <td>28115</td>\n",
       "    </tr>\n",
       "  </tbody>\n",
       "</table>\n",
       "</div>"
      ],
      "text/plain": [
       "  Pattern typologique     Exemple  Longueur  Fréquence\n",
       "0          0000X00X00  2025-03-05        10      28115"
      ]
     },
     "execution_count": 58,
     "metadata": {},
     "output_type": "execute_result"
    }
   ],
   "source": [
    "detect_typo_patterns(df[\"site_actu_date\"])"
   ]
  },
  {
   "cell_type": "code",
   "execution_count": 88,
   "id": "2f19fa1e-f067-4f78-bf2d-3f1694b50da2",
   "metadata": {
    "jupyter": {
     "source_hidden": true
    }
   },
   "outputs": [
    {
     "name": "stdout",
     "output_type": "stream",
     "text": [
      "source_nom\n",
      "DDT de la Haute-Marne           29\n",
      "Appel à projet Fonds Friches     3\n",
      "Name: count, dtype: int64\n",
      "source_url\n",
      "https://www.haute-marne.gouv.fr/index.php/Actions-de-l-Etat/Amenagement-du-territoire-urbanisme/Observatoire-departemental-des-friches    29\n",
      "https://www.economie.gouv.fr/plan-de-relance/profils/collectivites/fonds-pour-le-recyclage-des-friches                                     3\n",
      "Name: count, dtype: int64\n"
     ]
    }
   ],
   "source": [
    "print(df.loc[mask_bad_date, \"source_nom\"].value_counts())\n",
    "print(df.loc[mask_bad_date, \"source_url\"].value_counts())"
   ]
  },
  {
   "cell_type": "code",
   "execution_count": 152,
   "id": "18ac5ea7-8213-43ea-b2ff-564697ffbfc1",
   "metadata": {
    "jupyter": {
     "source_hidden": true
    }
   },
   "outputs": [
    {
     "name": "stderr",
     "output_type": "stream",
     "text": [
      "C:\\Users\\rovar\\AppData\\Local\\Temp\\ipykernel_21896\\215976473.py:5: DtypeWarning:\n",
      "\n",
      "Columns (35) have mixed types. Specify dtype option on import or set low_memory=False.\n",
      "\n"
     ]
    }
   ],
   "source": [
    "#réinitialisation\n",
    "import pandas as pd \n",
    "import numpy as np\n",
    "from datetime import datetime\n",
    "df = pd.read_csv(r\"C:\\Users\\rovar\\Downloads\\friches-standard.csv\",sep = \";\")"
   ]
  },
  {
   "cell_type": "markdown",
   "id": "46857f24-1bd3-4563-8b54-4410c98fb3fc",
   "metadata": {},
   "source": [
    "#### Nettoyage des colonnes de dates et gestions des outliers "
   ]
  },
  {
   "cell_type": "code",
   "execution_count": 109,
   "id": "4c9ad4d5-415d-45a5-845d-600bb9f7ac1a",
   "metadata": {
    "jupyter": {
     "source_hidden": true
    }
   },
   "outputs": [],
   "source": [
    "# Nettoyage de site_identif_date\n",
    "def clean_site_identif(val):\n",
    "    if pd.isna(val) or not isinstance(val, str) or 'X' in val:\n",
    "        return pd.NaT\n",
    "    val = val.strip()\n",
    "    if len(val) == 10:\n",
    "        # Format standard AAAA-MM-JJ\n",
    "        try:\n",
    "            return pd.to_datetime(val, format=\"%Y-%m-%d\")\n",
    "        except:\n",
    "            return pd.NaT\n",
    "    elif len(val) in [7, 8]:\n",
    "        # Format JJ-MM-AA ou J-MM-AA\n",
    "        try:\n",
    "            return pd.to_datetime(val, format=\"%d-%m-%y\")\n",
    "        except:\n",
    "            return pd.NaT\n",
    "    else:\n",
    "        return pd.NaT"
   ]
  },
  {
   "cell_type": "code",
   "execution_count": 110,
   "id": "3c675e98-7224-4034-afb2-a871bfe8d3f8",
   "metadata": {
    "jupyter": {
     "source_hidden": true
    }
   },
   "outputs": [],
   "source": [
    "def clean_site_actu(val):\n",
    "    if pd.isna(val) or not isinstance(val, str):\n",
    "        return pd.NaT\n",
    "    val = val.strip()\n",
    "\n",
    "    # Cas anormal du type 0006-09-23 → on reforme une date correcte\n",
    "    if val[:2] == \"00\":\n",
    "        try:\n",
    "            parts = val.split('-')\n",
    "            if len(parts) != 3:\n",
    "                return pd.NaT\n",
    "            day = parts[0][-2:]       # ex: 0006 → 06\n",
    "            month = parts[1]\n",
    "            year = parts[2]           # ex: 23\n",
    "            corrected = f\"{year}-{month.zfill(2)}-{day.zfill(2)}\"\n",
    "            return pd.to_datetime(corrected, format=\"%y-%m-%d\", errors=\"raise\")\n",
    "        except:\n",
    "            return pd.NaT\n",
    "    else:\n",
    "        # cas normal en AAAA-MM-JJ\n",
    "        try:\n",
    "            return pd.to_datetime(val, format=\"%Y-%m-%d\", errors=\"raise\")\n",
    "        except:\n",
    "            return pd.NaT"
   ]
  },
  {
   "cell_type": "code",
   "execution_count": 111,
   "id": "a038792b-86ad-47b6-b0f1-659c5dd9f209",
   "metadata": {
    "jupyter": {
     "source_hidden": true
    }
   },
   "outputs": [],
   "source": [
    "# Application\n",
    "df['site_identif_date'] = df['site_identif_date'].apply(clean_site_identif)\n",
    "df['site_actu_date'] = df['site_actu_date'].apply(clean_site_actu)"
   ]
  },
  {
   "cell_type": "code",
   "execution_count": 117,
   "id": "0388e2ec-469a-46dd-8788-6b310680d840",
   "metadata": {
    "jupyter": {
     "source_hidden": true
    }
   },
   "outputs": [],
   "source": [
    "# Calcul du délai en jours\n",
    "df[\"délai_maj\"] = (df[\"site_actu_date\"] - df[\"site_identif_date\"]).dt.days\n",
    "\n",
    "# Filtrer les valeurs aberrantes (négatives)\n",
    "outliers_date = df[df[\"délai_maj\"] < 0]"
   ]
  },
  {
   "cell_type": "code",
   "execution_count": 119,
   "id": "1374d337-d0db-42f6-8aef-ea080af9019d",
   "metadata": {
    "jupyter": {
     "source_hidden": true
    }
   },
   "outputs": [
    {
     "data": {
      "text/html": [
       "<div>\n",
       "<style scoped>\n",
       "    .dataframe tbody tr th:only-of-type {\n",
       "        vertical-align: middle;\n",
       "    }\n",
       "\n",
       "    .dataframe tbody tr th {\n",
       "        vertical-align: top;\n",
       "    }\n",
       "\n",
       "    .dataframe thead th {\n",
       "        text-align: right;\n",
       "    }\n",
       "</style>\n",
       "<table border=\"1\" class=\"dataframe\">\n",
       "  <thead>\n",
       "    <tr style=\"text-align: right;\">\n",
       "      <th></th>\n",
       "      <th>site_actu_date</th>\n",
       "      <th>site_identif_date</th>\n",
       "      <th>délai_maj</th>\n",
       "    </tr>\n",
       "  </thead>\n",
       "  <tbody>\n",
       "    <tr>\n",
       "      <th>count</th>\n",
       "      <td>28115</td>\n",
       "      <td>28115</td>\n",
       "      <td>28115.000000</td>\n",
       "    </tr>\n",
       "    <tr>\n",
       "      <th>mean</th>\n",
       "      <td>2023-01-09 03:55:02.422194176</td>\n",
       "      <td>2022-02-20 04:40:12.889916672</td>\n",
       "      <td>322.968629</td>\n",
       "    </tr>\n",
       "    <tr>\n",
       "      <th>min</th>\n",
       "      <td>2014-01-01 00:00:00</td>\n",
       "      <td>1900-12-31 00:00:00</td>\n",
       "      <td>-2848.000000</td>\n",
       "    </tr>\n",
       "    <tr>\n",
       "      <th>25%</th>\n",
       "      <td>2022-10-10 00:00:00</td>\n",
       "      <td>2022-10-10 00:00:00</td>\n",
       "      <td>0.000000</td>\n",
       "    </tr>\n",
       "    <tr>\n",
       "      <th>50%</th>\n",
       "      <td>2022-10-10 00:00:00</td>\n",
       "      <td>2022-10-10 00:00:00</td>\n",
       "      <td>0.000000</td>\n",
       "    </tr>\n",
       "    <tr>\n",
       "      <th>75%</th>\n",
       "      <td>2024-01-30 00:00:00</td>\n",
       "      <td>2022-10-10 00:00:00</td>\n",
       "      <td>0.000000</td>\n",
       "    </tr>\n",
       "    <tr>\n",
       "      <th>max</th>\n",
       "      <td>2025-04-07 00:00:00</td>\n",
       "      <td>2031-12-01 00:00:00</td>\n",
       "      <td>44969.000000</td>\n",
       "    </tr>\n",
       "    <tr>\n",
       "      <th>std</th>\n",
       "      <td>NaN</td>\n",
       "      <td>NaN</td>\n",
       "      <td>1811.575284</td>\n",
       "    </tr>\n",
       "  </tbody>\n",
       "</table>\n",
       "</div>"
      ],
      "text/plain": [
       "                      site_actu_date              site_identif_date  \\\n",
       "count                          28115                          28115   \n",
       "mean   2023-01-09 03:55:02.422194176  2022-02-20 04:40:12.889916672   \n",
       "min              2014-01-01 00:00:00            1900-12-31 00:00:00   \n",
       "25%              2022-10-10 00:00:00            2022-10-10 00:00:00   \n",
       "50%              2022-10-10 00:00:00            2022-10-10 00:00:00   \n",
       "75%              2024-01-30 00:00:00            2022-10-10 00:00:00   \n",
       "max              2025-04-07 00:00:00            2031-12-01 00:00:00   \n",
       "std                              NaN                            NaN   \n",
       "\n",
       "          délai_maj  \n",
       "count  28115.000000  \n",
       "mean     322.968629  \n",
       "min    -2848.000000  \n",
       "25%        0.000000  \n",
       "50%        0.000000  \n",
       "75%        0.000000  \n",
       "max    44969.000000  \n",
       "std     1811.575284  "
      ]
     },
     "execution_count": 119,
     "metadata": {},
     "output_type": "execute_result"
    }
   ],
   "source": [
    "df[[\"site_actu_date\", \"site_identif_date\",\"délai_maj\"]].describe()"
   ]
  },
  {
   "cell_type": "code",
   "execution_count": 118,
   "id": "d0b9f9b5-3850-4ab9-9703-57ca34bee8eb",
   "metadata": {
    "jupyter": {
     "source_hidden": true
    }
   },
   "outputs": [
    {
     "data": {
      "text/html": [
       "<div>\n",
       "<style scoped>\n",
       "    .dataframe tbody tr th:only-of-type {\n",
       "        vertical-align: middle;\n",
       "    }\n",
       "\n",
       "    .dataframe tbody tr th {\n",
       "        vertical-align: top;\n",
       "    }\n",
       "\n",
       "    .dataframe thead th {\n",
       "        text-align: right;\n",
       "    }\n",
       "</style>\n",
       "<table border=\"1\" class=\"dataframe\">\n",
       "  <thead>\n",
       "    <tr style=\"text-align: right;\">\n",
       "      <th></th>\n",
       "      <th>site_id</th>\n",
       "      <th>site_nom</th>\n",
       "      <th>site_type</th>\n",
       "      <th>site_adresse</th>\n",
       "      <th>site_identif_date</th>\n",
       "      <th>site_actu_date</th>\n",
       "      <th>site_url</th>\n",
       "      <th>site_ademe_url</th>\n",
       "      <th>site_securite</th>\n",
       "      <th>site_occupation</th>\n",
       "      <th>...</th>\n",
       "      <th>urba_doc_type</th>\n",
       "      <th>desserte_distance</th>\n",
       "      <th>desserte_commentaire</th>\n",
       "      <th>source_nom</th>\n",
       "      <th>source_url</th>\n",
       "      <th>source_producteur</th>\n",
       "      <th>source_contact</th>\n",
       "      <th>geompoint</th>\n",
       "      <th>geomsurf</th>\n",
       "      <th>délai_maj</th>\n",
       "    </tr>\n",
       "  </thead>\n",
       "  <tbody>\n",
       "    <tr>\n",
       "      <th>16468</th>\n",
       "      <td>37027_21675</td>\n",
       "      <td>Appel à projet Recyclage Foncier 2021 3ième éd...</td>\n",
       "      <td>friche d'habitat</td>\n",
       "      <td>NaN</td>\n",
       "      <td>2031-12-01</td>\n",
       "      <td>2024-02-13</td>\n",
       "      <td>NaN</td>\n",
       "      <td>NaN</td>\n",
       "      <td>inconnu</td>\n",
       "      <td>inconnu</td>\n",
       "      <td>...</td>\n",
       "      <td>PLUI</td>\n",
       "      <td>NaN</td>\n",
       "      <td>NaN</td>\n",
       "      <td>Appel à projet Fonds Friches</td>\n",
       "      <td>https://www.economie.gouv.fr/plan-de-relance/p...</td>\n",
       "      <td>Appel à projet Fonds Friches</td>\n",
       "      <td>NaN</td>\n",
       "      <td>POINT (0.9920944 47.32845)</td>\n",
       "      <td>NaN</td>\n",
       "      <td>-2848</td>\n",
       "    </tr>\n",
       "    <tr>\n",
       "      <th>19623</th>\n",
       "      <td>37027_20243</td>\n",
       "      <td>Appel à projet Fonds Vert 2023 -BLERE \"Square ...</td>\n",
       "      <td>mixte</td>\n",
       "      <td>NaN</td>\n",
       "      <td>2031-12-01</td>\n",
       "      <td>2024-02-13</td>\n",
       "      <td>NaN</td>\n",
       "      <td>NaN</td>\n",
       "      <td>inconnu</td>\n",
       "      <td>inconnu</td>\n",
       "      <td>...</td>\n",
       "      <td>PLUI</td>\n",
       "      <td>NaN</td>\n",
       "      <td>NaN</td>\n",
       "      <td>Appel à projet Fonds Friches</td>\n",
       "      <td>https://www.economie.gouv.fr/plan-de-relance/p...</td>\n",
       "      <td>Appel à projet Fonds Friches</td>\n",
       "      <td>NaN</td>\n",
       "      <td>POINT (0.9927726 47.32828)</td>\n",
       "      <td>NaN</td>\n",
       "      <td>-2848</td>\n",
       "    </tr>\n",
       "    <tr>\n",
       "      <th>25567</th>\n",
       "      <td>37104_25534</td>\n",
       "      <td>Appel à projet Fonds Vert 2023 -ESVRES \"Rue du...</td>\n",
       "      <td>mixte</td>\n",
       "      <td>NaN</td>\n",
       "      <td>2031-12-01</td>\n",
       "      <td>2024-02-13</td>\n",
       "      <td>NaN</td>\n",
       "      <td>NaN</td>\n",
       "      <td>inconnu</td>\n",
       "      <td>inconnu</td>\n",
       "      <td>...</td>\n",
       "      <td>PLU</td>\n",
       "      <td>NaN</td>\n",
       "      <td>NaN</td>\n",
       "      <td>Appel à projet Fonds Friches</td>\n",
       "      <td>https://www.economie.gouv.fr/plan-de-relance/p...</td>\n",
       "      <td>Appel à projet Fonds Friches</td>\n",
       "      <td>NaN</td>\n",
       "      <td>POINT (0.7889918 47.28532)</td>\n",
       "      <td>NaN</td>\n",
       "      <td>-2848</td>\n",
       "    </tr>\n",
       "  </tbody>\n",
       "</table>\n",
       "<p>3 rows × 51 columns</p>\n",
       "</div>"
      ],
      "text/plain": [
       "           site_id                                           site_nom  \\\n",
       "16468  37027_21675  Appel à projet Recyclage Foncier 2021 3ième éd...   \n",
       "19623  37027_20243  Appel à projet Fonds Vert 2023 -BLERE \"Square ...   \n",
       "25567  37104_25534  Appel à projet Fonds Vert 2023 -ESVRES \"Rue du...   \n",
       "\n",
       "              site_type site_adresse site_identif_date site_actu_date  \\\n",
       "16468  friche d'habitat          NaN        2031-12-01     2024-02-13   \n",
       "19623             mixte          NaN        2031-12-01     2024-02-13   \n",
       "25567             mixte          NaN        2031-12-01     2024-02-13   \n",
       "\n",
       "      site_url  site_ademe_url site_securite site_occupation  ...  \\\n",
       "16468      NaN             NaN       inconnu         inconnu  ...   \n",
       "19623      NaN             NaN       inconnu         inconnu  ...   \n",
       "25567      NaN             NaN       inconnu         inconnu  ...   \n",
       "\n",
       "      urba_doc_type  desserte_distance  desserte_commentaire  \\\n",
       "16468          PLUI                NaN                   NaN   \n",
       "19623          PLUI                NaN                   NaN   \n",
       "25567           PLU                NaN                   NaN   \n",
       "\n",
       "                         source_nom  \\\n",
       "16468  Appel à projet Fonds Friches   \n",
       "19623  Appel à projet Fonds Friches   \n",
       "25567  Appel à projet Fonds Friches   \n",
       "\n",
       "                                              source_url  \\\n",
       "16468  https://www.economie.gouv.fr/plan-de-relance/p...   \n",
       "19623  https://www.economie.gouv.fr/plan-de-relance/p...   \n",
       "25567  https://www.economie.gouv.fr/plan-de-relance/p...   \n",
       "\n",
       "                  source_producteur source_contact  \\\n",
       "16468  Appel à projet Fonds Friches            NaN   \n",
       "19623  Appel à projet Fonds Friches            NaN   \n",
       "25567  Appel à projet Fonds Friches            NaN   \n",
       "\n",
       "                        geompoint geomsurf délai_maj  \n",
       "16468  POINT (0.9920944 47.32845)      NaN     -2848  \n",
       "19623  POINT (0.9927726 47.32828)      NaN     -2848  \n",
       "25567  POINT (0.7889918 47.28532)      NaN     -2848  \n",
       "\n",
       "[3 rows x 51 columns]"
      ]
     },
     "execution_count": 118,
     "metadata": {},
     "output_type": "execute_result"
    }
   ],
   "source": [
    "outliers_date"
   ]
  },
  {
   "cell_type": "code",
   "execution_count": 39,
   "id": "3b8def1f-76c1-4138-baff-799d4cd9fde9",
   "metadata": {
    "jupyter": {
     "source_hidden": true
    }
   },
   "outputs": [
    {
     "data": {
      "text/html": [
       "<div>\n",
       "<style scoped>\n",
       "    .dataframe tbody tr th:only-of-type {\n",
       "        vertical-align: middle;\n",
       "    }\n",
       "\n",
       "    .dataframe tbody tr th {\n",
       "        vertical-align: top;\n",
       "    }\n",
       "\n",
       "    .dataframe thead th {\n",
       "        text-align: right;\n",
       "    }\n",
       "</style>\n",
       "<table border=\"1\" class=\"dataframe\">\n",
       "  <thead>\n",
       "    <tr style=\"text-align: right;\">\n",
       "      <th></th>\n",
       "      <th>site_id</th>\n",
       "      <th>site_nom</th>\n",
       "      <th>site_type</th>\n",
       "      <th>site_adresse</th>\n",
       "      <th>site_identif_date</th>\n",
       "      <th>site_actu_date</th>\n",
       "      <th>site_url</th>\n",
       "      <th>site_ademe_url</th>\n",
       "      <th>site_securite</th>\n",
       "      <th>site_occupation</th>\n",
       "      <th>...</th>\n",
       "      <th>desserte_commentaire</th>\n",
       "      <th>source_nom</th>\n",
       "      <th>source_url</th>\n",
       "      <th>source_producteur</th>\n",
       "      <th>source_contact</th>\n",
       "      <th>geompoint</th>\n",
       "      <th>geomsurf</th>\n",
       "      <th>site_actu_date_raw</th>\n",
       "      <th>site_identif_date_raw</th>\n",
       "      <th>délai_maj</th>\n",
       "    </tr>\n",
       "  </thead>\n",
       "  <tbody>\n",
       "    <tr>\n",
       "      <th>16468</th>\n",
       "      <td>37027_21675</td>\n",
       "      <td>Appel à projet Recyclage Foncier 2021 3ième éd...</td>\n",
       "      <td>friche d'habitat</td>\n",
       "      <td>NaN</td>\n",
       "      <td>2031-12-01</td>\n",
       "      <td>2024-02-13</td>\n",
       "      <td>NaN</td>\n",
       "      <td>NaN</td>\n",
       "      <td>inconnu</td>\n",
       "      <td>inconnu</td>\n",
       "      <td>...</td>\n",
       "      <td>NaN</td>\n",
       "      <td>Appel à projet Fonds Friches</td>\n",
       "      <td>https://www.economie.gouv.fr/plan-de-relance/p...</td>\n",
       "      <td>Appel à projet Fonds Friches</td>\n",
       "      <td>NaN</td>\n",
       "      <td>POINT (0.9920944 47.32845)</td>\n",
       "      <td>NaN</td>\n",
       "      <td>2024-02-13</td>\n",
       "      <td>1-12-31</td>\n",
       "      <td>-2848.0</td>\n",
       "    </tr>\n",
       "    <tr>\n",
       "      <th>19623</th>\n",
       "      <td>37027_20243</td>\n",
       "      <td>Appel à projet Fonds Vert 2023 -BLERE \"Square ...</td>\n",
       "      <td>mixte</td>\n",
       "      <td>NaN</td>\n",
       "      <td>2031-12-01</td>\n",
       "      <td>2024-02-13</td>\n",
       "      <td>NaN</td>\n",
       "      <td>NaN</td>\n",
       "      <td>inconnu</td>\n",
       "      <td>inconnu</td>\n",
       "      <td>...</td>\n",
       "      <td>NaN</td>\n",
       "      <td>Appel à projet Fonds Friches</td>\n",
       "      <td>https://www.economie.gouv.fr/plan-de-relance/p...</td>\n",
       "      <td>Appel à projet Fonds Friches</td>\n",
       "      <td>NaN</td>\n",
       "      <td>POINT (0.9927726 47.32828)</td>\n",
       "      <td>NaN</td>\n",
       "      <td>2024-02-13</td>\n",
       "      <td>1-12-31</td>\n",
       "      <td>-2848.0</td>\n",
       "    </tr>\n",
       "    <tr>\n",
       "      <th>25567</th>\n",
       "      <td>37104_25534</td>\n",
       "      <td>Appel à projet Fonds Vert 2023 -ESVRES \"Rue du...</td>\n",
       "      <td>mixte</td>\n",
       "      <td>NaN</td>\n",
       "      <td>2031-12-01</td>\n",
       "      <td>2024-02-13</td>\n",
       "      <td>NaN</td>\n",
       "      <td>NaN</td>\n",
       "      <td>inconnu</td>\n",
       "      <td>inconnu</td>\n",
       "      <td>...</td>\n",
       "      <td>NaN</td>\n",
       "      <td>Appel à projet Fonds Friches</td>\n",
       "      <td>https://www.economie.gouv.fr/plan-de-relance/p...</td>\n",
       "      <td>Appel à projet Fonds Friches</td>\n",
       "      <td>NaN</td>\n",
       "      <td>POINT (0.7889918 47.28532)</td>\n",
       "      <td>NaN</td>\n",
       "      <td>2024-02-13</td>\n",
       "      <td>1-12-31</td>\n",
       "      <td>-2848.0</td>\n",
       "    </tr>\n",
       "  </tbody>\n",
       "</table>\n",
       "<p>3 rows × 53 columns</p>\n",
       "</div>"
      ],
      "text/plain": [
       "           site_id                                           site_nom  \\\n",
       "16468  37027_21675  Appel à projet Recyclage Foncier 2021 3ième éd...   \n",
       "19623  37027_20243  Appel à projet Fonds Vert 2023 -BLERE \"Square ...   \n",
       "25567  37104_25534  Appel à projet Fonds Vert 2023 -ESVRES \"Rue du...   \n",
       "\n",
       "              site_type site_adresse site_identif_date site_actu_date  \\\n",
       "16468  friche d'habitat          NaN        2031-12-01     2024-02-13   \n",
       "19623             mixte          NaN        2031-12-01     2024-02-13   \n",
       "25567             mixte          NaN        2031-12-01     2024-02-13   \n",
       "\n",
       "      site_url  site_ademe_url site_securite site_occupation  ...  \\\n",
       "16468      NaN             NaN       inconnu         inconnu  ...   \n",
       "19623      NaN             NaN       inconnu         inconnu  ...   \n",
       "25567      NaN             NaN       inconnu         inconnu  ...   \n",
       "\n",
       "      desserte_commentaire                    source_nom  \\\n",
       "16468                  NaN  Appel à projet Fonds Friches   \n",
       "19623                  NaN  Appel à projet Fonds Friches   \n",
       "25567                  NaN  Appel à projet Fonds Friches   \n",
       "\n",
       "                                              source_url  \\\n",
       "16468  https://www.economie.gouv.fr/plan-de-relance/p...   \n",
       "19623  https://www.economie.gouv.fr/plan-de-relance/p...   \n",
       "25567  https://www.economie.gouv.fr/plan-de-relance/p...   \n",
       "\n",
       "                  source_producteur source_contact  \\\n",
       "16468  Appel à projet Fonds Friches            NaN   \n",
       "19623  Appel à projet Fonds Friches            NaN   \n",
       "25567  Appel à projet Fonds Friches            NaN   \n",
       "\n",
       "                        geompoint geomsurf site_actu_date_raw  \\\n",
       "16468  POINT (0.9920944 47.32845)      NaN         2024-02-13   \n",
       "19623  POINT (0.9927726 47.32828)      NaN         2024-02-13   \n",
       "25567  POINT (0.7889918 47.28532)      NaN         2024-02-13   \n",
       "\n",
       "      site_identif_date_raw délai_maj  \n",
       "16468               1-12-31   -2848.0  \n",
       "19623               1-12-31   -2848.0  \n",
       "25567               1-12-31   -2848.0  \n",
       "\n",
       "[3 rows x 53 columns]"
      ]
     },
     "execution_count": 39,
     "metadata": {},
     "output_type": "execute_result"
    }
   ],
   "source": [
    "outliers_date"
   ]
  },
  {
   "cell_type": "code",
   "execution_count": 132,
   "id": "6f7d360e-b521-4a3b-b73e-564180e17239",
   "metadata": {
    "jupyter": {
     "source_hidden": true
    }
   },
   "outputs": [
    {
     "name": "stdout",
     "output_type": "stream",
     "text": [
      "📊 Moyenne des délais (≤ 45000 jours) : 184.09 jours\n",
      "🔹 Médiane : 0 jours\n",
      "± Écart type : 829.99 jours\n",
      "📈 Nombre de points : 27859 / 27859\n"
     ]
    },
    {
     "data": {
      "image/png": "[encoded data removed]",
      "text/plain": [
       "<Figure size 1000x500 with 1 Axes>"
      ]
     },
     "metadata": {},
     "output_type": "display_data"
    }
   ],
   "source": [
    "import pandas as pd\n",
    "import matplotlib.pyplot as plt\n",
    "\n",
    "# Calcul du délai\n",
    "df['delai_jours'] = (df['site_actu_date'] - df['site_identif_date']).dt.days\n",
    "\n",
    "# Filtrage : dates valides entre 2000 et 2025 + délai positif\n",
    "mask_valid = (\n",
    "    df['site_identif_date'].dt.year.between(2000, 2025) &\n",
    "    df['site_actu_date'].dt.year.between(2000, 2025) &\n",
    "    df['delai_jours'].notna()\n",
    ")\n",
    "\n",
    "df_valid = df.loc[mask_valid]\n",
    "\n",
    "# Définir une fenêtre de délai raisonnable (ex : 0 à 45000 jours) \n",
    "delai_max = 45000\n",
    "df_windowed = df_valid[df_valid['delai_jours'].between(0, delai_max)]\n",
    "\n",
    "# Statistiques sur la fenêtre sélectionnée\n",
    "mean_ = df_windowed['delai_jours'].mean()\n",
    "median_ = df_windowed['delai_jours'].median()\n",
    "std_ = df_windowed['delai_jours'].std()\n",
    "\n",
    "print(f\"📊 Moyenne des délais (≤ {delai_max} jours) : {mean_:.2f} jours\")\n",
    "print(f\"🔹 Médiane : {median_:.0f} jours\")\n",
    "print(f\"± Écart type : {std_:.2f} jours\")\n",
    "print(f\"📈 Nombre de points : {len(df_windowed)} / {len(df_valid)}\")\n",
    "\n",
    "# Histogramme\n",
    "plt.figure(figsize=(10, 5))\n",
    "df_windowed['delai_jours'].hist(bins=50, edgecolor='black')\n",
    "plt.title(f\"Distribution des délais de traitement (≤ {delai_max} jours)\")\n",
    "plt.xlabel(\"Délai (en jours)\")\n",
    "plt.ylabel(\"Fréquence\")\n",
    "plt.yscale(\"log\")\n",
    "plt.grid(True, linestyle='--', alpha=0.5)\n",
    "plt.tight_layout()\n",
    "plt.show()\n"
   ]
  },
  {
   "cell_type": "markdown",
   "id": "ede979d2-274a-4226-adac-3b5a7f47f27e",
   "metadata": {},
   "source": [
    "Ces variables sont les seules variables temporielles que l'on a elles indiquent la date de saisie des données et leurs mises a jour site_actu date est un bon indicateur de la qualité de la maintenance du site.  \n",
    "On peut estimer le délai de mise a jour moyen des données, et aussi la récurence de ces mises à jour, il nous manquerai juste une information si jamais il y a des mises a jour multiples.\n",
    "On peut aussi déterminer la fréquence des mises à jour."
   ]
  },
  {
   "cell_type": "code",
   "execution_count": 43,
   "id": "94ce30ab-769c-4930-abf0-39d4c33c24a8",
   "metadata": {
    "jupyter": {
     "source_hidden": true
    }
   },
   "outputs": [],
   "source": [
    "df[\"site_actu_date\"] = pd.to_datetime(df[\"site_actu_date\"], errors='coerce')"
   ]
  },
  {
   "cell_type": "code",
   "execution_count": 92,
   "id": "9ff0ddec-c461-447a-aba0-89bdc35b5ebc",
   "metadata": {},
   "outputs": [
    {
     "data": {
      "application/vnd.plotly.v1+json": {
       "config": {
        "plotlyServerURL": "https://plot.ly"
       },
       "data": [
        {
         "hovertemplate": "Date=%{x}<br>Nombre de friches=%{y}<extra></extra>",
         "legendgroup": "",
         "line": {
          "color": "#636efa",
          "dash": "solid"
         },
         "marker": {
          "symbol": "circle"
         },
         "mode": "lines+markers",
         "name": "",
         "orientation": "v",
         "showlegend": false,
         "type": "scatter",
         "x": [
          "2019-02-01T00:00:00",
          "2019-03-01T00:00:00",
          "2019-09-01T00:00:00",
          "2019-10-01T00:00:00",
          "2019-11-01T00:00:00",
          "2019-12-01T00:00:00",
          "2020-01-01T00:00:00",
          "2020-06-01T00:00:00",
          "2020-07-01T00:00:00",
          "2020-09-01T00:00:00",
          "2020-10-01T00:00:00",
          "2020-11-01T00:00:00",
          "2020-12-01T00:00:00",
          "2021-01-01T00:00:00",
          "2021-02-01T00:00:00",
          "2021-05-01T00:00:00",
          "2021-06-01T00:00:00",
          "2021-10-01T00:00:00",
          "2021-12-01T00:00:00",
          "2022-01-01T00:00:00",
          "2022-02-01T00:00:00",
          "2022-03-01T00:00:00",
          "2022-04-01T00:00:00",
          "2022-05-01T00:00:00",
          "2022-06-01T00:00:00",
          "2022-07-01T00:00:00",
          "2022-08-01T00:00:00",
          "2022-09-01T00:00:00",
          "2022-10-01T00:00:00",
          "2022-11-01T00:00:00",
          "2022-12-01T00:00:00",
          "2023-01-01T00:00:00",
          "2023-02-01T00:00:00",
          "2023-03-01T00:00:00",
          "2023-04-01T00:00:00",
          "2023-05-01T00:00:00",
          "2023-06-01T00:00:00",
          "2023-07-01T00:00:00",
          "2023-08-01T00:00:00",
          "2023-09-01T00:00:00",
          "2023-10-01T00:00:00",
          "2023-11-01T00:00:00",
          "2023-12-01T00:00:00",
          "2024-01-01T00:00:00",
          "2024-02-01T00:00:00",
          "2024-03-01T00:00:00",
          "2024-04-01T00:00:00",
          "2024-05-01T00:00:00",
          "2024-06-01T00:00:00",
          "2024-07-01T00:00:00",
          "2024-08-01T00:00:00",
          "2024-09-01T00:00:00",
          "2024-10-01T00:00:00",
          "2024-11-01T00:00:00",
          "2024-12-01T00:00:00",
          "2025-01-01T00:00:00",
          "2025-02-01T00:00:00",
          "2025-03-01T00:00:00",
          "2025-04-01T00:00:00"
         ],
         "xaxis": "x",
         "y": [
          4,
          3,
          15,
          10,
          35,
          83,
          568,
          3,
          927,
          22,
          24,
          17,
          86,
          13,
          147,
          931,
          13,
          1,
          738,
          44,
          1,
          60,
          50,
          281,
          55,
          29,
          62,
          77,
          15859,
          76,
          69,
          311,
          118,
          14,
          10,
          31,
          19,
          30,
          424,
          15,
          3,
          180,
          133,
          248,
          121,
          168,
          193,
          228,
          322,
          1052,
          645,
          300,
          296,
          120,
          357,
          233,
          284,
          257,
          175
         ],
         "yaxis": "y"
        }
       ],
       "layout": {
        "height": 360,
        "legend": {
         "tracegroupgap": 0
        },
        "template": {
         "data": {
          "bar": [
           {
            "error_x": {
             "color": "#2a3f5f"
            },
            "error_y": {
             "color": "#2a3f5f"
            },
            "marker": {
             "line": {
              "color": "white",
              "width": 0.5
             },
             "pattern": {
              "fillmode": "overlay",
              "size": 10,
              "solidity": 0.2
             }
            },
            "type": "bar"
           }
          ],
          "barpolar": [
           {
            "marker": {
             "line": {
              "color": "white",
              "width": 0.5
             },
             "pattern": {
              "fillmode": "overlay",
              "size": 10,
              "solidity": 0.2
             }
            },
            "type": "barpolar"
           }
          ],
          "carpet": [
           {
            "aaxis": {
             "endlinecolor": "#2a3f5f",
             "gridcolor": "#C8D4E3",
             "linecolor": "#C8D4E3",
             "minorgridcolor": "#C8D4E3",
             "startlinecolor": "#2a3f5f"
            },
            "baxis": {
             "endlinecolor": "#2a3f5f",
             "gridcolor": "#C8D4E3",
             "linecolor": "#C8D4E3",
             "minorgridcolor": "#C8D4E3",
             "startlinecolor": "#2a3f5f"
            },
            "type": "carpet"
           }
          ],
          "choropleth": [
           {
            "colorbar": {
             "outlinewidth": 0,
             "ticks": ""
            },
            "type": "choropleth"
           }
          ],
          "contour": [
           {
            "colorbar": {
             "outlinewidth": 0,
             "ticks": ""
            },
            "colorscale": [
             [
              0,
              "#0d0887"
             ],
             [
              0.1111111111111111,
              "#46039f"
             ],
             [
              0.2222222222222222,
              "#7201a8"
             ],
             [
              0.3333333333333333,
              "#9c179e"
             ],
             [
              0.4444444444444444,
              "#bd3786"
             ],
             [
              0.5555555555555556,
              "#d8576b"
             ],
             [
              0.6666666666666666,
              "#ed7953"
             ],
             [
              0.7777777777777778,
              "#fb9f3a"
             ],
             [
              0.8888888888888888,
              "#fdca26"
             ],
             [
              1,
              "#f0f921"
             ]
            ],
            "type": "contour"
           }
          ],
          "contourcarpet": [
           {
            "colorbar": {
             "outlinewidth": 0,
             "ticks": ""
            },
            "type": "contourcarpet"
           }
          ],
          "heatmap": [
           {
            "colorbar": {
             "outlinewidth": 0,
             "ticks": ""
            },
            "colorscale": [
             [
              0,
              "#0d0887"
             ],
             [
              0.1111111111111111,
              "#46039f"
             ],
             [
              0.2222222222222222,
              "#7201a8"
             ],
             [
              0.3333333333333333,
              "#9c179e"
             ],
             [
              0.4444444444444444,
              "#bd3786"
             ],
             [
              0.5555555555555556,
              "#d8576b"
             ],
             [
              0.6666666666666666,
              "#ed7953"
             ],
             [
              0.7777777777777778,
              "#fb9f3a"
             ],
             [
              0.8888888888888888,
              "#fdca26"
             ],
             [
              1,
              "#f0f921"
             ]
            ],
            "type": "heatmap"
           }
          ],
          "heatmapgl": [
           {
            "colorbar": {
             "outlinewidth": 0,
             "ticks": ""
            },
            "colorscale": [
             [
              0,
              "#0d0887"
             ],
             [
              0.1111111111111111,
              "#46039f"
             ],
             [
              0.2222222222222222,
              "#7201a8"
             ],
             [
              0.3333333333333333,
              "#9c179e"
             ],
             [
              0.4444444444444444,
              "#bd3786"
             ],
             [
              0.5555555555555556,
              "#d8576b"
             ],
             [
              0.6666666666666666,
              "#ed7953"
             ],
             [
              0.7777777777777778,
              "#fb9f3a"
             ],
             [
              0.8888888888888888,
              "#fdca26"
             ],
             [
              1,
              "#f0f921"
             ]
            ],
            "type": "heatmapgl"
           }
          ],
          "histogram": [
           {
            "marker": {
             "pattern": {
              "fillmode": "overlay",
              "size": 10,
              "solidity": 0.2
             }
            },
            "type": "histogram"
           }
          ],
          "histogram2d": [
           {
            "colorbar": {
             "outlinewidth": 0,
             "ticks": ""
            },
            "colorscale": [
             [
              0,
              "#0d0887"
             ],
             [
              0.1111111111111111,
              "#46039f"
             ],
             [
              0.2222222222222222,
              "#7201a8"
             ],
             [
              0.3333333333333333,
              "#9c179e"
             ],
             [
              0.4444444444444444,
              "#bd3786"
             ],
             [
              0.5555555555555556,
              "#d8576b"
             ],
             [
              0.6666666666666666,
              "#ed7953"
             ],
             [
              0.7777777777777778,
              "#fb9f3a"
             ],
             [
              0.8888888888888888,
              "#fdca26"
             ],
             [
              1,
              "#f0f921"
             ]
            ],
            "type": "histogram2d"
           }
          ],
          "histogram2dcontour": [
           {
            "colorbar": {
             "outlinewidth": 0,
             "ticks": ""
            },
            "colorscale": [
             [
              0,
              "#0d0887"
             ],
             [
              0.1111111111111111,
              "#46039f"
             ],
             [
              0.2222222222222222,
              "#7201a8"
             ],
             [
              0.3333333333333333,
              "#9c179e"
             ],
             [
              0.4444444444444444,
              "#bd3786"
             ],
             [
              0.5555555555555556,
              "#d8576b"
             ],
             [
              0.6666666666666666,
              "#ed7953"
             ],
             [
              0.7777777777777778,
              "#fb9f3a"
             ],
             [
              0.8888888888888888,
              "#fdca26"
             ],
             [
              1,
              "#f0f921"
             ]
            ],
            "type": "histogram2dcontour"
           }
          ],
          "mesh3d": [
           {
            "colorbar": {
             "outlinewidth": 0,
             "ticks": ""
            },
            "type": "mesh3d"
           }
          ],
          "parcoords": [
           {
            "line": {
             "colorbar": {
              "outlinewidth": 0,
              "ticks": ""
             }
            },
            "type": "parcoords"
           }
          ],
          "pie": [
           {
            "automargin": true,
            "type": "pie"
           }
          ],
          "scatter": [
           {
            "fillpattern": {
             "fillmode": "overlay",
             "size": 10,
             "solidity": 0.2
            },
            "type": "scatter"
           }
          ],
          "scatter3d": [
           {
            "line": {
             "colorbar": {
              "outlinewidth": 0,
              "ticks": ""
             }
            },
            "marker": {
             "colorbar": {
              "outlinewidth": 0,
              "ticks": ""
             }
            },
            "type": "scatter3d"
           }
          ],
          "scattercarpet": [
           {
            "marker": {
             "colorbar": {
              "outlinewidth": 0,
              "ticks": ""
             }
            },
            "type": "scattercarpet"
           }
          ],
          "scattergeo": [
           {
            "marker": {
             "colorbar": {
              "outlinewidth": 0,
              "ticks": ""
             }
            },
            "type": "scattergeo"
           }
          ],
          "scattergl": [
           {
            "marker": {
             "colorbar": {
              "outlinewidth": 0,
              "ticks": ""
             }
            },
            "type": "scattergl"
           }
          ],
          "scattermapbox": [
           {
            "marker": {
             "colorbar": {
              "outlinewidth": 0,
              "ticks": ""
             }
            },
            "type": "scattermapbox"
           }
          ],
          "scatterpolar": [
           {
            "marker": {
             "colorbar": {
              "outlinewidth": 0,
              "ticks": ""
             }
            },
            "type": "scatterpolar"
           }
          ],
          "scatterpolargl": [
           {
            "marker": {
             "colorbar": {
              "outlinewidth": 0,
              "ticks": ""
             }
            },
            "type": "scatterpolargl"
           }
          ],
          "scatterternary": [
           {
            "marker": {
             "colorbar": {
              "outlinewidth": 0,
              "ticks": ""
             }
            },
            "type": "scatterternary"
           }
          ],
          "surface": [
           {
            "colorbar": {
             "outlinewidth": 0,
             "ticks": ""
            },
            "colorscale": [
             [
              0,
              "#0d0887"
             ],
             [
              0.1111111111111111,
              "#46039f"
             ],
             [
              0.2222222222222222,
              "#7201a8"
             ],
             [
              0.3333333333333333,
              "#9c179e"
             ],
             [
              0.4444444444444444,
              "#bd3786"
             ],
             [
              0.5555555555555556,
              "#d8576b"
             ],
             [
              0.6666666666666666,
              "#ed7953"
             ],
             [
              0.7777777777777778,
              "#fb9f3a"
             ],
             [
              0.8888888888888888,
              "#fdca26"
             ],
             [
              1,
              "#f0f921"
             ]
            ],
            "type": "surface"
           }
          ],
          "table": [
           {
            "cells": {
             "fill": {
              "color": "#EBF0F8"
             },
             "line": {
              "color": "white"
             }
            },
            "header": {
             "fill": {
              "color": "#C8D4E3"
             },
             "line": {
              "color": "white"
             }
            },
            "type": "table"
           }
          ]
         },
         "layout": {
          "annotationdefaults": {
           "arrowcolor": "#2a3f5f",
           "arrowhead": 0,
           "arrowwidth": 1
          },
          "autotypenumbers": "strict",
          "coloraxis": {
           "colorbar": {
            "outlinewidth": 0,
            "ticks": ""
           }
          },
          "colorscale": {
           "diverging": [
            [
             0,
             "#8e0152"
            ],
            [
             0.1,
             "#c51b7d"
            ],
            [
             0.2,
             "#de77ae"
            ],
            [
             0.3,
             "#f1b6da"
            ],
            [
             0.4,
             "#fde0ef"
            ],
            [
             0.5,
             "#f7f7f7"
            ],
            [
             0.6,
             "#e6f5d0"
            ],
            [
             0.7,
             "#b8e186"
            ],
            [
             0.8,
             "#7fbc41"
            ],
            [
             0.9,
             "#4d9221"
            ],
            [
             1,
             "#276419"
            ]
           ],
           "sequential": [
            [
             0,
             "#0d0887"
            ],
            [
             0.1111111111111111,
             "#46039f"
            ],
            [
             0.2222222222222222,
             "#7201a8"
            ],
            [
             0.3333333333333333,
             "#9c179e"
            ],
            [
             0.4444444444444444,
             "#bd3786"
            ],
            [
             0.5555555555555556,
             "#d8576b"
            ],
            [
             0.6666666666666666,
             "#ed7953"
            ],
            [
             0.7777777777777778,
             "#fb9f3a"
            ],
            [
             0.8888888888888888,
             "#fdca26"
            ],
            [
             1,
             "#f0f921"
            ]
           ],
           "sequentialminus": [
            [
             0,
             "#0d0887"
            ],
            [
             0.1111111111111111,
             "#46039f"
            ],
            [
             0.2222222222222222,
             "#7201a8"
            ],
            [
             0.3333333333333333,
             "#9c179e"
            ],
            [
             0.4444444444444444,
             "#bd3786"
            ],
            [
             0.5555555555555556,
             "#d8576b"
            ],
            [
             0.6666666666666666,
             "#ed7953"
            ],
            [
             0.7777777777777778,
             "#fb9f3a"
            ],
            [
             0.8888888888888888,
             "#fdca26"
            ],
            [
             1,
             "#f0f921"
            ]
           ]
          },
          "colorway": [
           "#636efa",
           "#EF553B",
           "#00cc96",
           "#ab63fa",
           "#FFA15A",
           "#19d3f3",
           "#FF6692",
           "#B6E880",
           "#FF97FF",
           "#FECB52"
          ],
          "font": {
           "color": "#2a3f5f"
          },
          "geo": {
           "bgcolor": "white",
           "lakecolor": "white",
           "landcolor": "white",
           "showlakes": true,
           "showland": true,
           "subunitcolor": "#C8D4E3"
          },
          "hoverlabel": {
           "align": "left"
          },
          "hovermode": "closest",
          "mapbox": {
           "style": "light"
          },
          "paper_bgcolor": "white",
          "plot_bgcolor": "white",
          "polar": {
           "angularaxis": {
            "gridcolor": "#EBF0F8",
            "linecolor": "#EBF0F8",
            "ticks": ""
           },
           "bgcolor": "white",
           "radialaxis": {
            "gridcolor": "#EBF0F8",
            "linecolor": "#EBF0F8",
            "ticks": ""
           }
          },
          "scene": {
           "xaxis": {
            "backgroundcolor": "white",
            "gridcolor": "#DFE8F3",
            "gridwidth": 2,
            "linecolor": "#EBF0F8",
            "showbackground": true,
            "ticks": "",
            "zerolinecolor": "#EBF0F8"
           },
           "yaxis": {
            "backgroundcolor": "white",
            "gridcolor": "#DFE8F3",
            "gridwidth": 2,
            "linecolor": "#EBF0F8",
            "showbackground": true,
            "ticks": "",
            "zerolinecolor": "#EBF0F8"
           },
           "zaxis": {
            "backgroundcolor": "white",
            "gridcolor": "#DFE8F3",
            "gridwidth": 2,
            "linecolor": "#EBF0F8",
            "showbackground": true,
            "ticks": "",
            "zerolinecolor": "#EBF0F8"
           }
          },
          "shapedefaults": {
           "line": {
            "color": "#2a3f5f"
           }
          },
          "ternary": {
           "aaxis": {
            "gridcolor": "#DFE8F3",
            "linecolor": "#A2B1C6",
            "ticks": ""
           },
           "baxis": {
            "gridcolor": "#DFE8F3",
            "linecolor": "#A2B1C6",
            "ticks": ""
           },
           "bgcolor": "white",
           "caxis": {
            "gridcolor": "#DFE8F3",
            "linecolor": "#A2B1C6",
            "ticks": ""
           }
          },
          "title": {
           "x": 0.05
          },
          "xaxis": {
           "automargin": true,
           "gridcolor": "#EBF0F8",
           "linecolor": "#EBF0F8",
           "ticks": "",
           "title": {
            "standoff": 15
           },
           "zerolinecolor": "#EBF0F8",
           "zerolinewidth": 2
          },
          "yaxis": {
           "automargin": true,
           "gridcolor": "#EBF0F8",
           "linecolor": "#EBF0F8",
           "ticks": "",
           "title": {
            "standoff": 15
           },
           "zerolinecolor": "#EBF0F8",
           "zerolinewidth": 2
          }
         }
        },
        "title": {
         "text": "Nombre de friches identifiées par mois (2020–2025)"
        },
        "xaxis": {
         "anchor": "y",
         "autorange": true,
         "domain": [
          0,
          1
         ],
         "range": [
          "2018-09-17 19:21:31.4856",
          "2025-08-15 04:38:28.5144"
         ],
         "title": {
          "text": "Date d'identification"
         },
         "type": "date"
        },
        "yaxis": {
         "anchor": "x",
         "autorange": true,
         "domain": [
          0,
          1
         ],
         "range": [
          -0.3466247018684537,
          4.546900500980303
         ],
         "title": {
          "text": "Nombre de friches (log)"
         },
         "type": "log"
        }
       }
      },
      "image/png": "[encoded data removed]",
      "text/html": [
       "<div>                            <div id=\"07152549-5aab-4029-bfbd-897dd235cefa\" class=\"plotly-graph-div\" style=\"height:525px; width:100%;\"></div>            <script type=\"text/javascript\">                require([\"plotly\"], function(Plotly) {                    window.PLOTLYENV=window.PLOTLYENV || {};                                    if (document.getElementById(\"07152549-5aab-4029-bfbd-897dd235cefa\")) {                    Plotly.newPlot(                        \"07152549-5aab-4029-bfbd-897dd235cefa\",                        [{\"hovertemplate\":\"Date=%{x}\\u003cbr\\u003eNombre de friches=%{y}\\u003cextra\\u003e\\u003c\\u002fextra\\u003e\",\"legendgroup\":\"\",\"line\":{\"color\":\"#636efa\",\"dash\":\"solid\"},\"marker\":{\"symbol\":\"circle\"},\"mode\":\"lines+markers\",\"name\":\"\",\"orientation\":\"v\",\"showlegend\":false,\"x\":[\"2019-02-01T00:00:00\",\"2019-03-01T00:00:00\",\"2019-09-01T00:00:00\",\"2019-10-01T00:00:00\",\"2019-11-01T00:00:00\",\"2019-12-01T00:00:00\",\"2020-01-01T00:00:00\",\"2020-06-01T00:00:00\",\"2020-07-01T00:00:00\",\"2020-09-01T00:00:00\",\"2020-10-01T00:00:00\",\"2020-11-01T00:00:00\",\"2020-12-01T00:00:00\",\"2021-01-01T00:00:00\",\"2021-02-01T00:00:00\",\"2021-05-01T00:00:00\",\"2021-06-01T00:00:00\",\"2021-10-01T00:00:00\",\"2021-12-01T00:00:00\",\"2022-01-01T00:00:00\",\"2022-02-01T00:00:00\",\"2022-03-01T00:00:00\",\"2022-04-01T00:00:00\",\"2022-05-01T00:00:00\",\"2022-06-01T00:00:00\",\"2022-07-01T00:00:00\",\"2022-08-01T00:00:00\",\"2022-09-01T00:00:00\",\"2022-10-01T00:00:00\",\"2022-11-01T00:00:00\",\"2022-12-01T00:00:00\",\"2023-01-01T00:00:00\",\"2023-02-01T00:00:00\",\"2023-03-01T00:00:00\",\"2023-04-01T00:00:00\",\"2023-05-01T00:00:00\",\"2023-06-01T00:00:00\",\"2023-07-01T00:00:00\",\"2023-08-01T00:00:00\",\"2023-09-01T00:00:00\",\"2023-10-01T00:00:00\",\"2023-11-01T00:00:00\",\"2023-12-01T00:00:00\",\"2024-01-01T00:00:00\",\"2024-02-01T00:00:00\",\"2024-03-01T00:00:00\",\"2024-04-01T00:00:00\",\"2024-05-01T00:00:00\",\"2024-06-01T00:00:00\",\"2024-07-01T00:00:00\",\"2024-08-01T00:00:00\",\"2024-09-01T00:00:00\",\"2024-10-01T00:00:00\",\"2024-11-01T00:00:00\",\"2024-12-01T00:00:00\",\"2025-01-01T00:00:00\",\"2025-02-01T00:00:00\",\"2025-03-01T00:00:00\",\"2025-04-01T00:00:00\"],\"xaxis\":\"x\",\"y\":[4,3,15,10,35,83,568,3,927,22,24,17,86,13,147,931,13,1,738,44,1,60,50,281,55,29,62,77,15859,76,69,311,118,14,10,31,19,30,424,15,3,180,133,248,121,168,193,228,322,1052,645,300,296,120,357,233,284,257,175],\"yaxis\":\"y\",\"type\":\"scatter\"}],                        {\"template\":{\"data\":{\"barpolar\":[{\"marker\":{\"line\":{\"color\":\"white\",\"width\":0.5},\"pattern\":{\"fillmode\":\"overlay\",\"size\":10,\"solidity\":0.2}},\"type\":\"barpolar\"}],\"bar\":[{\"error_x\":{\"color\":\"#2a3f5f\"},\"error_y\":{\"color\":\"#2a3f5f\"},\"marker\":{\"line\":{\"color\":\"white\",\"width\":0.5},\"pattern\":{\"fillmode\":\"overlay\",\"size\":10,\"solidity\":0.2}},\"type\":\"bar\"}],\"carpet\":[{\"aaxis\":{\"endlinecolor\":\"#2a3f5f\",\"gridcolor\":\"#C8D4E3\",\"linecolor\":\"#C8D4E3\",\"minorgridcolor\":\"#C8D4E3\",\"startlinecolor\":\"#2a3f5f\"},\"baxis\":{\"endlinecolor\":\"#2a3f5f\",\"gridcolor\":\"#C8D4E3\",\"linecolor\":\"#C8D4E3\",\"minorgridcolor\":\"#C8D4E3\",\"startlinecolor\":\"#2a3f5f\"},\"type\":\"carpet\"}],\"choropleth\":[{\"colorbar\":{\"outlinewidth\":0,\"ticks\":\"\"},\"type\":\"choropleth\"}],\"contourcarpet\":[{\"colorbar\":{\"outlinewidth\":0,\"ticks\":\"\"},\"type\":\"contourcarpet\"}],\"contour\":[{\"colorbar\":{\"outlinewidth\":0,\"ticks\":\"\"},\"colorscale\":[[0.0,\"#0d0887\"],[0.1111111111111111,\"#46039f\"],[0.2222222222222222,\"#7201a8\"],[0.3333333333333333,\"#9c179e\"],[0.4444444444444444,\"#bd3786\"],[0.5555555555555556,\"#d8576b\"],[0.6666666666666666,\"#ed7953\"],[0.7777777777777778,\"#fb9f3a\"],[0.8888888888888888,\"#fdca26\"],[1.0,\"#f0f921\"]],\"type\":\"contour\"}],\"heatmapgl\":[{\"colorbar\":{\"outlinewidth\":0,\"ticks\":\"\"},\"colorscale\":[[0.0,\"#0d0887\"],[0.1111111111111111,\"#46039f\"],[0.2222222222222222,\"#7201a8\"],[0.3333333333333333,\"#9c179e\"],[0.4444444444444444,\"#bd3786\"],[0.5555555555555556,\"#d8576b\"],[0.6666666666666666,\"#ed7953\"],[0.7777777777777778,\"#fb9f3a\"],[0.8888888888888888,\"#fdca26\"],[1.0,\"#f0f921\"]],\"type\":\"heatmapgl\"}],\"heatmap\":[{\"colorbar\":{\"outlinewidth\":0,\"ticks\":\"\"},\"colorscale\":[[0.0,\"#0d0887\"],[0.1111111111111111,\"#46039f\"],[0.2222222222222222,\"#7201a8\"],[0.3333333333333333,\"#9c179e\"],[0.4444444444444444,\"#bd3786\"],[0.5555555555555556,\"#d8576b\"],[0.6666666666666666,\"#ed7953\"],[0.7777777777777778,\"#fb9f3a\"],[0.8888888888888888,\"#fdca26\"],[1.0,\"#f0f921\"]],\"type\":\"heatmap\"}],\"histogram2dcontour\":[{\"colorbar\":{\"outlinewidth\":0,\"ticks\":\"\"},\"colorscale\":[[0.0,\"#0d0887\"],[0.1111111111111111,\"#46039f\"],[0.2222222222222222,\"#7201a8\"],[0.3333333333333333,\"#9c179e\"],[0.4444444444444444,\"#bd3786\"],[0.5555555555555556,\"#d8576b\"],[0.6666666666666666,\"#ed7953\"],[0.7777777777777778,\"#fb9f3a\"],[0.8888888888888888,\"#fdca26\"],[1.0,\"#f0f921\"]],\"type\":\"histogram2dcontour\"}],\"histogram2d\":[{\"colorbar\":{\"outlinewidth\":0,\"ticks\":\"\"},\"colorscale\":[[0.0,\"#0d0887\"],[0.1111111111111111,\"#46039f\"],[0.2222222222222222,\"#7201a8\"],[0.3333333333333333,\"#9c179e\"],[0.4444444444444444,\"#bd3786\"],[0.5555555555555556,\"#d8576b\"],[0.6666666666666666,\"#ed7953\"],[0.7777777777777778,\"#fb9f3a\"],[0.8888888888888888,\"#fdca26\"],[1.0,\"#f0f921\"]],\"type\":\"histogram2d\"}],\"histogram\":[{\"marker\":{\"pattern\":{\"fillmode\":\"overlay\",\"size\":10,\"solidity\":0.2}},\"type\":\"histogram\"}],\"mesh3d\":[{\"colorbar\":{\"outlinewidth\":0,\"ticks\":\"\"},\"type\":\"mesh3d\"}],\"parcoords\":[{\"line\":{\"colorbar\":{\"outlinewidth\":0,\"ticks\":\"\"}},\"type\":\"parcoords\"}],\"pie\":[{\"automargin\":true,\"type\":\"pie\"}],\"scatter3d\":[{\"line\":{\"colorbar\":{\"outlinewidth\":0,\"ticks\":\"\"}},\"marker\":{\"colorbar\":{\"outlinewidth\":0,\"ticks\":\"\"}},\"type\":\"scatter3d\"}],\"scattercarpet\":[{\"marker\":{\"colorbar\":{\"outlinewidth\":0,\"ticks\":\"\"}},\"type\":\"scattercarpet\"}],\"scattergeo\":[{\"marker\":{\"colorbar\":{\"outlinewidth\":0,\"ticks\":\"\"}},\"type\":\"scattergeo\"}],\"scattergl\":[{\"marker\":{\"colorbar\":{\"outlinewidth\":0,\"ticks\":\"\"}},\"type\":\"scattergl\"}],\"scattermapbox\":[{\"marker\":{\"colorbar\":{\"outlinewidth\":0,\"ticks\":\"\"}},\"type\":\"scattermapbox\"}],\"scatterpolargl\":[{\"marker\":{\"colorbar\":{\"outlinewidth\":0,\"ticks\":\"\"}},\"type\":\"scatterpolargl\"}],\"scatterpolar\":[{\"marker\":{\"colorbar\":{\"outlinewidth\":0,\"ticks\":\"\"}},\"type\":\"scatterpolar\"}],\"scatter\":[{\"fillpattern\":{\"fillmode\":\"overlay\",\"size\":10,\"solidity\":0.2},\"type\":\"scatter\"}],\"scatterternary\":[{\"marker\":{\"colorbar\":{\"outlinewidth\":0,\"ticks\":\"\"}},\"type\":\"scatterternary\"}],\"surface\":[{\"colorbar\":{\"outlinewidth\":0,\"ticks\":\"\"},\"colorscale\":[[0.0,\"#0d0887\"],[0.1111111111111111,\"#46039f\"],[0.2222222222222222,\"#7201a8\"],[0.3333333333333333,\"#9c179e\"],[0.4444444444444444,\"#bd3786\"],[0.5555555555555556,\"#d8576b\"],[0.6666666666666666,\"#ed7953\"],[0.7777777777777778,\"#fb9f3a\"],[0.8888888888888888,\"#fdca26\"],[1.0,\"#f0f921\"]],\"type\":\"surface\"}],\"table\":[{\"cells\":{\"fill\":{\"color\":\"#EBF0F8\"},\"line\":{\"color\":\"white\"}},\"header\":{\"fill\":{\"color\":\"#C8D4E3\"},\"line\":{\"color\":\"white\"}},\"type\":\"table\"}]},\"layout\":{\"annotationdefaults\":{\"arrowcolor\":\"#2a3f5f\",\"arrowhead\":0,\"arrowwidth\":1},\"autotypenumbers\":\"strict\",\"coloraxis\":{\"colorbar\":{\"outlinewidth\":0,\"ticks\":\"\"}},\"colorscale\":{\"diverging\":[[0,\"#8e0152\"],[0.1,\"#c51b7d\"],[0.2,\"#de77ae\"],[0.3,\"#f1b6da\"],[0.4,\"#fde0ef\"],[0.5,\"#f7f7f7\"],[0.6,\"#e6f5d0\"],[0.7,\"#b8e186\"],[0.8,\"#7fbc41\"],[0.9,\"#4d9221\"],[1,\"#276419\"]],\"sequential\":[[0.0,\"#0d0887\"],[0.1111111111111111,\"#46039f\"],[0.2222222222222222,\"#7201a8\"],[0.3333333333333333,\"#9c179e\"],[0.4444444444444444,\"#bd3786\"],[0.5555555555555556,\"#d8576b\"],[0.6666666666666666,\"#ed7953\"],[0.7777777777777778,\"#fb9f3a\"],[0.8888888888888888,\"#fdca26\"],[1.0,\"#f0f921\"]],\"sequentialminus\":[[0.0,\"#0d0887\"],[0.1111111111111111,\"#46039f\"],[0.2222222222222222,\"#7201a8\"],[0.3333333333333333,\"#9c179e\"],[0.4444444444444444,\"#bd3786\"],[0.5555555555555556,\"#d8576b\"],[0.6666666666666666,\"#ed7953\"],[0.7777777777777778,\"#fb9f3a\"],[0.8888888888888888,\"#fdca26\"],[1.0,\"#f0f921\"]]},\"colorway\":[\"#636efa\",\"#EF553B\",\"#00cc96\",\"#ab63fa\",\"#FFA15A\",\"#19d3f3\",\"#FF6692\",\"#B6E880\",\"#FF97FF\",\"#FECB52\"],\"font\":{\"color\":\"#2a3f5f\"},\"geo\":{\"bgcolor\":\"white\",\"lakecolor\":\"white\",\"landcolor\":\"white\",\"showlakes\":true,\"showland\":true,\"subunitcolor\":\"#C8D4E3\"},\"hoverlabel\":{\"align\":\"left\"},\"hovermode\":\"closest\",\"mapbox\":{\"style\":\"light\"},\"paper_bgcolor\":\"white\",\"plot_bgcolor\":\"white\",\"polar\":{\"angularaxis\":{\"gridcolor\":\"#EBF0F8\",\"linecolor\":\"#EBF0F8\",\"ticks\":\"\"},\"bgcolor\":\"white\",\"radialaxis\":{\"gridcolor\":\"#EBF0F8\",\"linecolor\":\"#EBF0F8\",\"ticks\":\"\"}},\"scene\":{\"xaxis\":{\"backgroundcolor\":\"white\",\"gridcolor\":\"#DFE8F3\",\"gridwidth\":2,\"linecolor\":\"#EBF0F8\",\"showbackground\":true,\"ticks\":\"\",\"zerolinecolor\":\"#EBF0F8\"},\"yaxis\":{\"backgroundcolor\":\"white\",\"gridcolor\":\"#DFE8F3\",\"gridwidth\":2,\"linecolor\":\"#EBF0F8\",\"showbackground\":true,\"ticks\":\"\",\"zerolinecolor\":\"#EBF0F8\"},\"zaxis\":{\"backgroundcolor\":\"white\",\"gridcolor\":\"#DFE8F3\",\"gridwidth\":2,\"linecolor\":\"#EBF0F8\",\"showbackground\":true,\"ticks\":\"\",\"zerolinecolor\":\"#EBF0F8\"}},\"shapedefaults\":{\"line\":{\"color\":\"#2a3f5f\"}},\"ternary\":{\"aaxis\":{\"gridcolor\":\"#DFE8F3\",\"linecolor\":\"#A2B1C6\",\"ticks\":\"\"},\"baxis\":{\"gridcolor\":\"#DFE8F3\",\"linecolor\":\"#A2B1C6\",\"ticks\":\"\"},\"bgcolor\":\"white\",\"caxis\":{\"gridcolor\":\"#DFE8F3\",\"linecolor\":\"#A2B1C6\",\"ticks\":\"\"}},\"title\":{\"x\":0.05},\"xaxis\":{\"automargin\":true,\"gridcolor\":\"#EBF0F8\",\"linecolor\":\"#EBF0F8\",\"ticks\":\"\",\"title\":{\"standoff\":15},\"zerolinecolor\":\"#EBF0F8\",\"zerolinewidth\":2},\"yaxis\":{\"automargin\":true,\"gridcolor\":\"#EBF0F8\",\"linecolor\":\"#EBF0F8\",\"ticks\":\"\",\"title\":{\"standoff\":15},\"zerolinecolor\":\"#EBF0F8\",\"zerolinewidth\":2}}},\"xaxis\":{\"anchor\":\"y\",\"domain\":[0.0,1.0],\"title\":{\"text\":\"Date d'identification\"}},\"yaxis\":{\"anchor\":\"x\",\"domain\":[0.0,1.0],\"title\":{\"text\":\"Nombre de friches (log)\"},\"type\":\"log\"},\"legend\":{\"tracegroupgap\":0},\"title\":{\"text\":\"Nombre de friches identifi\\u00e9es par mois (2020\\u20132025)\"}},                        {\"responsive\": true}                    ).then(function(){\n",
       "                            \n",
       "var gd = document.getElementById('07152549-5aab-4029-bfbd-897dd235cefa');\n",
       "var x = new MutationObserver(function (mutations, observer) {{\n",
       "        var display = window.getComputedStyle(gd).display;\n",
       "        if (!display || display === 'none') {{\n",
       "            console.log([gd, 'removed!']);\n",
       "            Plotly.purge(gd);\n",
       "            observer.disconnect();\n",
       "        }}\n",
       "}});\n",
       "\n",
       "// Listen for the removal of the full notebook cells\n",
       "var notebookContainer = gd.closest('#notebook-container');\n",
       "if (notebookContainer) {{\n",
       "    x.observe(notebookContainer, {childList: true});\n",
       "}}\n",
       "\n",
       "// Listen for the clearing of the current output cell\n",
       "var outputEl = gd.closest('.output');\n",
       "if (outputEl) {{\n",
       "    x.observe(outputEl, {childList: true});\n",
       "}}\n",
       "\n",
       "                        })                };                });            </script>        </div>"
      ]
     },
     "metadata": {},
     "output_type": "display_data"
    }
   ],
   "source": [
    "import plotly.express as px\n",
    "\n",
    "# Filtrage sur les dates entre 2019 et 2025\n",
    "mask_years = df[\"site_identif_date\"].dt.year.between(2019, 2025)\n",
    "df_filtered = df.loc[mask_years].copy()\n",
    "\n",
    "# Agrégation par mois\n",
    "df_filtered['periode'] = df_filtered['site_identif_date'].dt.to_period('M').dt.to_timestamp()\n",
    "\n",
    "# Comptage par mois\n",
    "agg = df_filtered['periode'].value_counts().sort_index().reset_index()\n",
    "agg.columns = ['Date', 'Nombre de friches']\n",
    "\n",
    "# Plot avec échelle log\n",
    "fig = px.line(\n",
    "    agg,\n",
    "    x='Date',\n",
    "    y='Nombre de friches',\n",
    "    title='Nombre de friches identifiées par mois (2020–2025)',\n",
    "    markers=True\n",
    ")\n",
    "\n",
    "fig.update_layout(\n",
    "    xaxis_title=\"Date d'identification\",\n",
    "    yaxis_title=\"Nombre de friches (log)\",\n",
    "    yaxis_type='log',\n",
    "    template=\"plotly_white\"\n",
    ")\n",
    "\n",
    "fig.show()"
   ]
  },
  {
   "cell_type": "markdown",
   "id": "47039051-3ec8-4d11-b362-d97922303b6e",
   "metadata": {},
   "source": [
    "**Commentaire:** Il y a une activité importante en 2022 avec un ajout de 15859 lignes,  les 5 plus  grands fournisseurs de données sur cette période sont:\n",
    "| Description                                               | Nombre |\n",
    "|-----------------------------------------------------------|--------|\n",
    "| Site Basias ou Basol non vérifié par le Cerema            | 12906  |\n",
    "| Friche étude Ademe 2021                                   |   925  |\n",
    "| Site Basias ou Basol vérifié par le Cerema en 2020        |   845  |\n",
    "| Friche étude Ademe 2021, intéressante pour du PV au sol   |   698  |\n"
   ]
  },
  {
   "cell_type": "markdown",
   "id": "595a1ee3-4083-404f-a25a-40da3a2ea257",
   "metadata": {},
   "source": [
    "## 6) source des donnees"
   ]
  },
  {
   "cell_type": "markdown",
   "id": "5c0c3003-28bb-4b00-a5bb-78b2acd8b17e",
   "metadata": {},
   "source": [
    "dans cette partie nous nous interesserons aux sources des données \n",
    "|colonne              |               Description de la colonne|\n",
    "|---------------------|-------------------------------------------------|\n",
    "|site_url\t          |URL du site, ou de la fiche BASOL ou BASIAS|\n",
    "|site_ademe_url\t      |URL de la fiche lorsque le site a fait l'objet d'une intervention de l'ADEME|\n",
    "|site_projet_url\t  |Lien vers un projet associé (rare)|\n",
    "|source_nom\t          |Nom de la source ayant permis l’identification du site|\n",
    "|source_url\t          |Lien vers la source (ex. data.gouv.fr, etc.)|\n",
    "|source_producteur\t  |Nom de la structure ou auteur|\n",
    "|source_contact\t      |Email de contact de la donnée|\n",
    "|sol_depollution_fiche|Lien vers une fiche BRGM (pollution)|"
   ]
  },
  {
   "cell_type": "code",
   "execution_count": 153,
   "id": "93464825-f49e-4a2e-b0b2-603a92e423d4",
   "metadata": {
    "jupyter": {
     "source_hidden": true
    }
   },
   "outputs": [
    {
     "data": {
      "text/html": [
       "<div>\n",
       "<style scoped>\n",
       "    .dataframe tbody tr th:only-of-type {\n",
       "        vertical-align: middle;\n",
       "    }\n",
       "\n",
       "    .dataframe tbody tr th {\n",
       "        vertical-align: top;\n",
       "    }\n",
       "\n",
       "    .dataframe thead th {\n",
       "        text-align: right;\n",
       "    }\n",
       "</style>\n",
       "<table border=\"1\" class=\"dataframe\">\n",
       "  <thead>\n",
       "    <tr style=\"text-align: right;\">\n",
       "      <th></th>\n",
       "      <th>Colonne</th>\n",
       "      <th>Valeurs non nulles</th>\n",
       "      <th>Complétion (%)</th>\n",
       "      <th>Total</th>\n",
       "    </tr>\n",
       "  </thead>\n",
       "  <tbody>\n",
       "    <tr>\n",
       "      <th>0</th>\n",
       "      <td>source_nom</td>\n",
       "      <td>28115</td>\n",
       "      <td>100.00</td>\n",
       "      <td>28115</td>\n",
       "    </tr>\n",
       "    <tr>\n",
       "      <th>1</th>\n",
       "      <td>source_producteur</td>\n",
       "      <td>28115</td>\n",
       "      <td>100.00</td>\n",
       "      <td>28115</td>\n",
       "    </tr>\n",
       "    <tr>\n",
       "      <th>2</th>\n",
       "      <td>source_url</td>\n",
       "      <td>21475</td>\n",
       "      <td>76.38</td>\n",
       "      <td>28115</td>\n",
       "    </tr>\n",
       "    <tr>\n",
       "      <th>3</th>\n",
       "      <td>site_url</td>\n",
       "      <td>16995</td>\n",
       "      <td>60.45</td>\n",
       "      <td>28115</td>\n",
       "    </tr>\n",
       "    <tr>\n",
       "      <th>4</th>\n",
       "      <td>source_contact</td>\n",
       "      <td>2336</td>\n",
       "      <td>8.31</td>\n",
       "      <td>28115</td>\n",
       "    </tr>\n",
       "    <tr>\n",
       "      <th>5</th>\n",
       "      <td>sol_depollution_fiche</td>\n",
       "      <td>3</td>\n",
       "      <td>0.01</td>\n",
       "      <td>28115</td>\n",
       "    </tr>\n",
       "    <tr>\n",
       "      <th>6</th>\n",
       "      <td>site_ademe_url</td>\n",
       "      <td>0</td>\n",
       "      <td>0.00</td>\n",
       "      <td>28115</td>\n",
       "    </tr>\n",
       "    <tr>\n",
       "      <th>7</th>\n",
       "      <td>site_projet_url</td>\n",
       "      <td>0</td>\n",
       "      <td>0.00</td>\n",
       "      <td>28115</td>\n",
       "    </tr>\n",
       "  </tbody>\n",
       "</table>\n",
       "</div>"
      ],
      "text/plain": [
       "                 Colonne  Valeurs non nulles  Complétion (%)  Total\n",
       "0             source_nom               28115          100.00  28115\n",
       "1      source_producteur               28115          100.00  28115\n",
       "2             source_url               21475           76.38  28115\n",
       "3               site_url               16995           60.45  28115\n",
       "4         source_contact                2336            8.31  28115\n",
       "5  sol_depollution_fiche                   3            0.01  28115\n",
       "6         site_ademe_url                   0            0.00  28115\n",
       "7        site_projet_url                   0            0.00  28115"
      ]
     },
     "execution_count": 153,
     "metadata": {},
     "output_type": "execute_result"
    }
   ],
   "source": [
    "# Colonnes liées aux sources et URLs\n",
    "colonnes_sources = [\n",
    "    'site_url',\n",
    "    'site_ademe_url',\n",
    "    'site_projet_url',\n",
    "    'source_nom',\n",
    "    'source_url',\n",
    "    'source_producteur',\n",
    "    'source_contact',\n",
    "    'sol_depollution_fiche'\n",
    "]\n",
    "total = len(df)\n",
    "\n",
    "# Audit qualité\n",
    "audit = []\n",
    "for col in colonnes_sources:\n",
    "    non_na = df[col].notna().sum()\n",
    "    pct = (non_na / total * 100) if total > 0 else 0\n",
    "    audit.append({\n",
    "        'Colonne': col,\n",
    "        'Valeurs non nulles': non_na,\n",
    "        'Complétion (%)': round(pct, 2),\n",
    "        'Total': total\n",
    "    })\n",
    "\n",
    "df_audit_sources = pd.DataFrame(audit).sort_values(by='Complétion (%)', ascending=False).reset_index(drop=True)\n",
    "df_audit_sources"
   ]
  },
  {
   "cell_type": "code",
   "execution_count": 154,
   "id": "fe7cf22f-7b15-483b-b437-8545c43f9de9",
   "metadata": {},
   "outputs": [
    {
     "data": {
      "text/plain": [
       "source_nom\n",
       "Site Basias ou Basol non vérifié par le Cerema                             12906\n",
       "EPF Normandie                                                               4170\n",
       "Appel à projet Fonds Friches                                                2998\n",
       "Grand Angoulême                                                             2185\n",
       "EPF Grand Est                                                               1460\n",
       "Friche étude Ademe 2021                                                      925\n",
       "Site Basias ou Basol vérifié par le Cerema en 2020                           845\n",
       "Friche étude Ademe 2021, intéressante pour du PV au sol                      698\n",
       "DDT de la Somme                                                              493\n",
       "urban vitaliz                                                                230\n",
       "DDT de l'Ain                                                                 207\n",
       "Institut Paris Région                                                        163\n",
       "Communauté de Communes du Val de Gray                                        115\n",
       "Région Occitanie                                                             109\n",
       "ADUGA (Grand Amiénois)                                                       102\n",
       "DDT de la Loire                                                              101\n",
       "DDT des Ardennes                                                              76\n",
       "Cerema AO Ademe                                                               76\n",
       "Sud Foncier Eco                                                               55\n",
       "DDT du Loiret                                                                 48\n",
       "Contributeur Cerema                                                           41\n",
       "Contribution utilisateur                                                      30\n",
       "DDT de la Haute-Marne                                                         29\n",
       "Commune de Fougères                                                           21\n",
       "DDT du Cantal                                                                 19\n",
       "Ville d'Ajaccio                                                               11\n",
       "Caux Seine agglo                                                               1\n",
       "Agence d'Urbanisme de Développement et prospective de la Région Rémoise        1\n",
       "Name: count, dtype: int64"
      ]
     },
     "execution_count": 154,
     "metadata": {},
     "output_type": "execute_result"
    }
   ],
   "source": [
    "df['source_nom'].value_counts(dropna=False)"
   ]
  },
  {
   "cell_type": "code",
   "execution_count": 155,
   "id": "04369da2-51c1-4786-99dc-578a1c250cee",
   "metadata": {
    "jupyter": {
     "source_hidden": true
    }
   },
   "outputs": [
    {
     "data": {
      "text/plain": [
       "source_nom_simpl\n",
       "Basias    13751\n",
       "Autre     12624\n",
       "Ademe      1623\n",
       "Cerema      117\n",
       "Name: count, dtype: int64"
      ]
     },
     "execution_count": 155,
     "metadata": {},
     "output_type": "execute_result"
    }
   ],
   "source": [
    "df['source_nom_simpl'] = df['source_nom'].str.extract(\n",
    "    r\"(Basias|Basol|Ademe|Cerema)\", expand=False\n",
    ").fillna(\"Autre\")\n",
    "df['source_nom_simpl'].value_counts()\n"
   ]
  },
  {
   "cell_type": "markdown",
   "id": "91a1c05c-ec3b-4256-ac16-271a71b851d2",
   "metadata": {},
   "source": [
    "⚠️ essayer de chercher les données ici pour la pollution des sols:\n",
    "https://www.georisques.gouv.fr/consulter-les-dossiers-thematiques/dossier-expert-sur-les-sites-et-sols-potentiellement-pollues"
   ]
  },
  {
   "cell_type": "code",
   "execution_count": 162,
   "id": "02cd49c7-1dff-4480-abe5-d9276390fefb",
   "metadata": {
    "jupyter": {
     "source_hidden": true
    }
   },
   "outputs": [
    {
     "data": {
      "text/plain": [
       "site_url\n",
       "https://www.suippes.fr/9143-2/                                                                                                                                                                              14\n",
       "https://fiches-risques.brgm.fr/georisques/basias-detaillee/LRO6602417                                                                                                                                       13\n",
       "https://fiches-risques.brgm.fr/georisques/basias-detaillee/NA                                                                                                                                               10\n",
       "https://www.google.com/maps/@45.5922396,0.1766609,3a,72.8y,317.09h,84.27t/data=!3m6!1e1!3m4!1smpDybbJGI3Por8GFLoUS9Q!2e0!7i13312!8i6656?authuser=0&entry=ttu                                                 3\n",
       "https://www.google.com/maps/@45.6578379,0.1552262,3a,49y,83.63h,93.82t/data=!3m6!1e1!3m4!1sgj9hSYBAmVZzjbX3ozeMvQ!2e0!7i16384!8i8192?authuser=0&entry=ttu                                                    2\n",
       "https://www.google.fr/maps/@45.6226646,0.1117321,3a,43.5y,183.25h,91.92t/data=!3m6!1e1!3m4!1suLQjYtNhFDF6wBT63Wy1Hg!2e0!7i16384!8i8192?hl=fr&entry=ttu                                                       2\n",
       "https://www.google.com/maps/@45.6181517,0.1728637,3a,75y,54.89h,93.6t/data=!3m6!1e1!3m4!1sLw2dlhxMwSiYrK0HtkA4pg!2e0!7i16384!8i8192?authuser=0&coh=205409&entry=ttu                                          2\n",
       "https://www.google.fr/maps/@45.6149017,0.0096141,3a,83.3y,67.58h,93.9t/data=!3m6!1e1!3m4!1sANAJfOcFqVK5BozS_sL2hw!2e0!7i16384!8i8192?hl=fr&entry=ttu                                                         2\n",
       "https://fiches-risques.brgm.fr/georisques/basias-detaillee/CHA5105200                                                                                                                                        2\n",
       "https://fiches-risques.brgm.fr/georisques/infosols/instruction/SSP000070501                                                                                                                                  2\n",
       "https://www.google.com/maps/@45.6297564,0.1555811,3a,75y,253.99h,82.56t/data=!3m7!1e1!3m5!1sr2XzeF_UtU9sVrGHi_vNAQ!2e0!5s20190801T000000!7i16384!8i8192?authuser=0&coh=205409&entry=ttu                      2\n",
       "https://www.google.fr/maps/@45.6790773,0.0522896,3a,75y,15.87h,92.2t/data=!3m6!1e1!3m4!1sbiQmhD22bFSZUBC1gGWUWA!2e0!7i16384!8i8192?hl=fr&entry=ttu                                                           2\n",
       "https://www.google.com/maps/@45.6163808,0.3189464,3a,68.2y,173.12h,78.9t/data=!3m6!1e1!3m4!1sHoRLPqgthWXzFtnfafYulA!2e0!7i16384!8i8192?authuser=0&entry=ttu                                                  2\n",
       "https://fiches-risques.brgm.fr/georisques/basias-detaillee/CHA5105637                                                                                                                                        2\n",
       "https://www.google.fr/maps/@45.6558652,0.1613802,3a,60y,154.64h,105.5t/data=!3m6!1e1!3m4!1soUThElho3aLWtEFe_jRWOw!2e0!7i16384!8i8192?hl=fr&entry=ttu                                                         2\n",
       "https://www.google.fr/maps/@45.7000145,0.1813363,3a,60y,79.32h,90.7t/data=!3m6!1e1!3m4!1sb4rtWdqfQePi8VyjFgzVeg!2e0!7i16384!8i8192?hl=fr&entry=ttu                                                           2\n",
       "https://www.google.fr/maps/@45.6671244,0.1214541,3a,75y,48.58h,85.61t/data=!3m6!1e1!3m4!1sstcAD2luUkiZfivLXdm6RA!2e0!7i16384!8i8192?hl=fr&coh=205409&entry=ttu&g_ep=EgoyMDI0MDgyNi4wIKXMDSoASAFQAw%3D%3D     2\n",
       "https://www.google.fr/maps/@45.6239636,0.05395,3a,75y,239.06h,90.81t/data=!3m7!1e1!3m5!1sHXBKW5C0P7VF05I-5MWUBg!2e0!5s20230301T000000!7i16384!8i8192?hl=fr&entry=ttu                                         2\n",
       "https://www.google.fr/maps/@45.663216,0.1926557,3a,75y,331.89h,91.29t/data=!3m6!1e1!3m4!1sJ5WkyG4k-A8oo8_2T5kISQ!2e0!7i16384!8i8192?hl=fr&coh=205409&entry=ttu                                               2\n",
       "https://www.google.fr/maps/@45.6774653,0.23101,3a,75y,174.77h,100.73t/data=!3m6!1e1!3m4!1sw_N2EvxQCWDyYgxGmI2tJQ!2e0!7i16384!8i8192?hl=fr&coh=205409&entry=ttu&g_ep=EgoyMDI0MDgyMS4wIKXMDSoASAFQAw%3D%3D     2\n",
       "https://www.google.fr/maps/@45.6671275,0.1817073,3a,75y,81.4h,99.59t/data=!3m6!1e1!3m4!1sfVRnraQVjPrQkyL7t1a16A!2e0!7i16384!8i8192?hl=fr&entry=ttu                                                           2\n",
       "https://fiches-risques.brgm.fr/georisques/casias/SSP4056145                                                                                                                                                  2\n",
       "https://www.google.fr/maps/@45.7413103,0.0791803,3a,75y,17.41h,83.5t/data=!3m6!1e1!3m4!1srXuSBzmVuRe3fugaOAoAMg!2e0!7i16384!8i8192?hl=fr&entry=ttu                                                           2\n",
       "https://www.google.com/maps/@45.673953,0.1919992,3a,75y,85.45h,83.75t/data=!3m6!1e1!3m4!1sOAXZSRVtrwa8Q25H7d4NMg!2e0!7i16384!8i8192?authuser=0&entry=ttu                                                     2\n",
       "Name: count, dtype: int64"
      ]
     },
     "execution_count": 162,
     "metadata": {},
     "output_type": "execute_result"
    }
   ],
   "source": [
    "df['site_url'].value_counts().loc[lambda x: x > 1]"
   ]
  },
  {
   "cell_type": "markdown",
   "id": "95078df7-845d-4c08-af46-7aa1231de287",
   "metadata": {},
   "source": [
    " # Pollution\n",
    " Champ Champ Description Description  \n",
    " sol_pollution_annee Année de constation de la pollution dans BASOL  \n",
    " sol_pollution_existe Existence de pollution du sol  \n",
    " sol_pollution_origine Origine de la pollution du sol  \n",
    " sol_pollution_commentaire Commentaire décrivant la pollution, le cas échéant  \n",
    " sol_depollution_fiche Lien vers la fiche de dépollution si elle est présente dans  "
   ]
  },
  {
   "cell_type": "markdown",
   "id": "2ba4330f-1c27-4381-b3d5-6447028bdf1b",
   "metadata": {},
   "source": [
    "## Analyse  de la qualité du Dataset avec des \"colonnes obligatoires\""
   ]
  },
  {
   "cell_type": "code",
   "execution_count": 24,
   "id": "c42816b2-f0eb-4e54-9176-82005ca0cabc",
   "metadata": {
    "jupyter": {
     "source_hidden": true
    },
    "scrolled": true
   },
   "outputs": [
    {
     "data": {
      "text/html": [
       "<div>\n",
       "<style scoped>\n",
       "    .dataframe tbody tr th:only-of-type {\n",
       "        vertical-align: middle;\n",
       "    }\n",
       "\n",
       "    .dataframe tbody tr th {\n",
       "        vertical-align: top;\n",
       "    }\n",
       "\n",
       "    .dataframe thead th {\n",
       "        text-align: right;\n",
       "    }\n",
       "</style>\n",
       "<table border=\"1\" class=\"dataframe\">\n",
       "  <thead>\n",
       "    <tr style=\"text-align: right;\">\n",
       "      <th></th>\n",
       "      <th>site_id</th>\n",
       "      <th>site_nom</th>\n",
       "      <th>site_type</th>\n",
       "      <th>site_identif_date</th>\n",
       "      <th>site_actu_date</th>\n",
       "      <th>comm_nom</th>\n",
       "      <th>comm_insee</th>\n",
       "      <th>source_nom</th>\n",
       "      <th>geompoint</th>\n",
       "    </tr>\n",
       "  </thead>\n",
       "  <tbody>\n",
       "    <tr>\n",
       "      <th>0</th>\n",
       "      <td>61214_34555</td>\n",
       "      <td>rue de la garenne</td>\n",
       "      <td>friche d'habitat</td>\n",
       "      <td>2025-03-05</td>\n",
       "      <td>2025-03-05</td>\n",
       "      <td>L'Aigle</td>\n",
       "      <td>61214</td>\n",
       "      <td>EPF Normandie</td>\n",
       "      <td>POINT (0.6256966 48.76207)</td>\n",
       "    </tr>\n",
       "    <tr>\n",
       "      <th>1</th>\n",
       "      <td>57097_23384</td>\n",
       "      <td>Sotralec</td>\n",
       "      <td>friche industrielle</td>\n",
       "      <td>2022-01-01</td>\n",
       "      <td>2022-01-01</td>\n",
       "      <td>BOULAY-MOSELLE</td>\n",
       "      <td>57097</td>\n",
       "      <td>EPF Grand Est</td>\n",
       "      <td>POINT (6.49563 49.17622)</td>\n",
       "    </tr>\n",
       "    <tr>\n",
       "      <th>2</th>\n",
       "      <td>93027_35701</td>\n",
       "      <td>93027_35701</td>\n",
       "      <td>autre</td>\n",
       "      <td>2025-04-07</td>\n",
       "      <td>2025-04-07</td>\n",
       "      <td>La Courneuve</td>\n",
       "      <td>93027</td>\n",
       "      <td>Institut Paris Région</td>\n",
       "      <td>POINT (2.413969 48.93915)</td>\n",
       "    </tr>\n",
       "    <tr>\n",
       "      <th>3</th>\n",
       "      <td>80126_24311</td>\n",
       "      <td>80126_24311</td>\n",
       "      <td>mixte</td>\n",
       "      <td>2023-08-17</td>\n",
       "      <td>2023-08-17</td>\n",
       "      <td>BOUTTENCOURT</td>\n",
       "      <td>80126</td>\n",
       "      <td>DDT de la Somme</td>\n",
       "      <td>POINT (1.60458 49.94721)</td>\n",
       "    </tr>\n",
       "    <tr>\n",
       "      <th>4</th>\n",
       "      <td>61386_34635</td>\n",
       "      <td>Les Futiaux</td>\n",
       "      <td>friche d'habitat</td>\n",
       "      <td>2024-08-13</td>\n",
       "      <td>2024-08-13</td>\n",
       "      <td>Saint-Evroult-Notre-Dame-du-Bois</td>\n",
       "      <td>61386</td>\n",
       "      <td>EPF Normandie</td>\n",
       "      <td>POINT (0.4367191 48.79385)</td>\n",
       "    </tr>\n",
       "  </tbody>\n",
       "</table>\n",
       "</div>"
      ],
      "text/plain": [
       "       site_id           site_nom            site_type site_identif_date  \\\n",
       "0  61214_34555  rue de la garenne     friche d'habitat        2025-03-05   \n",
       "1  57097_23384           Sotralec  friche industrielle        2022-01-01   \n",
       "2  93027_35701        93027_35701                autre        2025-04-07   \n",
       "3  80126_24311        80126_24311                mixte        2023-08-17   \n",
       "4  61386_34635        Les Futiaux     friche d'habitat        2024-08-13   \n",
       "\n",
       "  site_actu_date                          comm_nom comm_insee  \\\n",
       "0     2025-03-05                           L'Aigle      61214   \n",
       "1     2022-01-01                    BOULAY-MOSELLE      57097   \n",
       "2     2025-04-07                      La Courneuve      93027   \n",
       "3     2023-08-17                      BOUTTENCOURT      80126   \n",
       "4     2024-08-13  Saint-Evroult-Notre-Dame-du-Bois      61386   \n",
       "\n",
       "              source_nom                   geompoint  \n",
       "0          EPF Normandie  POINT (0.6256966 48.76207)  \n",
       "1          EPF Grand Est    POINT (6.49563 49.17622)  \n",
       "2  Institut Paris Région   POINT (2.413969 48.93915)  \n",
       "3        DDT de la Somme    POINT (1.60458 49.94721)  \n",
       "4          EPF Normandie  POINT (0.4367191 48.79385)  "
      ]
     },
     "execution_count": 24,
     "metadata": {},
     "output_type": "execute_result"
    }
   ],
   "source": [
    "# Liste exacte des colonnes obligatoires selon Cartofriches\n",
    "colonnes_obligatoires = [\n",
    "    \"site_id\", \"site_nom\", \"site_type\",\n",
    "    \"site_identif_date\", \"site_actu_date\",\n",
    "    \"comm_nom\", \"comm_insee\",\n",
    "    \"source_nom\", \"geompoint\"\n",
    "]\n",
    "\n",
    "# Chargement uniquement de ces colonnes\n",
    "df_obligatoires = pd.read_csv(\n",
    "    r\"C:\\Users\\rovar\\Downloads\\friches-standard.csv\",\n",
    "    sep=\";\",                      # adapte si besoin\n",
    "    usecols=colonnes_obligatoires,\n",
    "    encoding=\"utf-8-sig\",         # change si tu as des caractères bizarres\n",
    "    low_memory=False\n",
    ")\n",
    "\n",
    "df_obligatoires.head(5)"
   ]
  },
  {
   "cell_type": "code",
   "execution_count": 25,
   "id": "ea09a66e-e001-4094-b8c6-c726eeda88d5",
   "metadata": {
    "jupyter": {
     "source_hidden": true
    }
   },
   "outputs": [
    {
     "data": {
      "text/plain": [
       "site_id                0\n",
       "site_nom               0\n",
       "site_type              0\n",
       "site_identif_date      0\n",
       "site_actu_date         0\n",
       "comm_nom             132\n",
       "comm_insee           132\n",
       "source_nom             0\n",
       "geompoint              0\n",
       "dtype: int64"
      ]
     },
     "execution_count": 25,
     "metadata": {},
     "output_type": "execute_result"
    }
   ],
   "source": [
    "#valeurs manquantes sur les colonnes obligatoires:\n",
    "df_obligatoires.isna().sum()\n",
    "#Redéfinir pourquoi les colonnes sont obligatoires"
   ]
  },
  {
   "cell_type": "code",
   "execution_count": 26,
   "id": "079160fd-23ea-4f78-9b78-21bd1d2118f4",
   "metadata": {
    "jupyter": {
     "source_hidden": true
    }
   },
   "outputs": [
    {
     "name": "stdout",
     "output_type": "stream",
     "text": [
      "Les lignes manquantes sont-elles identiques : True\n",
      "Nombre de lignes concernées : 132\n"
     ]
    }
   ],
   "source": [
    "# Vérification des lignes manquantes\n",
    "missing_comm_nom = df_obligatoires[\"comm_nom\"].isnull()\n",
    "missing_comm_insee = df_obligatoires[\"comm_insee\"].isnull()\n",
    "\n",
    "# Vérifie si les lignes sont les mêmes\n",
    "same_missing = (missing_comm_nom == missing_comm_insee).all()\n",
    "matching_indices = df_obligatoires[missing_comm_nom & missing_comm_insee].index.tolist()\n",
    "\n",
    "print(\"Les lignes manquantes sont-elles identiques :\", same_missing)\n",
    "print(\"Nombre de lignes concernées :\", len(matching_indices))"
   ]
  },
  {
   "cell_type": "markdown",
   "id": "600bd1d0-b4e0-4bf8-b89a-e299c6d4c5fb",
   "metadata": {},
   "source": [
    "ref : https://www.bing.com/search?pglt=297&q=urbansimul&cvid=82b30ecbddb849a39757db90987acd2d&gs_lcrp=EgRlZGdlKgYIABBFGDkyBggAEEUYOTIGCAEQABhAMgYIAhAAGEAyBggDEAAYQDIGCAQQABhA0gEIMTU3MGowajGoAgCwAgA&FORM=ANNTA1&PC=DCTS"
   ]
  },
  {
   "cell_type": "markdown",
   "id": "e0ab1adc-0fb5-42ee-ae42-dcd32c01b167",
   "metadata": {},
   "source": [
    "## Annexe\n",
    "🔍 Sigles fréquents et leur signification\n",
    "|Sigle|\tNom complet|\tRôle principal|\n",
    "|-----|------------|------------------|\n",
    "|EPF\t|Établissement Public Foncier\t|Opérateur foncier public (rachète, gère, réhabilite les friches)\n",
    "|DDT\t|Direction Départementale des Territoires\t|Services de l’État à l’échelle départementale (aménagement, foncier, urbanisme)\n",
    "|DREAL\t|Direction Régionale de l’Environnement, de l’Aménagement et du Logement\t|Coordination régionale pour l'environnement, urbanisme, risques\n",
    "|ADEME\t|Agence de la Transition Écologique\t|Études et accompagnement sur les friches, pollutions, reconversions\n",
    "|BRGM\t|Bureau de Recherches Géologiques et Minières\t|Expertise sol, pollution, géorisques ; édite les fiches pollution\n",
    "|CEREMA\t|Centre d'Études et d'Expertise sur les Risques, l’Environnement, la Mobilité et l’Aménagement\t|Appui technique aux territoires (carto, friches, observatoires)\n",
    "|IGN\t|Institut national de l'information géographique et forestière\t|Fournisseur de données spatiales et cartographiques\n",
    "|ANCT\t|Agence Nationale de la Cohésion des Territoires\t|Soutien aux collectivités pour l'aménagement, la reconversion\n",
    "|DEAL\t|Direction de l’Environnement, de l’Aménagement et du Logement (en Outre-mer)\t|Équivalent DREAL dans les DOM-TOM\n",
    "|Insee\t|Institut national de la statistique et des études économiques\t|Données démographiques, socio-éco, INSEE codes (communes, etc.)\n",
    "|Basias\t|Base de données des Anciens Sites Industriels et Activités de Service\t|Inventaire des sites industriels potentiellement pollués\n",
    "|Basol\t|Base des Sites et Sols Pollués\t|Sites nécessitant une action de l’État ou un suivi réglementaire\n",
    "|Cartofriche\t|Plateforme de visualisation des friches\t|Portail de consultation des données Cerema, ADEME, etc.\n",
    "|Géorisques\t|Portail d'information sur les risques naturels et technologiques\t|Données BRGM, fiches pollution, mouvements de terrain, etc."
   ]
  },
  {
   "cell_type": "code",
   "execution_count": null,
   "id": "8e02a748-31e0-4657-8e53-d84aa4318a95",
   "metadata": {
    "jupyter": {
     "source_hidden": true
    }
   },
   "outputs": [],
   "source": []
  },
  {
   "cell_type": "code",
   "execution_count": null,
   "id": "0436152e-8b9b-4461-947d-5d00b372289e",
   "metadata": {
    "jupyter": {
     "source_hidden": true
    }
   },
   "outputs": [],
   "source": []
  }
 ],
 "metadata": {
  "kernelspec": {
   "display_name": "Python [conda env:base] *",
   "language": "python",
   "name": "conda-base-py"
  },
  "language_info": {
   "codemirror_mode": {
    "name": "ipython",
    "version": 3
   },
   "file_extension": ".py",
   "mimetype": "text/x-python",
   "name": "python",
   "nbconvert_exporter": "python",
   "pygments_lexer": "ipython3",
   "version": "3.12.7"
  }
 },
 "nbformat": 4,
 "nbformat_minor": 5
}
